{
 "cells": [
  {
   "cell_type": "markdown",
   "id": "5a093857",
   "metadata": {},
   "source": [
    "# Movies"
   ]
  },
  {
   "cell_type": "markdown",
   "id": "c0a8cf28",
   "metadata": {},
   "source": [
    "You need to study the Russian film distribution market and identify current trends. Pay attention to the films that have received government support."
   ]
  },
  {
   "cell_type": "markdown",
   "id": "9370ea84",
   "metadata": {
    "id": "sIfNaMOxgFyK"
   },
   "source": [
    "## Exploratory data analisys of data on the Russian film distribution\n",
    "\n"
   ]
  },
  {
   "cell_type": "markdown",
   "id": "2a8df094",
   "metadata": {
    "id": "3bSlkCsbgFyL"
   },
   "source": [
    "### Step 1. Open the data files and combine them into one dataframe.\n",
    "\n",
    "Combine the data in such a way that all objects from the `mkrf_movies` dataset are necessarily included in the resulting dataframe."
   ]
  },
  {
   "cell_type": "markdown",
   "id": "c4c26adf",
   "metadata": {},
   "source": [
    "Importing the necessary libraries"
   ]
  },
  {
   "cell_type": "code",
   "execution_count": 1,
   "id": "38a3caef",
   "metadata": {
    "id": "dw87FlzMgFyM",
    "scrolled": true
   },
   "outputs": [],
   "source": [
    "import numpy as np\n",
    "import pandas as pd\n",
    "import seaborn as sns\n",
    "\n",
    "from matplotlib import pyplot as plt"
   ]
  },
  {
   "cell_type": "markdown",
   "id": "d39dfc6c",
   "metadata": {},
   "source": [
    "Unloading both dataframes"
   ]
  },
  {
   "cell_type": "code",
   "execution_count": 3,
   "id": "f76de915",
   "metadata": {},
   "outputs": [
    {
     "data": {
      "text/html": [
       "<div>\n",
       "<style scoped>\n",
       "    .dataframe tbody tr th:only-of-type {\n",
       "        vertical-align: middle;\n",
       "    }\n",
       "\n",
       "    .dataframe tbody tr th {\n",
       "        vertical-align: top;\n",
       "    }\n",
       "\n",
       "    .dataframe thead th {\n",
       "        text-align: right;\n",
       "    }\n",
       "</style>\n",
       "<table border=\"1\" class=\"dataframe\">\n",
       "  <thead>\n",
       "    <tr style=\"text-align: right;\">\n",
       "      <th></th>\n",
       "      <th>title</th>\n",
       "      <th>puNumber</th>\n",
       "      <th>show_start_date</th>\n",
       "      <th>type</th>\n",
       "      <th>film_studio</th>\n",
       "      <th>production_country</th>\n",
       "      <th>director</th>\n",
       "      <th>producer</th>\n",
       "      <th>age_restriction</th>\n",
       "      <th>refundable_support</th>\n",
       "      <th>nonrefundable_support</th>\n",
       "      <th>budget</th>\n",
       "      <th>financing_source</th>\n",
       "      <th>ratings</th>\n",
       "      <th>genres</th>\n",
       "    </tr>\n",
       "  </thead>\n",
       "  <tbody>\n",
       "    <tr>\n",
       "      <th>804</th>\n",
       "      <td>Паранормальный Якутск</td>\n",
       "      <td>111004112</td>\n",
       "      <td>2012-08-24T12:00:00.000Z</td>\n",
       "      <td>Художественный</td>\n",
       "      <td>ИП Тимофеев К.П.</td>\n",
       "      <td>Россия</td>\n",
       "      <td>К.Тимофеев</td>\n",
       "      <td>NaN</td>\n",
       "      <td>«16+» - для детей старше 16 лет</td>\n",
       "      <td>NaN</td>\n",
       "      <td>NaN</td>\n",
       "      <td>NaN</td>\n",
       "      <td>NaN</td>\n",
       "      <td>NaN</td>\n",
       "      <td>NaN</td>\n",
       "    </tr>\n",
       "    <tr>\n",
       "      <th>3962</th>\n",
       "      <td>Небесный тихоход (новая цветная версия)</td>\n",
       "      <td>111000110</td>\n",
       "      <td>2010-01-14T12:00:00.000Z</td>\n",
       "      <td>Художественный</td>\n",
       "      <td>Киностудия \"Ленфильм\", ЗАО \"Киновидеообъединен...</td>\n",
       "      <td>СССР, Россия</td>\n",
       "      <td>И.Цветов (режиссер ч/б фильма - С.Тимошенко)</td>\n",
       "      <td>ЗАО \"Киновидеообъединение \"Крупный план\"</td>\n",
       "      <td>«0+» - для любой зрительской аудитории</td>\n",
       "      <td>NaN</td>\n",
       "      <td>NaN</td>\n",
       "      <td>NaN</td>\n",
       "      <td>NaN</td>\n",
       "      <td>8.0</td>\n",
       "      <td>комедия,военный</td>\n",
       "    </tr>\n",
       "    <tr>\n",
       "      <th>4768</th>\n",
       "      <td>И не было лучше брата</td>\n",
       "      <td>111000111</td>\n",
       "      <td>2011-01-13T12:00:00.000Z</td>\n",
       "      <td>Художественный</td>\n",
       "      <td>ООО \"Ибрус\"  при поддержке Киностудии \"Азербай...</td>\n",
       "      <td>Россия - Азербайджан</td>\n",
       "      <td>М.Ибрагимбеков</td>\n",
       "      <td>М.Ибрагимбеков, А.Швыдкой, Д.Шуфутинский</td>\n",
       "      <td>«16+» - для детей старше 16 лет</td>\n",
       "      <td>NaN</td>\n",
       "      <td>NaN</td>\n",
       "      <td>NaN</td>\n",
       "      <td>NaN</td>\n",
       "      <td>6.7</td>\n",
       "      <td>детектив</td>\n",
       "    </tr>\n",
       "    <tr>\n",
       "      <th>729</th>\n",
       "      <td>Детский юмористический киножурнал \"Ералаш\", вы...</td>\n",
       "      <td>111000112</td>\n",
       "      <td>2012-01-16T12:00:00.000Z</td>\n",
       "      <td>Художественный</td>\n",
       "      <td>ООО \"Ералаш\"</td>\n",
       "      <td>Россия</td>\n",
       "      <td>В.Панжев, Г.Курлаев, И.Белостоцкий, М.Сулейман...</td>\n",
       "      <td>ООО \"Ералаш\"</td>\n",
       "      <td>«0+» - для любой зрительской аудитории</td>\n",
       "      <td>NaN</td>\n",
       "      <td>NaN</td>\n",
       "      <td>NaN</td>\n",
       "      <td>NaN</td>\n",
       "      <td>7.2</td>\n",
       "      <td>детский,комедия</td>\n",
       "    </tr>\n",
       "    <tr>\n",
       "      <th>1128</th>\n",
       "      <td>Тайна перевала Дятлова</td>\n",
       "      <td>111000113</td>\n",
       "      <td>2013-01-17T12:00:00.000Z</td>\n",
       "      <td>Художественный</td>\n",
       "      <td>ООО \"Нон-Стоп Продакшн\"</td>\n",
       "      <td>Россия</td>\n",
       "      <td>Ренни Харлин</td>\n",
       "      <td>А.Роднянский, С.Мелькумов, С.Беспалов, Киа Джэм</td>\n",
       "      <td>«16+» - для детей старше 16 лет</td>\n",
       "      <td>NaN</td>\n",
       "      <td>NaN</td>\n",
       "      <td>NaN</td>\n",
       "      <td>NaN</td>\n",
       "      <td>5.1</td>\n",
       "      <td>ужасы,фантастика</td>\n",
       "    </tr>\n",
       "  </tbody>\n",
       "</table>\n",
       "</div>"
      ],
      "text/plain": [
       "                                                  title    puNumber  \\\n",
       "804                               Паранормальный Якутск   111004112   \n",
       "3962            Небесный тихоход (новая цветная версия)   111000110   \n",
       "4768                              И не было лучше брата   111000111   \n",
       "729   Детский юмористический киножурнал \"Ералаш\", вы...   111000112   \n",
       "1128                             Тайна перевала Дятлова   111000113   \n",
       "\n",
       "               show_start_date            type  \\\n",
       "804   2012-08-24T12:00:00.000Z  Художественный   \n",
       "3962  2010-01-14T12:00:00.000Z  Художественный   \n",
       "4768  2011-01-13T12:00:00.000Z  Художественный   \n",
       "729   2012-01-16T12:00:00.000Z  Художественный   \n",
       "1128  2013-01-17T12:00:00.000Z  Художественный   \n",
       "\n",
       "                                            film_studio    production_country  \\\n",
       "804                                    ИП Тимофеев К.П.                Россия   \n",
       "3962  Киностудия \"Ленфильм\", ЗАО \"Киновидеообъединен...          СССР, Россия   \n",
       "4768  ООО \"Ибрус\"  при поддержке Киностудии \"Азербай...  Россия - Азербайджан   \n",
       "729                                        ООО \"Ералаш\"                Россия   \n",
       "1128                            ООО \"Нон-Стоп Продакшн\"                Россия   \n",
       "\n",
       "                                               director  \\\n",
       "804                                          К.Тимофеев   \n",
       "3962       И.Цветов (режиссер ч/б фильма - С.Тимошенко)   \n",
       "4768                                     М.Ибрагимбеков   \n",
       "729   В.Панжев, Г.Курлаев, И.Белостоцкий, М.Сулейман...   \n",
       "1128                                       Ренни Харлин   \n",
       "\n",
       "                                             producer  \\\n",
       "804                                               NaN   \n",
       "3962         ЗАО \"Киновидеообъединение \"Крупный план\"   \n",
       "4768         М.Ибрагимбеков, А.Швыдкой, Д.Шуфутинский   \n",
       "729                                      ООО \"Ералаш\"   \n",
       "1128  А.Роднянский, С.Мелькумов, С.Беспалов, Киа Джэм   \n",
       "\n",
       "                             age_restriction  refundable_support  \\\n",
       "804          «16+» - для детей старше 16 лет                 NaN   \n",
       "3962  «0+» - для любой зрительской аудитории                 NaN   \n",
       "4768         «16+» - для детей старше 16 лет                 NaN   \n",
       "729   «0+» - для любой зрительской аудитории                 NaN   \n",
       "1128         «16+» - для детей старше 16 лет                 NaN   \n",
       "\n",
       "      nonrefundable_support  budget financing_source ratings            genres  \n",
       "804                     NaN     NaN              NaN     NaN               NaN  \n",
       "3962                    NaN     NaN              NaN     8.0   комедия,военный  \n",
       "4768                    NaN     NaN              NaN     6.7          детектив  \n",
       "729                     NaN     NaN              NaN     7.2   детский,комедия  \n",
       "1128                    NaN     NaN              NaN     5.1  ужасы,фантастика  "
      ]
     },
     "execution_count": 3,
     "metadata": {},
     "output_type": "execute_result"
    }
   ],
   "source": [
    "movies.sort_values('puNumber').head()"
   ]
  },
  {
   "cell_type": "code",
   "execution_count": 4,
   "id": "acb41bf8",
   "metadata": {
    "scrolled": true
   },
   "outputs": [],
   "source": [
    "shows = pd.read_csv('https://code.s3.yandex.net/datasets/mkrf_shows.csv')\n",
    "pd.options.display.float_format = '{:,.1f}'.format"
   ]
  },
  {
   "cell_type": "code",
   "execution_count": 5,
   "id": "d80b9aa4",
   "metadata": {},
   "outputs": [
    {
     "data": {
      "text/html": [
       "<div>\n",
       "<style scoped>\n",
       "    .dataframe tbody tr th:only-of-type {\n",
       "        vertical-align: middle;\n",
       "    }\n",
       "\n",
       "    .dataframe tbody tr th {\n",
       "        vertical-align: top;\n",
       "    }\n",
       "\n",
       "    .dataframe thead th {\n",
       "        text-align: right;\n",
       "    }\n",
       "</style>\n",
       "<table border=\"1\" class=\"dataframe\">\n",
       "  <thead>\n",
       "    <tr style=\"text-align: right;\">\n",
       "      <th></th>\n",
       "      <th>puNumber</th>\n",
       "      <th>box_office</th>\n",
       "    </tr>\n",
       "  </thead>\n",
       "  <tbody>\n",
       "    <tr>\n",
       "      <th>0</th>\n",
       "      <td>111000113</td>\n",
       "      <td>2,450.0</td>\n",
       "    </tr>\n",
       "    <tr>\n",
       "      <th>1</th>\n",
       "      <td>111000115</td>\n",
       "      <td>61,040.0</td>\n",
       "    </tr>\n",
       "    <tr>\n",
       "      <th>2</th>\n",
       "      <td>111000116</td>\n",
       "      <td>153,030,013.4</td>\n",
       "    </tr>\n",
       "    <tr>\n",
       "      <th>3</th>\n",
       "      <td>111000117</td>\n",
       "      <td>12,260,956.0</td>\n",
       "    </tr>\n",
       "    <tr>\n",
       "      <th>4</th>\n",
       "      <td>111000118</td>\n",
       "      <td>163,684,057.8</td>\n",
       "    </tr>\n",
       "  </tbody>\n",
       "</table>\n",
       "</div>"
      ],
      "text/plain": [
       "    puNumber    box_office\n",
       "0  111000113       2,450.0\n",
       "1  111000115      61,040.0\n",
       "2  111000116 153,030,013.4\n",
       "3  111000117  12,260,956.0\n",
       "4  111000118 163,684,057.8"
      ]
     },
     "execution_count": 5,
     "metadata": {},
     "output_type": "execute_result"
    }
   ],
   "source": [
    "shows.head()"
   ]
  },
  {
   "cell_type": "markdown",
   "id": "f82fee3d",
   "metadata": {},
   "source": [
    "Checking the size of the tables"
   ]
  },
  {
   "cell_type": "code",
   "execution_count": 6,
   "id": "553b21ef",
   "metadata": {
    "scrolled": true
   },
   "outputs": [
    {
     "data": {
      "text/plain": [
       "(7486, 15)"
      ]
     },
     "execution_count": 6,
     "metadata": {},
     "output_type": "execute_result"
    }
   ],
   "source": [
    "movies.shape"
   ]
  },
  {
   "cell_type": "code",
   "execution_count": 7,
   "id": "0bf4ce6f",
   "metadata": {
    "scrolled": true
   },
   "outputs": [
    {
     "data": {
      "text/plain": [
       "(3158, 2)"
      ]
     },
     "execution_count": 7,
     "metadata": {},
     "output_type": "execute_result"
    }
   ],
   "source": [
    "shows.shape"
   ]
  },
  {
   "cell_type": "markdown",
   "id": "32e6cb72",
   "metadata": {},
   "source": [
    "When trying to merge tables, an error appeared, which indicates that it is impossible to combine data due to different types in the puNumber column"
   ]
  },
  {
   "cell_type": "code",
   "execution_count": 8,
   "id": "17f88a1e",
   "metadata": {},
   "outputs": [
    {
     "name": "stdout",
     "output_type": "stream",
     "text": [
      "<class 'pandas.core.frame.DataFrame'>\n",
      "RangeIndex: 7486 entries, 0 to 7485\n",
      "Data columns (total 15 columns):\n",
      " #   Column                 Non-Null Count  Dtype  \n",
      "---  ------                 --------------  -----  \n",
      " 0   title                  7486 non-null   object \n",
      " 1   puNumber               7486 non-null   object \n",
      " 2   show_start_date        7486 non-null   object \n",
      " 3   type                   7486 non-null   object \n",
      " 4   film_studio            7468 non-null   object \n",
      " 5   production_country     7484 non-null   object \n",
      " 6   director               7477 non-null   object \n",
      " 7   producer               6918 non-null   object \n",
      " 8   age_restriction        7486 non-null   object \n",
      " 9   refundable_support     332 non-null    float64\n",
      " 10  nonrefundable_support  332 non-null    float64\n",
      " 11  budget                 332 non-null    float64\n",
      " 12  financing_source       332 non-null    object \n",
      " 13  ratings                6519 non-null   object \n",
      " 14  genres                 6510 non-null   object \n",
      "dtypes: float64(3), object(12)\n",
      "memory usage: 877.4+ KB\n"
     ]
    }
   ],
   "source": [
    "movies.info()"
   ]
  },
  {
   "cell_type": "code",
   "execution_count": 9,
   "id": "ded1f6fd",
   "metadata": {
    "scrolled": true
   },
   "outputs": [
    {
     "name": "stdout",
     "output_type": "stream",
     "text": [
      "<class 'pandas.core.frame.DataFrame'>\n",
      "RangeIndex: 3158 entries, 0 to 3157\n",
      "Data columns (total 2 columns):\n",
      " #   Column      Non-Null Count  Dtype  \n",
      "---  ------      --------------  -----  \n",
      " 0   puNumber    3158 non-null   int64  \n",
      " 1   box_office  3158 non-null   float64\n",
      "dtypes: float64(1), int64(1)\n",
      "memory usage: 49.5 KB\n"
     ]
    }
   ],
   "source": [
    "shows.info()"
   ]
  },
  {
   "cell_type": "markdown",
   "id": "98e0bb99",
   "metadata": {},
   "source": [
    "There is a difference between the data types. The data type in the movies dataframe also just didn't change to int32 because of the text value. Let's try to find it by sorting the data"
   ]
  },
  {
   "cell_type": "code",
   "execution_count": 10,
   "id": "d92307f6",
   "metadata": {},
   "outputs": [
    {
     "data": {
      "text/plain": [
       "804      111004112\n",
       "3962     111000110\n",
       "4768     111000111\n",
       "729      111000112\n",
       "1128     111000113\n",
       "           ...    \n",
       "4355     226017410\n",
       "3992     226019110\n",
       "1011     231001012\n",
       "5249     231001111\n",
       "1797           нет\n",
       "Name: puNumber, Length: 7486, dtype: object"
      ]
     },
     "execution_count": 10,
     "metadata": {},
     "output_type": "execute_result"
    }
   ],
   "source": [
    "movies['puNumber'].sort_values()"
   ]
  },
  {
   "cell_type": "markdown",
   "id": "cb5b8592",
   "metadata": {},
   "source": [
    "We found the value \"no\". Let's check what's with the data in this row"
   ]
  },
  {
   "cell_type": "code",
   "execution_count": 11,
   "id": "fbb93f7b",
   "metadata": {
    "scrolled": true
   },
   "outputs": [],
   "source": [
    "movies['puNumber'] = movies['puNumber'].replace('нет', '0')"
   ]
  },
  {
   "cell_type": "markdown",
   "id": "f4b76b2b",
   "metadata": {},
   "source": [
    "Since the task requires saving all the data in the movies table, we will change the data type in the movies table in the puNumber column"
   ]
  },
  {
   "cell_type": "code",
   "execution_count": 12,
   "id": "c171c1e1",
   "metadata": {},
   "outputs": [],
   "source": [
    "movies['puNumber'] = movies['puNumber'].astype('int64')"
   ]
  },
  {
   "cell_type": "code",
   "execution_count": 13,
   "id": "aa7cd946",
   "metadata": {},
   "outputs": [
    {
     "data": {
      "text/plain": [
       "Index(['title', 'puNumber', 'show_start_date', 'type', 'film_studio',\n",
       "       'production_country', 'director', 'producer', 'age_restriction',\n",
       "       'refundable_support', 'nonrefundable_support', 'budget',\n",
       "       'financing_source', 'ratings', 'genres', 'box_office'],\n",
       "      dtype='object')"
      ]
     },
     "execution_count": 13,
     "metadata": {},
     "output_type": "execute_result"
    }
   ],
   "source": [
    "df = movies.merge(shows, on='puNumber', how='left')\n",
    "df.columns"
   ]
  },
  {
   "cell_type": "markdown",
   "id": "44d0f3d1",
   "metadata": {
    "id": "KLDGpPG0gFyM"
   },
   "source": [
    "### Step 2. Data Preprocessing"
   ]
  },
  {
   "cell_type": "markdown",
   "id": "1d22aef2",
   "metadata": {
    "id": "ssWwKXsxgFyO"
   },
   "source": [
    "#### Step 2.1. Check the data types\n",
    "\n",
    "- Check the data types in the date frame and convert them where necessary."
   ]
  },
  {
   "cell_type": "code",
   "execution_count": 14,
   "id": "1d257b9a",
   "metadata": {
    "id": "kVGSplJOgFyO",
    "scrolled": true
   },
   "outputs": [
    {
     "name": "stdout",
     "output_type": "stream",
     "text": [
      "<class 'pandas.core.frame.DataFrame'>\n",
      "Int64Index: 7486 entries, 0 to 7485\n",
      "Data columns (total 16 columns):\n",
      " #   Column                 Non-Null Count  Dtype  \n",
      "---  ------                 --------------  -----  \n",
      " 0   title                  7486 non-null   object \n",
      " 1   puNumber               7486 non-null   int64  \n",
      " 2   show_start_date        7486 non-null   object \n",
      " 3   type                   7486 non-null   object \n",
      " 4   film_studio            7468 non-null   object \n",
      " 5   production_country     7484 non-null   object \n",
      " 6   director               7477 non-null   object \n",
      " 7   producer               6918 non-null   object \n",
      " 8   age_restriction        7486 non-null   object \n",
      " 9   refundable_support     332 non-null    float64\n",
      " 10  nonrefundable_support  332 non-null    float64\n",
      " 11  budget                 332 non-null    float64\n",
      " 12  financing_source       332 non-null    object \n",
      " 13  ratings                6519 non-null   object \n",
      " 14  genres                 6510 non-null   object \n",
      " 15  box_office             3158 non-null   float64\n",
      "dtypes: float64(4), int64(1), object(11)\n",
      "memory usage: 994.2+ KB\n"
     ]
    }
   ],
   "source": [
    "df.info()"
   ]
  },
  {
   "cell_type": "markdown",
   "id": "dcd09b60",
   "metadata": {},
   "source": [
    "First of all, you need to change the show_start_date data type from object to datetime64[ns]. But before that, it is necessary to correct the value in the column and discard the extra 5 characters"
   ]
  },
  {
   "cell_type": "code",
   "execution_count": 15,
   "id": "01ab4920",
   "metadata": {},
   "outputs": [
    {
     "data": {
      "text/plain": [
       "array(['2015-11-27T12:00:00.000Z', '2016-09-13T12:00:00.000Z',\n",
       "       '2016-10-10T12:00:00.000Z', ..., '2019-12-24T12:00:00.000Z',\n",
       "       '2019-12-28T12:00:00.000Z', '2019-12-30T12:00:00.000Z'],\n",
       "      dtype=object)"
      ]
     },
     "execution_count": 15,
     "metadata": {},
     "output_type": "execute_result"
    }
   ],
   "source": [
    "df['show_start_date'].unique()"
   ]
  },
  {
   "cell_type": "code",
   "execution_count": 16,
   "id": "fc513c72",
   "metadata": {},
   "outputs": [],
   "source": [
    "df['show_start_date'] = df['show_start_date'].str.replace('.000Z', '', regex=True)"
   ]
  },
  {
   "cell_type": "code",
   "execution_count": 17,
   "id": "86719dae",
   "metadata": {
    "scrolled": true
   },
   "outputs": [
    {
     "data": {
      "text/plain": [
       "0      2015-11-27 12:00:00\n",
       "1      2016-09-13 12:00:00\n",
       "2      2016-10-10 12:00:00\n",
       "3      2016-06-10 12:00:00\n",
       "4      2015-07-29 12:00:00\n",
       "               ...        \n",
       "7481   2019-12-23 12:00:00\n",
       "7482   2019-12-24 12:00:00\n",
       "7483   2019-12-28 12:00:00\n",
       "7484   2019-12-30 12:00:00\n",
       "7485   2019-12-30 12:00:00\n",
       "Name: show_start_date, Length: 7486, dtype: datetime64[ns]"
      ]
     },
     "execution_count": 17,
     "metadata": {},
     "output_type": "execute_result"
    }
   ],
   "source": [
    "df['show_start_date'] = pd.to_datetime(df['show_start_date'], format='%Y-%m-%d %H:%M')\n",
    "df['show_start_date']"
   ]
  },
  {
   "cell_type": "markdown",
   "id": "7377250e",
   "metadata": {},
   "source": [
    "You also need to change the data type in the rating column. To do this, you first need to bring the data to one view. Let's bring everything to an assessment on a 10-point scale"
   ]
  },
  {
   "cell_type": "code",
   "execution_count": 18,
   "id": "790adb34",
   "metadata": {},
   "outputs": [
    {
     "data": {
      "text/plain": [
       "array(['7.2', '6.6', '6.8', '7.7', '8.3', '8.0', '7.8', '8.1', '7.1',\n",
       "       '6.0', '7.4', '5.8', '8.7', '6.3', '6.9', '5.0', '4.3', '7.3',\n",
       "       '7.0', '6.4', nan, '8.2', '7.5', '6.7', '7.9', '5.9', '6.2', '5.6',\n",
       "       '6.5', '2.4', '7.6', '6.1', '8.6', '8.5', '8.8', '5.5', '5.1',\n",
       "       '5.7', '5.4', '99%', '4.4', '4.5', '5.3', '4.1', '8.4', '2.6',\n",
       "       '3.8', '4.6', '4.8', '4.0', '3.0', '1.6', '4.2', '5.2', '4.7',\n",
       "       '4.9', '3.9', '2.7', '3.3', '2.9', '28%', '3.7', '1.4', '3.1',\n",
       "       '97%', '3.5', '3.2', '2.8', '1.5', '2.1', '2.5', '9.2', '3.4',\n",
       "       '1.1', '3.6', '83%', '64%', '91%', '94%', '62%', '79%', '90%',\n",
       "       '19%', '88%', '1.0', '89%', '1.3', '1.9', '1.8', '1.2', '1.7',\n",
       "       '9.0', '98%', '8.9', '9.1'], dtype=object)"
      ]
     },
     "execution_count": 18,
     "metadata": {},
     "output_type": "execute_result"
    }
   ],
   "source": [
    "#unique values before correction\n",
    "df['ratings'].unique()"
   ]
  },
  {
   "cell_type": "code",
   "execution_count": 19,
   "id": "dd9c69e5",
   "metadata": {},
   "outputs": [
    {
     "data": {
      "text/plain": [
       "array([7.2, 6.6, 6.8, 7.7, 8.3, 8. , 7.8, 8.1, 7.1, 6. , 7.4, 5.8, 8.7,\n",
       "       6.3, 6.9, 5. , 4.3, 7.3, 7. , 6.4, nan, 8.2, 7.5, 6.7, 7.9, 5.9,\n",
       "       6.2, 5.6, 6.5, 2.4, 7.6, 6.1, 8.6, 8.5, 8.8, 5.5, 5.1, 5.7, 5.4,\n",
       "       9.9, 4.4, 4.5, 5.3, 4.1, 8.4, 2.6, 3.8, 4.6, 4.8, 4. , 3. , 1.6,\n",
       "       4.2, 5.2, 4.7, 4.9, 3.9, 2.7, 3.3, 2.9, 2.8, 3.7, 1.4, 3.1, 9.7,\n",
       "       3.5, 3.2, 1.5, 2.1, 2.5, 9.2, 3.4, 1.1, 3.6, 9.1, 9.4, 9. , 1.9,\n",
       "       1. , 8.9, 1.3, 1.8, 1.2, 1.7, 9.8])"
      ]
     },
     "execution_count": 19,
     "metadata": {},
     "output_type": "execute_result"
    }
   ],
   "source": [
    "df['ratings'] = df['ratings'].replace('%', '', regex=True)\n",
    "df['ratings'] = df['ratings'].astype('float')\n",
    "df.loc[df['ratings'] > 10, 'ratings'] = df.loc[df['ratings'] > 10, 'ratings'] / 10\n",
    "df['ratings'].unique()"
   ]
  },
  {
   "cell_type": "markdown",
   "id": "51aed5ef",
   "metadata": {
    "id": "i0MOLbF-gFyP"
   },
   "source": [
    "#### Step 2.2. Examine the gaps in the dataframe\n",
    "\n",
    "- Explain why you filled in the blanks in a certain way or why you didn't do it."
   ]
  },
  {
   "cell_type": "code",
   "execution_count": 20,
   "id": "6f49c182",
   "metadata": {
    "id": "8MJD_lkngFyP",
    "scrolled": true
   },
   "outputs": [
    {
     "data": {
      "text/plain": [
       "refundable_support       7154\n",
       "nonrefundable_support    7154\n",
       "budget                   7154\n",
       "financing_source         7154\n",
       "box_office               4328\n",
       "genres                    976\n",
       "ratings                   967\n",
       "producer                  568\n",
       "film_studio                18\n",
       "director                    9\n",
       "production_country          2\n",
       "title                       0\n",
       "puNumber                    0\n",
       "show_start_date             0\n",
       "type                        0\n",
       "age_restriction             0\n",
       "dtype: int64"
      ]
     },
     "execution_count": 20,
     "metadata": {},
     "output_type": "execute_result"
    }
   ],
   "source": [
    "df.isna().sum().sort_values(ascending=False)"
   ]
  },
  {
   "cell_type": "code",
   "execution_count": 21,
   "id": "8f9d96d7",
   "metadata": {},
   "outputs": [
    {
     "data": {
      "text/plain": [
       "array([         nan, 0.000000e+00, 5.000000e+07, 2.600000e+07,\n",
       "       3.000000e+07, 1.500000e+07, 1.000000e+07, 2.000000e+07,\n",
       "       7.153119e+06, 2.500000e+07, 4.000000e+07, 6.000000e+07,\n",
       "       4.400000e+07, 2.900000e+07, 4.100000e+07, 3.600000e+07,\n",
       "       3.500000e+06, 5.000000e+06, 1.900000e+07, 9.000000e+06,\n",
       "       1.100000e+08, 1.700000e+07, 7.500000e+07, 1.500000e+08,\n",
       "       3.800000e+07, 1.000000e+08, 5.500000e+07, 7.000000e+06,\n",
       "       7.346881e+06, 8.000000e+06, 1.150000e+08, 3.500000e+07,\n",
       "       1.800000e+08, 2.800000e+07, 8.000000e+07])"
      ]
     },
     "execution_count": 21,
     "metadata": {},
     "output_type": "execute_result"
    }
   ],
   "source": [
    "df['refundable_support'].unique()"
   ]
  },
  {
   "cell_type": "markdown",
   "id": "3b84be7c",
   "metadata": {},
   "source": [
    "Replace the missing values in the refundable_support, non-refundable_support, budget columns with -1"
   ]
  },
  {
   "cell_type": "code",
   "execution_count": 22,
   "id": "e02e9ab4",
   "metadata": {},
   "outputs": [],
   "source": [
    "df['refundable_support'] = df['refundable_support'].fillna(-1)"
   ]
  },
  {
   "cell_type": "code",
   "execution_count": 23,
   "id": "123d7253",
   "metadata": {
    "scrolled": true
   },
   "outputs": [
    {
     "data": {
      "text/plain": [
       "array([           nan, 2.65000000e+07, 2.60000000e+07, 1.07847945e+08,\n",
       "       2.80000000e+07, 2.50000000e+07, 1.00000000e+08, 4.65022990e+07,\n",
       "       7.50000000e+07, 3.40000000e+07, 3.00000000e+07, 4.00000000e+07,\n",
       "       2.30000000e+07, 4.50000000e+07, 5.65790550e+07, 2.55000000e+07,\n",
       "       2.75100000e+07, 1.00000000e+07, 2.40000000e+07, 2.45000000e+07,\n",
       "       2.70000000e+07, 5.00000000e+06, 9.00000000e+07, 2.00000000e+07,\n",
       "       7.00000000e+07, 9.70000000e+07, 2.44500000e+07, 5.00000000e+07,\n",
       "       0.00000000e+00, 6.00000000e+07, 2.75000000e+07, 2.69500000e+07,\n",
       "       1.10000000e+08, 1.50000000e+07, 5.90000000e+07, 2.50000000e+08,\n",
       "       3.70000000e+07, 3.50000000e+07, 2.01452850e+07, 2.59000000e+07,\n",
       "       6.00000000e+06, 3.92104482e+08, 2.52000000e+07, 2.29040000e+07,\n",
       "       2.90000000e+07, 5.10000000e+07, 4.70000000e+06, 5.30000000e+06,\n",
       "       2.17000000e+07, 2.49860000e+07, 2.53450000e+07, 1.33000000e+08,\n",
       "       1.75000000e+08, 3.01239150e+07, 2.85000000e+07, 3.00000000e+08,\n",
       "       4.15000000e+07, 2.00000000e+08, 1.50000000e+08, 5.50000000e+07,\n",
       "       6.40000000e+07, 5.00008660e+07, 1.15200000e+07, 1.90000000e+08,\n",
       "       2.25000000e+08, 8.00000000e+06, 4.00000000e+08, 2.60000000e+08,\n",
       "       3.10000000e+07, 8.50000000e+07, 8.00000000e+07, 1.38969465e+08,\n",
       "       1.20000000e+08, 1.30000000e+08, 1.40000000e+08, 3.00000000e+06])"
      ]
     },
     "execution_count": 23,
     "metadata": {},
     "output_type": "execute_result"
    }
   ],
   "source": [
    "df['nonrefundable_support'].unique()"
   ]
  },
  {
   "cell_type": "code",
   "execution_count": 24,
   "id": "709b5692",
   "metadata": {},
   "outputs": [],
   "source": [
    "df['nonrefundable_support'] = df['nonrefundable_support'].fillna(0)"
   ]
  },
  {
   "cell_type": "code",
   "execution_count": 25,
   "id": "6943e750",
   "metadata": {},
   "outputs": [],
   "source": [
    "df['budget'] = df['budget'].fillna(0)"
   ]
  },
  {
   "cell_type": "code",
   "execution_count": 26,
   "id": "706f611a",
   "metadata": {},
   "outputs": [
    {
     "data": {
      "text/plain": [
       "array([nan, 'Министерство культуры', 'Фонд кино',\n",
       "       'Министерство культуры, Фонд кино'], dtype=object)"
      ]
     },
     "execution_count": 26,
     "metadata": {},
     "output_type": "execute_result"
    }
   ],
   "source": [
    "df['financing_source'].unique()"
   ]
  },
  {
   "cell_type": "markdown",
   "id": "362fb8ad",
   "metadata": {},
   "source": [
    "Replace the missing values with \"no\""
   ]
  },
  {
   "cell_type": "code",
   "execution_count": 27,
   "id": "d3fe39b7",
   "metadata": {},
   "outputs": [],
   "source": [
    "df['financing_source'] = df['financing_source'].fillna('No')"
   ]
  },
  {
   "cell_type": "code",
   "execution_count": 28,
   "id": "8bd687ce",
   "metadata": {
    "scrolled": true
   },
   "outputs": [
    {
     "data": {
      "text/plain": [
       "box_office               4328\n",
       "genres                    976\n",
       "ratings                   967\n",
       "producer                  568\n",
       "film_studio                18\n",
       "director                    9\n",
       "production_country          2\n",
       "title                       0\n",
       "puNumber                    0\n",
       "show_start_date             0\n",
       "type                        0\n",
       "age_restriction             0\n",
       "refundable_support          0\n",
       "nonrefundable_support       0\n",
       "budget                      0\n",
       "financing_source            0\n",
       "dtype: int64"
      ]
     },
     "execution_count": 28,
     "metadata": {},
     "output_type": "execute_result"
    }
   ],
   "source": [
    "df.isna().sum().sort_values(ascending=False)"
   ]
  },
  {
   "cell_type": "code",
   "execution_count": 29,
   "id": "bde0f9cc",
   "metadata": {
    "scrolled": true
   },
   "outputs": [
    {
     "data": {
      "text/html": [
       "<div>\n",
       "<style scoped>\n",
       "    .dataframe tbody tr th:only-of-type {\n",
       "        vertical-align: middle;\n",
       "    }\n",
       "\n",
       "    .dataframe tbody tr th {\n",
       "        vertical-align: top;\n",
       "    }\n",
       "\n",
       "    .dataframe thead th {\n",
       "        text-align: right;\n",
       "    }\n",
       "</style>\n",
       "<table border=\"1\" class=\"dataframe\">\n",
       "  <thead>\n",
       "    <tr style=\"text-align: right;\">\n",
       "      <th></th>\n",
       "      <th>title</th>\n",
       "      <th>puNumber</th>\n",
       "      <th>show_start_date</th>\n",
       "      <th>type</th>\n",
       "      <th>film_studio</th>\n",
       "      <th>production_country</th>\n",
       "      <th>director</th>\n",
       "      <th>producer</th>\n",
       "      <th>age_restriction</th>\n",
       "      <th>refundable_support</th>\n",
       "      <th>nonrefundable_support</th>\n",
       "      <th>budget</th>\n",
       "      <th>financing_source</th>\n",
       "      <th>ratings</th>\n",
       "      <th>genres</th>\n",
       "      <th>box_office</th>\n",
       "    </tr>\n",
       "  </thead>\n",
       "  <tbody>\n",
       "    <tr>\n",
       "      <th>764</th>\n",
       "      <td>Три звезды. Концерт в Waldbuhne Theater, Берли...</td>\n",
       "      <td>126003512</td>\n",
       "      <td>2012-12-04 12:00:00</td>\n",
       "      <td>Прочие</td>\n",
       "      <td>Райзинг Алтернатив</td>\n",
       "      <td>Великобритания</td>\n",
       "      <td>NaN</td>\n",
       "      <td>Вальдбюне Театр</td>\n",
       "      <td>«0+» - для любой зрительской аудитории</td>\n",
       "      <td>-1.0</td>\n",
       "      <td>0.0</td>\n",
       "      <td>0.0</td>\n",
       "      <td>No</td>\n",
       "      <td>NaN</td>\n",
       "      <td>NaN</td>\n",
       "      <td>44,350.0</td>\n",
       "    </tr>\n",
       "    <tr>\n",
       "      <th>1735</th>\n",
       "      <td>Помпеи. Британский музей</td>\n",
       "      <td>126003413</td>\n",
       "      <td>2013-09-11 12:00:00</td>\n",
       "      <td>Прочие</td>\n",
       "      <td>МортуСкрин, Британский музей</td>\n",
       "      <td>Великобритания</td>\n",
       "      <td>NaN</td>\n",
       "      <td>Британский музей</td>\n",
       "      <td>«0+» - для любой зрительской аудитории</td>\n",
       "      <td>-1.0</td>\n",
       "      <td>0.0</td>\n",
       "      <td>0.0</td>\n",
       "      <td>No</td>\n",
       "      <td>NaN</td>\n",
       "      <td>NaN</td>\n",
       "      <td>NaN</td>\n",
       "    </tr>\n",
       "    <tr>\n",
       "      <th>3840</th>\n",
       "      <td>Зур концерт (Большой концерт).</td>\n",
       "      <td>217027010</td>\n",
       "      <td>2010-06-24 12:00:00</td>\n",
       "      <td>Художественный</td>\n",
       "      <td>ООО \"Барс Рекордс\"</td>\n",
       "      <td>Россия</td>\n",
       "      <td>NaN</td>\n",
       "      <td>NaN</td>\n",
       "      <td>«12+» - для детей старше 12 лет</td>\n",
       "      <td>-1.0</td>\n",
       "      <td>0.0</td>\n",
       "      <td>0.0</td>\n",
       "      <td>No</td>\n",
       "      <td>NaN</td>\n",
       "      <td>NaN</td>\n",
       "      <td>NaN</td>\n",
       "    </tr>\n",
       "    <tr>\n",
       "      <th>4052</th>\n",
       "      <td>Ганс Сэйфуллин \"Авылым чишмэлэре. Ганс Сэйфулл...</td>\n",
       "      <td>217017310</td>\n",
       "      <td>2010-04-22 12:00:00</td>\n",
       "      <td>Художественный</td>\n",
       "      <td>ООО \"Барс-Рекордс\"</td>\n",
       "      <td>Россия</td>\n",
       "      <td>NaN</td>\n",
       "      <td>NaN</td>\n",
       "      <td>«0+» - для любой зрительской аудитории</td>\n",
       "      <td>-1.0</td>\n",
       "      <td>0.0</td>\n",
       "      <td>0.0</td>\n",
       "      <td>No</td>\n",
       "      <td>NaN</td>\n",
       "      <td>NaN</td>\n",
       "      <td>NaN</td>\n",
       "    </tr>\n",
       "    <tr>\n",
       "      <th>4298</th>\n",
       "      <td>Изге Вэли (Святой Валентин)</td>\n",
       "      <td>217020610</td>\n",
       "      <td>2010-05-20 12:00:00</td>\n",
       "      <td>Художественный</td>\n",
       "      <td>ООО \"Барс Рекордс\"</td>\n",
       "      <td>Россия</td>\n",
       "      <td>NaN</td>\n",
       "      <td>NaN</td>\n",
       "      <td>«12+» - для детей старше 12 лет</td>\n",
       "      <td>-1.0</td>\n",
       "      <td>0.0</td>\n",
       "      <td>0.0</td>\n",
       "      <td>No</td>\n",
       "      <td>NaN</td>\n",
       "      <td>NaN</td>\n",
       "      <td>NaN</td>\n",
       "    </tr>\n",
       "    <tr>\n",
       "      <th>4415</th>\n",
       "      <td>Bon Jovi. The Circle Tour</td>\n",
       "      <td>126001710</td>\n",
       "      <td>2010-11-11 12:00:00</td>\n",
       "      <td>Прочие</td>\n",
       "      <td>Эншутц Интертейнмент Груп</td>\n",
       "      <td>США</td>\n",
       "      <td>NaN</td>\n",
       "      <td>Эншутц Интертейнмент Груп</td>\n",
       "      <td>«0+» - для любой зрительской аудитории</td>\n",
       "      <td>-1.0</td>\n",
       "      <td>0.0</td>\n",
       "      <td>0.0</td>\n",
       "      <td>No</td>\n",
       "      <td>7.9</td>\n",
       "      <td>концерт,музыка</td>\n",
       "      <td>NaN</td>\n",
       "    </tr>\n",
       "    <tr>\n",
       "      <th>4441</th>\n",
       "      <td>Мульт личности. Выпуск 5</td>\n",
       "      <td>214000410</td>\n",
       "      <td>2010-01-25 12:00:00</td>\n",
       "      <td>Художественный</td>\n",
       "      <td>NaN</td>\n",
       "      <td>NaN</td>\n",
       "      <td>NaN</td>\n",
       "      <td>NaN</td>\n",
       "      <td>«0+» - для любой зрительской аудитории</td>\n",
       "      <td>-1.0</td>\n",
       "      <td>0.0</td>\n",
       "      <td>0.0</td>\n",
       "      <td>No</td>\n",
       "      <td>4.0</td>\n",
       "      <td>мультфильм,комедия</td>\n",
       "      <td>NaN</td>\n",
       "    </tr>\n",
       "    <tr>\n",
       "      <th>4923</th>\n",
       "      <td>Георг Фридрих Гендель. Мессия. Оратория. Корол...</td>\n",
       "      <td>126001111</td>\n",
       "      <td>2011-04-25 12:00:00</td>\n",
       "      <td>Прочие</td>\n",
       "      <td>Опус Арт</td>\n",
       "      <td>Великобритания</td>\n",
       "      <td>NaN</td>\n",
       "      <td>Короевский колледж Кембриджа</td>\n",
       "      <td>«0+» - для любой зрительской аудитории</td>\n",
       "      <td>-1.0</td>\n",
       "      <td>0.0</td>\n",
       "      <td>0.0</td>\n",
       "      <td>No</td>\n",
       "      <td>NaN</td>\n",
       "      <td>NaN</td>\n",
       "      <td>NaN</td>\n",
       "    </tr>\n",
       "    <tr>\n",
       "      <th>4942</th>\n",
       "      <td>Питер Гэбриэл и New Blood Orchestra 3D</td>\n",
       "      <td>126002711</td>\n",
       "      <td>2011-11-11 12:00:00</td>\n",
       "      <td>Прочие</td>\n",
       "      <td>Омниверс Визион</td>\n",
       "      <td>Великобритания</td>\n",
       "      <td>NaN</td>\n",
       "      <td>Омниверс Визион</td>\n",
       "      <td>«0+» - для любой зрительской аудитории</td>\n",
       "      <td>-1.0</td>\n",
       "      <td>0.0</td>\n",
       "      <td>0.0</td>\n",
       "      <td>No</td>\n",
       "      <td>6.7</td>\n",
       "      <td>концерт,музыка</td>\n",
       "      <td>NaN</td>\n",
       "    </tr>\n",
       "  </tbody>\n",
       "</table>\n",
       "</div>"
      ],
      "text/plain": [
       "                                                  title   puNumber  \\\n",
       "764   Три звезды. Концерт в Waldbuhne Theater, Берли...  126003512   \n",
       "1735                           Помпеи. Британский музей  126003413   \n",
       "3840                     Зур концерт (Большой концерт).  217027010   \n",
       "4052  Ганс Сэйфуллин \"Авылым чишмэлэре. Ганс Сэйфулл...  217017310   \n",
       "4298                        Изге Вэли (Святой Валентин)  217020610   \n",
       "4415                          Bon Jovi. The Circle Tour  126001710   \n",
       "4441                           Мульт личности. Выпуск 5  214000410   \n",
       "4923  Георг Фридрих Гендель. Мессия. Оратория. Корол...  126001111   \n",
       "4942             Питер Гэбриэл и New Blood Orchestra 3D  126002711   \n",
       "\n",
       "         show_start_date            type                   film_studio  \\\n",
       "764  2012-12-04 12:00:00          Прочие            Райзинг Алтернатив   \n",
       "1735 2013-09-11 12:00:00          Прочие  МортуСкрин, Британский музей   \n",
       "3840 2010-06-24 12:00:00  Художественный            ООО \"Барс Рекордс\"   \n",
       "4052 2010-04-22 12:00:00  Художественный            ООО \"Барс-Рекордс\"   \n",
       "4298 2010-05-20 12:00:00  Художественный            ООО \"Барс Рекордс\"   \n",
       "4415 2010-11-11 12:00:00          Прочие     Эншутц Интертейнмент Груп   \n",
       "4441 2010-01-25 12:00:00  Художественный                           NaN   \n",
       "4923 2011-04-25 12:00:00          Прочие                      Опус Арт   \n",
       "4942 2011-11-11 12:00:00          Прочие               Омниверс Визион   \n",
       "\n",
       "     production_country director                      producer  \\\n",
       "764      Великобритания      NaN               Вальдбюне Театр   \n",
       "1735     Великобритания      NaN              Британский музей   \n",
       "3840             Россия      NaN                           NaN   \n",
       "4052             Россия      NaN                           NaN   \n",
       "4298             Россия      NaN                           NaN   \n",
       "4415                США      NaN     Эншутц Интертейнмент Груп   \n",
       "4441                NaN      NaN                           NaN   \n",
       "4923     Великобритания      NaN  Короевский колледж Кембриджа   \n",
       "4942     Великобритания      NaN               Омниверс Визион   \n",
       "\n",
       "                             age_restriction  refundable_support  \\\n",
       "764   «0+» - для любой зрительской аудитории                -1.0   \n",
       "1735  «0+» - для любой зрительской аудитории                -1.0   \n",
       "3840         «12+» - для детей старше 12 лет                -1.0   \n",
       "4052  «0+» - для любой зрительской аудитории                -1.0   \n",
       "4298         «12+» - для детей старше 12 лет                -1.0   \n",
       "4415  «0+» - для любой зрительской аудитории                -1.0   \n",
       "4441  «0+» - для любой зрительской аудитории                -1.0   \n",
       "4923  «0+» - для любой зрительской аудитории                -1.0   \n",
       "4942  «0+» - для любой зрительской аудитории                -1.0   \n",
       "\n",
       "      nonrefundable_support  budget financing_source  ratings  \\\n",
       "764                     0.0     0.0               No      NaN   \n",
       "1735                    0.0     0.0               No      NaN   \n",
       "3840                    0.0     0.0               No      NaN   \n",
       "4052                    0.0     0.0               No      NaN   \n",
       "4298                    0.0     0.0               No      NaN   \n",
       "4415                    0.0     0.0               No      7.9   \n",
       "4441                    0.0     0.0               No      4.0   \n",
       "4923                    0.0     0.0               No      NaN   \n",
       "4942                    0.0     0.0               No      6.7   \n",
       "\n",
       "                  genres  box_office  \n",
       "764                  NaN    44,350.0  \n",
       "1735                 NaN         NaN  \n",
       "3840                 NaN         NaN  \n",
       "4052                 NaN         NaN  \n",
       "4298                 NaN         NaN  \n",
       "4415      концерт,музыка         NaN  \n",
       "4441  мультфильм,комедия         NaN  \n",
       "4923                 NaN         NaN  \n",
       "4942      концерт,музыка         NaN  "
      ]
     },
     "execution_count": 29,
     "metadata": {},
     "output_type": "execute_result"
    }
   ],
   "source": [
    "df[df['director'].isna()]"
   ]
  },
  {
   "cell_type": "code",
   "execution_count": 30,
   "id": "ecfe476c",
   "metadata": {
    "scrolled": true
   },
   "outputs": [
    {
     "data": {
      "text/html": [
       "<div>\n",
       "<style scoped>\n",
       "    .dataframe tbody tr th:only-of-type {\n",
       "        vertical-align: middle;\n",
       "    }\n",
       "\n",
       "    .dataframe tbody tr th {\n",
       "        vertical-align: top;\n",
       "    }\n",
       "\n",
       "    .dataframe thead th {\n",
       "        text-align: right;\n",
       "    }\n",
       "</style>\n",
       "<table border=\"1\" class=\"dataframe\">\n",
       "  <thead>\n",
       "    <tr style=\"text-align: right;\">\n",
       "      <th></th>\n",
       "      <th>title</th>\n",
       "      <th>puNumber</th>\n",
       "      <th>show_start_date</th>\n",
       "      <th>type</th>\n",
       "      <th>film_studio</th>\n",
       "      <th>production_country</th>\n",
       "      <th>director</th>\n",
       "      <th>producer</th>\n",
       "      <th>age_restriction</th>\n",
       "      <th>refundable_support</th>\n",
       "      <th>nonrefundable_support</th>\n",
       "      <th>budget</th>\n",
       "      <th>financing_source</th>\n",
       "      <th>ratings</th>\n",
       "      <th>genres</th>\n",
       "      <th>box_office</th>\n",
       "    </tr>\n",
       "  </thead>\n",
       "  <tbody>\n",
       "    <tr>\n",
       "      <th>0</th>\n",
       "      <td>Открытый простор</td>\n",
       "      <td>221048915</td>\n",
       "      <td>2015-11-27 12:00:00</td>\n",
       "      <td>Художественный</td>\n",
       "      <td>Тачстоун Пикчерз, Кобальт Пикчерз, Бикон Пикче...</td>\n",
       "      <td>США</td>\n",
       "      <td>Кевин Костнер</td>\n",
       "      <td>Дэвид Валдес, Кевин Костнер, Джейк Эбертс</td>\n",
       "      <td>«18+» - запрещено для детей</td>\n",
       "      <td>-1.0</td>\n",
       "      <td>0.0</td>\n",
       "      <td>0.0</td>\n",
       "      <td>No</td>\n",
       "      <td>7.2</td>\n",
       "      <td>боевик,драма,мелодрама</td>\n",
       "      <td>NaN</td>\n",
       "    </tr>\n",
       "    <tr>\n",
       "      <th>1</th>\n",
       "      <td>Особо важное задание</td>\n",
       "      <td>111013716</td>\n",
       "      <td>2016-09-13 12:00:00</td>\n",
       "      <td>Художественный</td>\n",
       "      <td>Киностудия \"Мосфильм\"</td>\n",
       "      <td>СССР</td>\n",
       "      <td>Е.Матвеев</td>\n",
       "      <td>NaN</td>\n",
       "      <td>«6+» - для детей старше 6 лет</td>\n",
       "      <td>-1.0</td>\n",
       "      <td>0.0</td>\n",
       "      <td>0.0</td>\n",
       "      <td>No</td>\n",
       "      <td>6.6</td>\n",
       "      <td>драма,военный</td>\n",
       "      <td>NaN</td>\n",
       "    </tr>\n",
       "    <tr>\n",
       "      <th>2</th>\n",
       "      <td>Особо опасен</td>\n",
       "      <td>221038416</td>\n",
       "      <td>2016-10-10 12:00:00</td>\n",
       "      <td>Художественный</td>\n",
       "      <td>Юниверсал Пикчерз, Кикстарт Продакшнз, Марк Пл...</td>\n",
       "      <td>США</td>\n",
       "      <td>Тимур Бекмамбетов</td>\n",
       "      <td>Джим Лемли, Джейсон Нетер, Марк Е.Платт, Яйн Смит</td>\n",
       "      <td>«18+» - запрещено для детей</td>\n",
       "      <td>-1.0</td>\n",
       "      <td>0.0</td>\n",
       "      <td>0.0</td>\n",
       "      <td>No</td>\n",
       "      <td>6.8</td>\n",
       "      <td>фантастика,боевик,триллер</td>\n",
       "      <td>NaN</td>\n",
       "    </tr>\n",
       "    <tr>\n",
       "      <th>3</th>\n",
       "      <td>Особо опасен</td>\n",
       "      <td>221026916</td>\n",
       "      <td>2016-06-10 12:00:00</td>\n",
       "      <td>Художественный</td>\n",
       "      <td>Юниверсал Пикчерз, Кикстарт Продакшнз, Марк Пл...</td>\n",
       "      <td>США</td>\n",
       "      <td>Тимур Бекмамбетов</td>\n",
       "      <td>Джим Лемли, Джейсон Нетер, Марк Е.Платт, Яйн Смит</td>\n",
       "      <td>«18+» - запрещено для детей</td>\n",
       "      <td>-1.0</td>\n",
       "      <td>0.0</td>\n",
       "      <td>0.0</td>\n",
       "      <td>No</td>\n",
       "      <td>6.8</td>\n",
       "      <td>фантастика,боевик,триллер</td>\n",
       "      <td>NaN</td>\n",
       "    </tr>\n",
       "    <tr>\n",
       "      <th>4</th>\n",
       "      <td>Особо опасен</td>\n",
       "      <td>221030815</td>\n",
       "      <td>2015-07-29 12:00:00</td>\n",
       "      <td>Художественный</td>\n",
       "      <td>Юниверсал Пикчерз, Кикстарт Продакшнз, Марк Пл...</td>\n",
       "      <td>США</td>\n",
       "      <td>Тимур Бекмамбетов</td>\n",
       "      <td>Джим Лемли, Джейсон Нетер, Марк Е.Платт, Яйн Смит</td>\n",
       "      <td>«18+» - запрещено для детей</td>\n",
       "      <td>-1.0</td>\n",
       "      <td>0.0</td>\n",
       "      <td>0.0</td>\n",
       "      <td>No</td>\n",
       "      <td>6.8</td>\n",
       "      <td>фантастика,боевик,триллер</td>\n",
       "      <td>NaN</td>\n",
       "    </tr>\n",
       "    <tr>\n",
       "      <th>...</th>\n",
       "      <td>...</td>\n",
       "      <td>...</td>\n",
       "      <td>...</td>\n",
       "      <td>...</td>\n",
       "      <td>...</td>\n",
       "      <td>...</td>\n",
       "      <td>...</td>\n",
       "      <td>...</td>\n",
       "      <td>...</td>\n",
       "      <td>...</td>\n",
       "      <td>...</td>\n",
       "      <td>...</td>\n",
       "      <td>...</td>\n",
       "      <td>...</td>\n",
       "      <td>...</td>\n",
       "      <td>...</td>\n",
       "    </tr>\n",
       "    <tr>\n",
       "      <th>7481</th>\n",
       "      <td>Сад художника: Американский импрессионизм</td>\n",
       "      <td>126008019</td>\n",
       "      <td>2019-12-23 12:00:00</td>\n",
       "      <td>Прочие</td>\n",
       "      <td>Севен Артс Продакшнз</td>\n",
       "      <td>Великобритания</td>\n",
       "      <td>Фил Грабски</td>\n",
       "      <td>Фил Грабски</td>\n",
       "      <td>«12+» - для детей старше 12 лет</td>\n",
       "      <td>-1.0</td>\n",
       "      <td>0.0</td>\n",
       "      <td>0.0</td>\n",
       "      <td>No</td>\n",
       "      <td>NaN</td>\n",
       "      <td>NaN</td>\n",
       "      <td>NaN</td>\n",
       "    </tr>\n",
       "    <tr>\n",
       "      <th>7482</th>\n",
       "      <td>Звериная ярость</td>\n",
       "      <td>121037819</td>\n",
       "      <td>2019-12-24 12:00:00</td>\n",
       "      <td>Художественный</td>\n",
       "      <td>Дэниел Гродник Продакшнз, Вандерфилм Медиа Кор...</td>\n",
       "      <td>США</td>\n",
       "      <td>Ник Пауэлл</td>\n",
       "      <td>Джефф Боулер, Дэниэл Гродник, Луильо Руис, Брэ...</td>\n",
       "      <td>«16+» - для детей старше 16 лет</td>\n",
       "      <td>-1.0</td>\n",
       "      <td>0.0</td>\n",
       "      <td>0.0</td>\n",
       "      <td>No</td>\n",
       "      <td>5.4</td>\n",
       "      <td>боевик,триллер</td>\n",
       "      <td>NaN</td>\n",
       "    </tr>\n",
       "    <tr>\n",
       "      <th>7483</th>\n",
       "      <td>Щенячий патруль: Скорей спешим на помощь!</td>\n",
       "      <td>124010819</td>\n",
       "      <td>2019-12-28 12:00:00</td>\n",
       "      <td>Художественный</td>\n",
       "      <td>Никелодеон Анимейшн Студиос, Спин Мастер</td>\n",
       "      <td>США - Канада</td>\n",
       "      <td>Чарльз Е.Бастьен</td>\n",
       "      <td>Дженнифер Додж</td>\n",
       "      <td>«0+» - для любой зрительской аудитории</td>\n",
       "      <td>-1.0</td>\n",
       "      <td>0.0</td>\n",
       "      <td>0.0</td>\n",
       "      <td>No</td>\n",
       "      <td>NaN</td>\n",
       "      <td>NaN</td>\n",
       "      <td>NaN</td>\n",
       "    </tr>\n",
       "    <tr>\n",
       "      <th>7484</th>\n",
       "      <td>Машины песенки. Серия \"Испанские мотивы\"</td>\n",
       "      <td>124010619</td>\n",
       "      <td>2019-12-30 12:00:00</td>\n",
       "      <td>Анимационный</td>\n",
       "      <td>Анимаккорд Лтд., ООО Студия \"АНИМАККОРД\"</td>\n",
       "      <td>Республика Кипр, Россия</td>\n",
       "      <td>А.Беляев</td>\n",
       "      <td>Д.Ловейко</td>\n",
       "      <td>«0+» - для любой зрительской аудитории</td>\n",
       "      <td>-1.0</td>\n",
       "      <td>0.0</td>\n",
       "      <td>0.0</td>\n",
       "      <td>No</td>\n",
       "      <td>NaN</td>\n",
       "      <td>NaN</td>\n",
       "      <td>NaN</td>\n",
       "    </tr>\n",
       "    <tr>\n",
       "      <th>7485</th>\n",
       "      <td>Машины песенки. Серия \"Когда цветут кактусы\"</td>\n",
       "      <td>124010719</td>\n",
       "      <td>2019-12-30 12:00:00</td>\n",
       "      <td>Анимационный</td>\n",
       "      <td>Анимаккорд Лтд., ООО Студия \"АНИМАККОРД\"</td>\n",
       "      <td>Республика Кипр, Россия</td>\n",
       "      <td>И.Трусов</td>\n",
       "      <td>Д.Ловейко</td>\n",
       "      <td>«0+» - для любой зрительской аудитории</td>\n",
       "      <td>-1.0</td>\n",
       "      <td>0.0</td>\n",
       "      <td>0.0</td>\n",
       "      <td>No</td>\n",
       "      <td>6.3</td>\n",
       "      <td>комедия,вестерн</td>\n",
       "      <td>NaN</td>\n",
       "    </tr>\n",
       "  </tbody>\n",
       "</table>\n",
       "<p>4328 rows × 16 columns</p>\n",
       "</div>"
      ],
      "text/plain": [
       "                                             title   puNumber  \\\n",
       "0                                 Открытый простор  221048915   \n",
       "1                             Особо важное задание  111013716   \n",
       "2                                     Особо опасен  221038416   \n",
       "3                                     Особо опасен  221026916   \n",
       "4                                     Особо опасен  221030815   \n",
       "...                                            ...        ...   \n",
       "7481     Сад художника: Американский импрессионизм  126008019   \n",
       "7482                               Звериная ярость  121037819   \n",
       "7483     Щенячий патруль: Скорей спешим на помощь!  124010819   \n",
       "7484      Машины песенки. Серия \"Испанские мотивы\"  124010619   \n",
       "7485  Машины песенки. Серия \"Когда цветут кактусы\"  124010719   \n",
       "\n",
       "         show_start_date             type  \\\n",
       "0    2015-11-27 12:00:00   Художественный   \n",
       "1    2016-09-13 12:00:00   Художественный   \n",
       "2    2016-10-10 12:00:00   Художественный   \n",
       "3    2016-06-10 12:00:00   Художественный   \n",
       "4    2015-07-29 12:00:00   Художественный   \n",
       "...                  ...              ...   \n",
       "7481 2019-12-23 12:00:00           Прочие   \n",
       "7482 2019-12-24 12:00:00   Художественный   \n",
       "7483 2019-12-28 12:00:00   Художественный   \n",
       "7484 2019-12-30 12:00:00     Анимационный   \n",
       "7485 2019-12-30 12:00:00     Анимационный   \n",
       "\n",
       "                                            film_studio  \\\n",
       "0     Тачстоун Пикчерз, Кобальт Пикчерз, Бикон Пикче...   \n",
       "1                                 Киностудия \"Мосфильм\"   \n",
       "2     Юниверсал Пикчерз, Кикстарт Продакшнз, Марк Пл...   \n",
       "3     Юниверсал Пикчерз, Кикстарт Продакшнз, Марк Пл...   \n",
       "4     Юниверсал Пикчерз, Кикстарт Продакшнз, Марк Пл...   \n",
       "...                                                 ...   \n",
       "7481                               Севен Артс Продакшнз   \n",
       "7482  Дэниел Гродник Продакшнз, Вандерфилм Медиа Кор...   \n",
       "7483           Никелодеон Анимейшн Студиос, Спин Мастер   \n",
       "7484           Анимаккорд Лтд., ООО Студия \"АНИМАККОРД\"   \n",
       "7485           Анимаккорд Лтд., ООО Студия \"АНИМАККОРД\"   \n",
       "\n",
       "           production_country           director  \\\n",
       "0                         США      Кевин Костнер   \n",
       "1                        СССР          Е.Матвеев   \n",
       "2                         США  Тимур Бекмамбетов   \n",
       "3                         США  Тимур Бекмамбетов   \n",
       "4                         США  Тимур Бекмамбетов   \n",
       "...                       ...                ...   \n",
       "7481           Великобритания        Фил Грабски   \n",
       "7482                      США         Ник Пауэлл   \n",
       "7483             США - Канада   Чарльз Е.Бастьен   \n",
       "7484  Республика Кипр, Россия           А.Беляев   \n",
       "7485  Республика Кипр, Россия           И.Трусов   \n",
       "\n",
       "                                               producer  \\\n",
       "0             Дэвид Валдес, Кевин Костнер, Джейк Эбертс   \n",
       "1                                                   NaN   \n",
       "2     Джим Лемли, Джейсон Нетер, Марк Е.Платт, Яйн Смит   \n",
       "3     Джим Лемли, Джейсон Нетер, Марк Е.Платт, Яйн Смит   \n",
       "4     Джим Лемли, Джейсон Нетер, Марк Е.Платт, Яйн Смит   \n",
       "...                                                 ...   \n",
       "7481                                        Фил Грабски   \n",
       "7482  Джефф Боулер, Дэниэл Гродник, Луильо Руис, Брэ...   \n",
       "7483                                     Дженнифер Додж   \n",
       "7484                                          Д.Ловейко   \n",
       "7485                                          Д.Ловейко   \n",
       "\n",
       "                             age_restriction  refundable_support  \\\n",
       "0                «18+» - запрещено для детей                -1.0   \n",
       "1              «6+» - для детей старше 6 лет                -1.0   \n",
       "2                «18+» - запрещено для детей                -1.0   \n",
       "3                «18+» - запрещено для детей                -1.0   \n",
       "4                «18+» - запрещено для детей                -1.0   \n",
       "...                                      ...                 ...   \n",
       "7481         «12+» - для детей старше 12 лет                -1.0   \n",
       "7482         «16+» - для детей старше 16 лет                -1.0   \n",
       "7483  «0+» - для любой зрительской аудитории                -1.0   \n",
       "7484  «0+» - для любой зрительской аудитории                -1.0   \n",
       "7485  «0+» - для любой зрительской аудитории                -1.0   \n",
       "\n",
       "      nonrefundable_support  budget financing_source  ratings  \\\n",
       "0                       0.0     0.0               No      7.2   \n",
       "1                       0.0     0.0               No      6.6   \n",
       "2                       0.0     0.0               No      6.8   \n",
       "3                       0.0     0.0               No      6.8   \n",
       "4                       0.0     0.0               No      6.8   \n",
       "...                     ...     ...              ...      ...   \n",
       "7481                    0.0     0.0               No      NaN   \n",
       "7482                    0.0     0.0               No      5.4   \n",
       "7483                    0.0     0.0               No      NaN   \n",
       "7484                    0.0     0.0               No      NaN   \n",
       "7485                    0.0     0.0               No      6.3   \n",
       "\n",
       "                         genres  box_office  \n",
       "0        боевик,драма,мелодрама         NaN  \n",
       "1                 драма,военный         NaN  \n",
       "2     фантастика,боевик,триллер         NaN  \n",
       "3     фантастика,боевик,триллер         NaN  \n",
       "4     фантастика,боевик,триллер         NaN  \n",
       "...                         ...         ...  \n",
       "7481                        NaN         NaN  \n",
       "7482             боевик,триллер         NaN  \n",
       "7483                        NaN         NaN  \n",
       "7484                        NaN         NaN  \n",
       "7485            комедия,вестерн         NaN  \n",
       "\n",
       "[4328 rows x 16 columns]"
      ]
     },
     "execution_count": 30,
     "metadata": {},
     "output_type": "execute_result"
    }
   ],
   "source": [
    "df[df['box_office'].isna()]"
   ]
  },
  {
   "cell_type": "markdown",
   "id": "1838b1b6",
   "metadata": {
    "id": "4c6k1t9ygFyQ"
   },
   "source": [
    "#### Step 2.3. Examine the duplicates in the dataframe\n",
    "- Check if there are duplicates in the data. Describe the reasons that could have influenced the appearance of duplicates."
   ]
  },
  {
   "cell_type": "code",
   "execution_count": 31,
   "id": "a8b67ac5",
   "metadata": {
    "id": "aKck8RIdgFyQ",
    "scrolled": true
   },
   "outputs": [
    {
     "data": {
      "text/html": [
       "<div>\n",
       "<style scoped>\n",
       "    .dataframe tbody tr th:only-of-type {\n",
       "        vertical-align: middle;\n",
       "    }\n",
       "\n",
       "    .dataframe tbody tr th {\n",
       "        vertical-align: top;\n",
       "    }\n",
       "\n",
       "    .dataframe thead th {\n",
       "        text-align: right;\n",
       "    }\n",
       "</style>\n",
       "<table border=\"1\" class=\"dataframe\">\n",
       "  <thead>\n",
       "    <tr style=\"text-align: right;\">\n",
       "      <th></th>\n",
       "      <th>index</th>\n",
       "      <th>title</th>\n",
       "    </tr>\n",
       "  </thead>\n",
       "  <tbody>\n",
       "    <tr>\n",
       "      <th>0</th>\n",
       "      <td>День святого Валентина_</td>\n",
       "      <td>5</td>\n",
       "    </tr>\n",
       "    <tr>\n",
       "      <th>1</th>\n",
       "      <td>Кошки против собак: Месть Китти Галор</td>\n",
       "      <td>4</td>\n",
       "    </tr>\n",
       "    <tr>\n",
       "      <th>2</th>\n",
       "      <td>Знакомство с Факерами 2.</td>\n",
       "      <td>4</td>\n",
       "    </tr>\n",
       "    <tr>\n",
       "      <th>3</th>\n",
       "      <td>Рапунцель: Запутанная история</td>\n",
       "      <td>4</td>\n",
       "    </tr>\n",
       "    <tr>\n",
       "      <th>4</th>\n",
       "      <td>Секс в большом городе 2</td>\n",
       "      <td>4</td>\n",
       "    </tr>\n",
       "    <tr>\n",
       "      <th>...</th>\n",
       "      <td>...</td>\n",
       "      <td>...</td>\n",
       "    </tr>\n",
       "    <tr>\n",
       "      <th>553</th>\n",
       "      <td>Мисс Поттер</td>\n",
       "      <td>2</td>\n",
       "    </tr>\n",
       "    <tr>\n",
       "      <th>554</th>\n",
       "      <td>Слепота.</td>\n",
       "      <td>2</td>\n",
       "    </tr>\n",
       "    <tr>\n",
       "      <th>555</th>\n",
       "      <td>Машина времени в джакузи 2</td>\n",
       "      <td>2</td>\n",
       "    </tr>\n",
       "    <tr>\n",
       "      <th>556</th>\n",
       "      <td>Мученицы</td>\n",
       "      <td>2</td>\n",
       "    </tr>\n",
       "    <tr>\n",
       "      <th>557</th>\n",
       "      <td>Гарри Поттер и тайная комната /По роману Дж.К....</td>\n",
       "      <td>2</td>\n",
       "    </tr>\n",
       "  </tbody>\n",
       "</table>\n",
       "<p>558 rows × 2 columns</p>\n",
       "</div>"
      ],
      "text/plain": [
       "                                                 index  title\n",
       "0                              День святого Валентина_      5\n",
       "1                Кошки против собак: Месть Китти Галор      4\n",
       "2                             Знакомство с Факерами 2.      4\n",
       "3                        Рапунцель: Запутанная история      4\n",
       "4                              Секс в большом городе 2      4\n",
       "..                                                 ...    ...\n",
       "553                                        Мисс Поттер      2\n",
       "554                                           Слепота.      2\n",
       "555                         Машина времени в джакузи 2      2\n",
       "556                                           Мученицы      2\n",
       "557  Гарри Поттер и тайная комната /По роману Дж.К....      2\n",
       "\n",
       "[558 rows x 2 columns]"
      ]
     },
     "execution_count": 31,
     "metadata": {},
     "output_type": "execute_result"
    }
   ],
   "source": [
    "df_title = df['title'].value_counts().reset_index()\n",
    "df_title[df_title['title'] >= 2]"
   ]
  },
  {
   "cell_type": "markdown",
   "id": "6a8d1810",
   "metadata": {},
   "source": [
    "There are a lot of duplicates in the title column. I believe this is due to the premiere of films in several countries. Since show_start_date is different"
   ]
  },
  {
   "cell_type": "code",
   "execution_count": 32,
   "id": "97c7f0af",
   "metadata": {
    "scrolled": true
   },
   "outputs": [
    {
     "data": {
      "text/html": [
       "<div>\n",
       "<style scoped>\n",
       "    .dataframe tbody tr th:only-of-type {\n",
       "        vertical-align: middle;\n",
       "    }\n",
       "\n",
       "    .dataframe tbody tr th {\n",
       "        vertical-align: top;\n",
       "    }\n",
       "\n",
       "    .dataframe thead th {\n",
       "        text-align: right;\n",
       "    }\n",
       "</style>\n",
       "<table border=\"1\" class=\"dataframe\">\n",
       "  <thead>\n",
       "    <tr style=\"text-align: right;\">\n",
       "      <th></th>\n",
       "      <th>title</th>\n",
       "      <th>puNumber</th>\n",
       "      <th>show_start_date</th>\n",
       "      <th>type</th>\n",
       "      <th>film_studio</th>\n",
       "      <th>production_country</th>\n",
       "      <th>director</th>\n",
       "      <th>producer</th>\n",
       "      <th>age_restriction</th>\n",
       "      <th>refundable_support</th>\n",
       "      <th>nonrefundable_support</th>\n",
       "      <th>budget</th>\n",
       "      <th>financing_source</th>\n",
       "      <th>ratings</th>\n",
       "      <th>genres</th>\n",
       "      <th>box_office</th>\n",
       "    </tr>\n",
       "  </thead>\n",
       "  <tbody>\n",
       "    <tr>\n",
       "      <th>3902</th>\n",
       "      <td>День святого Валентина_</td>\n",
       "      <td>221083810</td>\n",
       "      <td>2010-07-15 12:00:00</td>\n",
       "      <td>Художественный</td>\n",
       "      <td>Уорнер Бразерс, Нью Лайн Синема, Уэйн Райс, Ка...</td>\n",
       "      <td>США</td>\n",
       "      <td>Гарри Маршалл</td>\n",
       "      <td>Сэмюэл Дж.Браун</td>\n",
       "      <td>«16+» - для детей старше 16 лет</td>\n",
       "      <td>-1.0</td>\n",
       "      <td>0.0</td>\n",
       "      <td>0.0</td>\n",
       "      <td>No</td>\n",
       "      <td>6.7</td>\n",
       "      <td>мелодрама,комедия</td>\n",
       "      <td>NaN</td>\n",
       "    </tr>\n",
       "    <tr>\n",
       "      <th>3991</th>\n",
       "      <td>День святого Валентина_</td>\n",
       "      <td>221068010</td>\n",
       "      <td>2010-05-14 12:00:00</td>\n",
       "      <td>Художественный</td>\n",
       "      <td>Уорнер Бразерс, Нью Лайн Синема, Уэйн Райс, Ка...</td>\n",
       "      <td>США</td>\n",
       "      <td>Гарри Маршалл</td>\n",
       "      <td>Сэмюэл Дж.Браун</td>\n",
       "      <td>«16+» - для детей старше 16 лет</td>\n",
       "      <td>-1.0</td>\n",
       "      <td>0.0</td>\n",
       "      <td>0.0</td>\n",
       "      <td>No</td>\n",
       "      <td>6.7</td>\n",
       "      <td>мелодрама,комедия</td>\n",
       "      <td>NaN</td>\n",
       "    </tr>\n",
       "    <tr>\n",
       "      <th>4070</th>\n",
       "      <td>День святого Валентина_</td>\n",
       "      <td>121002210</td>\n",
       "      <td>2010-02-03 12:00:00</td>\n",
       "      <td>Художественный</td>\n",
       "      <td>Уорнер Бразерс, Нью Лайн Синема, Уэйн Райс, Ка...</td>\n",
       "      <td>США</td>\n",
       "      <td>Гарри Маршалл</td>\n",
       "      <td>Сэмюэл Дж.Браун</td>\n",
       "      <td>«16+» - для детей старше 16 лет</td>\n",
       "      <td>-1.0</td>\n",
       "      <td>0.0</td>\n",
       "      <td>0.0</td>\n",
       "      <td>No</td>\n",
       "      <td>6.7</td>\n",
       "      <td>мелодрама,комедия</td>\n",
       "      <td>NaN</td>\n",
       "    </tr>\n",
       "    <tr>\n",
       "      <th>4196</th>\n",
       "      <td>День святого Валентина_</td>\n",
       "      <td>221136210</td>\n",
       "      <td>2010-11-30 12:00:00</td>\n",
       "      <td>Художественный</td>\n",
       "      <td>Уорнер Бразерс, Нью Лайн Синема, Уэйн Райс, Ка...</td>\n",
       "      <td>США</td>\n",
       "      <td>Гарри Маршалл</td>\n",
       "      <td>Сэмюэл Дж.Браун</td>\n",
       "      <td>«16+» - для детей старше 16 лет</td>\n",
       "      <td>-1.0</td>\n",
       "      <td>0.0</td>\n",
       "      <td>0.0</td>\n",
       "      <td>No</td>\n",
       "      <td>6.7</td>\n",
       "      <td>мелодрама,комедия</td>\n",
       "      <td>NaN</td>\n",
       "    </tr>\n",
       "    <tr>\n",
       "      <th>5070</th>\n",
       "      <td>День святого Валентина_</td>\n",
       "      <td>221066410</td>\n",
       "      <td>2010-06-01 12:00:00</td>\n",
       "      <td>Художественный</td>\n",
       "      <td>Уорнер Бразерс, Нью Лайн Синема, Уэйн Райс, Ка...</td>\n",
       "      <td>США</td>\n",
       "      <td>Гарри Маршалл</td>\n",
       "      <td>Сэмюэл Дж.Браун</td>\n",
       "      <td>«16+» - для детей старше 16 лет</td>\n",
       "      <td>-1.0</td>\n",
       "      <td>0.0</td>\n",
       "      <td>0.0</td>\n",
       "      <td>No</td>\n",
       "      <td>6.7</td>\n",
       "      <td>мелодрама,комедия</td>\n",
       "      <td>NaN</td>\n",
       "    </tr>\n",
       "  </tbody>\n",
       "</table>\n",
       "</div>"
      ],
      "text/plain": [
       "                        title   puNumber     show_start_date            type  \\\n",
       "3902  День святого Валентина_  221083810 2010-07-15 12:00:00  Художественный   \n",
       "3991  День святого Валентина_  221068010 2010-05-14 12:00:00  Художественный   \n",
       "4070  День святого Валентина_  121002210 2010-02-03 12:00:00  Художественный   \n",
       "4196  День святого Валентина_  221136210 2010-11-30 12:00:00  Художественный   \n",
       "5070  День святого Валентина_  221066410 2010-06-01 12:00:00  Художественный   \n",
       "\n",
       "                                            film_studio production_country  \\\n",
       "3902  Уорнер Бразерс, Нью Лайн Синема, Уэйн Райс, Ка...                США   \n",
       "3991  Уорнер Бразерс, Нью Лайн Синема, Уэйн Райс, Ка...                США   \n",
       "4070  Уорнер Бразерс, Нью Лайн Синема, Уэйн Райс, Ка...                США   \n",
       "4196  Уорнер Бразерс, Нью Лайн Синема, Уэйн Райс, Ка...                США   \n",
       "5070  Уорнер Бразерс, Нью Лайн Синема, Уэйн Райс, Ка...                США   \n",
       "\n",
       "           director         producer                  age_restriction  \\\n",
       "3902  Гарри Маршалл  Сэмюэл Дж.Браун  «16+» - для детей старше 16 лет   \n",
       "3991  Гарри Маршалл  Сэмюэл Дж.Браун  «16+» - для детей старше 16 лет   \n",
       "4070  Гарри Маршалл  Сэмюэл Дж.Браун  «16+» - для детей старше 16 лет   \n",
       "4196  Гарри Маршалл  Сэмюэл Дж.Браун  «16+» - для детей старше 16 лет   \n",
       "5070  Гарри Маршалл  Сэмюэл Дж.Браун  «16+» - для детей старше 16 лет   \n",
       "\n",
       "      refundable_support  nonrefundable_support  budget financing_source  \\\n",
       "3902                -1.0                    0.0     0.0               No   \n",
       "3991                -1.0                    0.0     0.0               No   \n",
       "4070                -1.0                    0.0     0.0               No   \n",
       "4196                -1.0                    0.0     0.0               No   \n",
       "5070                -1.0                    0.0     0.0               No   \n",
       "\n",
       "      ratings             genres  box_office  \n",
       "3902      6.7  мелодрама,комедия         NaN  \n",
       "3991      6.7  мелодрама,комедия         NaN  \n",
       "4070      6.7  мелодрама,комедия         NaN  \n",
       "4196      6.7  мелодрама,комедия         NaN  \n",
       "5070      6.7  мелодрама,комедия         NaN  "
      ]
     },
     "execution_count": 32,
     "metadata": {},
     "output_type": "execute_result"
    }
   ],
   "source": [
    "df[df['title'] == 'День святого Валентина_']"
   ]
  },
  {
   "cell_type": "markdown",
   "id": "e88854b4",
   "metadata": {},
   "source": [
    "Let's check the data"
   ]
  },
  {
   "cell_type": "code",
   "execution_count": 33,
   "id": "9b088035",
   "metadata": {
    "scrolled": true
   },
   "outputs": [
    {
     "data": {
      "text/plain": [
       "2010-12-17 12:00:00    96\n",
       "2014-12-01 12:00:00    71\n",
       "2014-12-24 12:00:00    61\n",
       "2016-06-07 12:00:00    41\n",
       "2013-12-19 12:00:00    39\n",
       "                       ..\n",
       "2017-05-25 12:00:00     1\n",
       "2018-03-05 12:00:00     1\n",
       "2015-03-13 12:00:00     1\n",
       "2018-03-17 12:00:00     1\n",
       "2010-05-24 12:00:00     1\n",
       "Name: show_start_date, Length: 1965, dtype: int64"
      ]
     },
     "execution_count": 33,
     "metadata": {},
     "output_type": "execute_result"
    }
   ],
   "source": [
    "df['show_start_date'].value_counts()"
   ]
  },
  {
   "cell_type": "markdown",
   "id": "42429727",
   "metadata": {},
   "source": [
    "We can see some days with more than 30 movies released"
   ]
  },
  {
   "cell_type": "code",
   "execution_count": 34,
   "id": "a5bc9c83",
   "metadata": {
    "scrolled": true
   },
   "outputs": [
    {
     "data": {
      "text/html": [
       "<div>\n",
       "<style scoped>\n",
       "    .dataframe tbody tr th:only-of-type {\n",
       "        vertical-align: middle;\n",
       "    }\n",
       "\n",
       "    .dataframe tbody tr th {\n",
       "        vertical-align: top;\n",
       "    }\n",
       "\n",
       "    .dataframe thead th {\n",
       "        text-align: right;\n",
       "    }\n",
       "</style>\n",
       "<table border=\"1\" class=\"dataframe\">\n",
       "  <thead>\n",
       "    <tr style=\"text-align: right;\">\n",
       "      <th></th>\n",
       "      <th>title</th>\n",
       "      <th>puNumber</th>\n",
       "      <th>show_start_date</th>\n",
       "      <th>type</th>\n",
       "      <th>film_studio</th>\n",
       "      <th>production_country</th>\n",
       "      <th>director</th>\n",
       "      <th>producer</th>\n",
       "      <th>age_restriction</th>\n",
       "      <th>refundable_support</th>\n",
       "      <th>nonrefundable_support</th>\n",
       "      <th>budget</th>\n",
       "      <th>financing_source</th>\n",
       "      <th>ratings</th>\n",
       "      <th>genres</th>\n",
       "      <th>box_office</th>\n",
       "    </tr>\n",
       "  </thead>\n",
       "  <tbody>\n",
       "    <tr>\n",
       "      <th>4579</th>\n",
       "      <td>Продавец</td>\n",
       "      <td>221156410</td>\n",
       "      <td>2010-12-17 12:00:00</td>\n",
       "      <td>Художественный</td>\n",
       "      <td>Гари Санчез Продакшнс</td>\n",
       "      <td>США</td>\n",
       "      <td>Нил Бреннан</td>\n",
       "      <td>Уилл Фаррел, Крис Хенчи</td>\n",
       "      <td>«16+» - для детей старше 16 лет</td>\n",
       "      <td>-1.0</td>\n",
       "      <td>0.0</td>\n",
       "      <td>0.0</td>\n",
       "      <td>No</td>\n",
       "      <td>6.2</td>\n",
       "      <td>комедия</td>\n",
       "      <td>NaN</td>\n",
       "    </tr>\n",
       "    <tr>\n",
       "      <th>4580</th>\n",
       "      <td>Девушка по вызову.</td>\n",
       "      <td>221156610</td>\n",
       "      <td>2010-12-17 12:00:00</td>\n",
       "      <td>Художественный</td>\n",
       "      <td>2929 Продакшнс,Эндинет филмс, Экстеншион 765</td>\n",
       "      <td>США</td>\n",
       "      <td>Стивен Содерберг</td>\n",
       "      <td>Марк Кубан</td>\n",
       "      <td>«16+» - для детей старше 16 лет</td>\n",
       "      <td>-1.0</td>\n",
       "      <td>0.0</td>\n",
       "      <td>0.0</td>\n",
       "      <td>No</td>\n",
       "      <td>6.5</td>\n",
       "      <td>драма</td>\n",
       "      <td>NaN</td>\n",
       "    </tr>\n",
       "    <tr>\n",
       "      <th>4581</th>\n",
       "      <td>Алекс и Эмма</td>\n",
       "      <td>221156910</td>\n",
       "      <td>2010-12-17 12:00:00</td>\n",
       "      <td>Художественный</td>\n",
       "      <td>Эскейп Артистс, Франчайз Пикчерз, Рейнер-Грэйс...</td>\n",
       "      <td>США</td>\n",
       "      <td>Роб Райнер</td>\n",
       "      <td>Тодд Блэк, Элан Грейсман, Джереми Левен, Роб Р...</td>\n",
       "      <td>«16+» - для детей старше 16 лет</td>\n",
       "      <td>-1.0</td>\n",
       "      <td>0.0</td>\n",
       "      <td>0.0</td>\n",
       "      <td>No</td>\n",
       "      <td>6.4</td>\n",
       "      <td>мелодрама,комедия</td>\n",
       "      <td>NaN</td>\n",
       "    </tr>\n",
       "    <tr>\n",
       "      <th>4582</th>\n",
       "      <td>Дорога /По новелле Кормака МкКарфи/</td>\n",
       "      <td>221157110</td>\n",
       "      <td>2010-12-17 12:00:00</td>\n",
       "      <td>Художественный</td>\n",
       "      <td>Дименшн Филмс, Род Ребел, Чокстоун Пикчерз</td>\n",
       "      <td>США</td>\n",
       "      <td>Джон Хиллкоут</td>\n",
       "      <td>Паула Мэй Шварц</td>\n",
       "      <td>«18+» - запрещено для детей</td>\n",
       "      <td>-1.0</td>\n",
       "      <td>0.0</td>\n",
       "      <td>0.0</td>\n",
       "      <td>No</td>\n",
       "      <td>7.2</td>\n",
       "      <td>драма</td>\n",
       "      <td>NaN</td>\n",
       "    </tr>\n",
       "    <tr>\n",
       "      <th>4583</th>\n",
       "      <td>Безумцы</td>\n",
       "      <td>221157210</td>\n",
       "      <td>2010-12-17 12:00:00</td>\n",
       "      <td>Художественный</td>\n",
       "      <td>Овертуре Филмз, Партиписиант Медиа, Пенн Стейш...</td>\n",
       "      <td>США - ОАЭ</td>\n",
       "      <td>Брек Айзнер</td>\n",
       "      <td>Майкл Агиляр</td>\n",
       "      <td>«18+» - запрещено для детей</td>\n",
       "      <td>-1.0</td>\n",
       "      <td>0.0</td>\n",
       "      <td>0.0</td>\n",
       "      <td>No</td>\n",
       "      <td>7.9</td>\n",
       "      <td>драма</td>\n",
       "      <td>NaN</td>\n",
       "    </tr>\n",
       "    <tr>\n",
       "      <th>...</th>\n",
       "      <td>...</td>\n",
       "      <td>...</td>\n",
       "      <td>...</td>\n",
       "      <td>...</td>\n",
       "      <td>...</td>\n",
       "      <td>...</td>\n",
       "      <td>...</td>\n",
       "      <td>...</td>\n",
       "      <td>...</td>\n",
       "      <td>...</td>\n",
       "      <td>...</td>\n",
       "      <td>...</td>\n",
       "      <td>...</td>\n",
       "      <td>...</td>\n",
       "      <td>...</td>\n",
       "      <td>...</td>\n",
       "    </tr>\n",
       "    <tr>\n",
       "      <th>4674</th>\n",
       "      <td>Мисс Конгениальность</td>\n",
       "      <td>221162910</td>\n",
       "      <td>2010-12-17 12:00:00</td>\n",
       "      <td>Художественный</td>\n",
       "      <td>Уорнер Бразерс, Касл Рок Интертейнмент, Фортис...</td>\n",
       "      <td>США-Австралия</td>\n",
       "      <td>Дональд Петри</td>\n",
       "      <td>Сандра Буллок</td>\n",
       "      <td>«12+» - для детей старше 12 лет</td>\n",
       "      <td>-1.0</td>\n",
       "      <td>0.0</td>\n",
       "      <td>0.0</td>\n",
       "      <td>No</td>\n",
       "      <td>7.1</td>\n",
       "      <td>боевик,комедия,криминал</td>\n",
       "      <td>NaN</td>\n",
       "    </tr>\n",
       "    <tr>\n",
       "      <th>4675</th>\n",
       "      <td>Огненная стена</td>\n",
       "      <td>221162110</td>\n",
       "      <td>2010-12-17 12:00:00</td>\n",
       "      <td>Художественный</td>\n",
       "      <td>Уорнер Бразерс, Виллидж Роадшоу Пикчерз, Бикон...</td>\n",
       "      <td>США-Австралия</td>\n",
       "      <td>Ричард Лонкрейн</td>\n",
       "      <td>Эрмиан Бернштейн, Джонатан Шестак</td>\n",
       "      <td>«16+» - для детей старше 16 лет</td>\n",
       "      <td>-1.0</td>\n",
       "      <td>0.0</td>\n",
       "      <td>0.0</td>\n",
       "      <td>No</td>\n",
       "      <td>6.3</td>\n",
       "      <td>триллер,криминал</td>\n",
       "      <td>NaN</td>\n",
       "    </tr>\n",
       "    <tr>\n",
       "      <th>4677</th>\n",
       "      <td>Неадекватные люди</td>\n",
       "      <td>111011410</td>\n",
       "      <td>2010-12-17 12:00:00</td>\n",
       "      <td>Художественный</td>\n",
       "      <td>ООО \"Синема Прайм Фильм\"</td>\n",
       "      <td>Россия</td>\n",
       "      <td>Р.Каримов</td>\n",
       "      <td>М.Кукушкин, А.Тарасов, А.Торопцев</td>\n",
       "      <td>«16+» - для детей старше 16 лет</td>\n",
       "      <td>-1.0</td>\n",
       "      <td>0.0</td>\n",
       "      <td>0.0</td>\n",
       "      <td>No</td>\n",
       "      <td>7.2</td>\n",
       "      <td>драма,комедия</td>\n",
       "      <td>NaN</td>\n",
       "    </tr>\n",
       "    <tr>\n",
       "      <th>4678</th>\n",
       "      <td>Мантикора.</td>\n",
       "      <td>111011510</td>\n",
       "      <td>2010-12-17 12:00:00</td>\n",
       "      <td>Художественный</td>\n",
       "      <td>ООО \"Студия спецэффектов \"Ацидум\"</td>\n",
       "      <td>Россия</td>\n",
       "      <td>Вл.Китт</td>\n",
       "      <td>В.Музыченков</td>\n",
       "      <td>«16+» - для детей старше 16 лет</td>\n",
       "      <td>-1.0</td>\n",
       "      <td>0.0</td>\n",
       "      <td>0.0</td>\n",
       "      <td>No</td>\n",
       "      <td>1.1</td>\n",
       "      <td>триллер</td>\n",
       "      <td>NaN</td>\n",
       "    </tr>\n",
       "    <tr>\n",
       "      <th>4688</th>\n",
       "      <td>Заложник смерти</td>\n",
       "      <td>121023410</td>\n",
       "      <td>2010-12-17 12:00:00</td>\n",
       "      <td>Художественный</td>\n",
       "      <td>Автервардз Продакшнз, Аккорд Филм, Канал +, Кр...</td>\n",
       "      <td>Германия - Франция - Канада</td>\n",
       "      <td>Жилль Бурдо</td>\n",
       "      <td>Кристиан Гань, Оливье Дебоск, Кристиан Ларош, ...</td>\n",
       "      <td>«16+» - для детей старше 16 лет</td>\n",
       "      <td>-1.0</td>\n",
       "      <td>0.0</td>\n",
       "      <td>0.0</td>\n",
       "      <td>No</td>\n",
       "      <td>6.4</td>\n",
       "      <td>триллер,драма,детектив</td>\n",
       "      <td>NaN</td>\n",
       "    </tr>\n",
       "  </tbody>\n",
       "</table>\n",
       "<p>96 rows × 16 columns</p>\n",
       "</div>"
      ],
      "text/plain": [
       "                                    title   puNumber     show_start_date  \\\n",
       "4579                             Продавец  221156410 2010-12-17 12:00:00   \n",
       "4580                   Девушка по вызову.  221156610 2010-12-17 12:00:00   \n",
       "4581                         Алекс и Эмма  221156910 2010-12-17 12:00:00   \n",
       "4582  Дорога /По новелле Кормака МкКарфи/  221157110 2010-12-17 12:00:00   \n",
       "4583                              Безумцы  221157210 2010-12-17 12:00:00   \n",
       "...                                   ...        ...                 ...   \n",
       "4674                 Мисс Конгениальность  221162910 2010-12-17 12:00:00   \n",
       "4675                       Огненная стена  221162110 2010-12-17 12:00:00   \n",
       "4677                    Неадекватные люди  111011410 2010-12-17 12:00:00   \n",
       "4678                           Мантикора.  111011510 2010-12-17 12:00:00   \n",
       "4688                      Заложник смерти  121023410 2010-12-17 12:00:00   \n",
       "\n",
       "                type                                        film_studio  \\\n",
       "4579  Художественный                              Гари Санчез Продакшнс   \n",
       "4580  Художественный       2929 Продакшнс,Эндинет филмс, Экстеншион 765   \n",
       "4581  Художественный  Эскейп Артистс, Франчайз Пикчерз, Рейнер-Грэйс...   \n",
       "4582  Художественный         Дименшн Филмс, Род Ребел, Чокстоун Пикчерз   \n",
       "4583  Художественный  Овертуре Филмз, Партиписиант Медиа, Пенн Стейш...   \n",
       "...              ...                                                ...   \n",
       "4674  Художественный  Уорнер Бразерс, Касл Рок Интертейнмент, Фортис...   \n",
       "4675  Художественный  Уорнер Бразерс, Виллидж Роадшоу Пикчерз, Бикон...   \n",
       "4677  Художественный                           ООО \"Синема Прайм Фильм\"   \n",
       "4678  Художественный                  ООО \"Студия спецэффектов \"Ацидум\"   \n",
       "4688  Художественный  Автервардз Продакшнз, Аккорд Филм, Канал +, Кр...   \n",
       "\n",
       "               production_country          director  \\\n",
       "4579                          США       Нил Бреннан   \n",
       "4580                          США  Стивен Содерберг   \n",
       "4581                          США        Роб Райнер   \n",
       "4582                          США     Джон Хиллкоут   \n",
       "4583                    США - ОАЭ       Брек Айзнер   \n",
       "...                           ...               ...   \n",
       "4674                США-Австралия     Дональд Петри   \n",
       "4675                США-Австралия   Ричард Лонкрейн   \n",
       "4677                       Россия         Р.Каримов   \n",
       "4678                       Россия           Вл.Китт   \n",
       "4688  Германия - Франция - Канада       Жилль Бурдо   \n",
       "\n",
       "                                               producer  \\\n",
       "4579                            Уилл Фаррел, Крис Хенчи   \n",
       "4580                                         Марк Кубан   \n",
       "4581  Тодд Блэк, Элан Грейсман, Джереми Левен, Роб Р...   \n",
       "4582                                    Паула Мэй Шварц   \n",
       "4583                                       Майкл Агиляр   \n",
       "...                                                 ...   \n",
       "4674                                      Сандра Буллок   \n",
       "4675                  Эрмиан Бернштейн, Джонатан Шестак   \n",
       "4677                  М.Кукушкин, А.Тарасов, А.Торопцев   \n",
       "4678                                       В.Музыченков   \n",
       "4688  Кристиан Гань, Оливье Дебоск, Кристиан Ларош, ...   \n",
       "\n",
       "                      age_restriction  refundable_support  \\\n",
       "4579  «16+» - для детей старше 16 лет                -1.0   \n",
       "4580  «16+» - для детей старше 16 лет                -1.0   \n",
       "4581  «16+» - для детей старше 16 лет                -1.0   \n",
       "4582      «18+» - запрещено для детей                -1.0   \n",
       "4583      «18+» - запрещено для детей                -1.0   \n",
       "...                               ...                 ...   \n",
       "4674  «12+» - для детей старше 12 лет                -1.0   \n",
       "4675  «16+» - для детей старше 16 лет                -1.0   \n",
       "4677  «16+» - для детей старше 16 лет                -1.0   \n",
       "4678  «16+» - для детей старше 16 лет                -1.0   \n",
       "4688  «16+» - для детей старше 16 лет                -1.0   \n",
       "\n",
       "      nonrefundable_support  budget financing_source  ratings  \\\n",
       "4579                    0.0     0.0               No      6.2   \n",
       "4580                    0.0     0.0               No      6.5   \n",
       "4581                    0.0     0.0               No      6.4   \n",
       "4582                    0.0     0.0               No      7.2   \n",
       "4583                    0.0     0.0               No      7.9   \n",
       "...                     ...     ...              ...      ...   \n",
       "4674                    0.0     0.0               No      7.1   \n",
       "4675                    0.0     0.0               No      6.3   \n",
       "4677                    0.0     0.0               No      7.2   \n",
       "4678                    0.0     0.0               No      1.1   \n",
       "4688                    0.0     0.0               No      6.4   \n",
       "\n",
       "                       genres  box_office  \n",
       "4579                  комедия         NaN  \n",
       "4580                    драма         NaN  \n",
       "4581        мелодрама,комедия         NaN  \n",
       "4582                    драма         NaN  \n",
       "4583                    драма         NaN  \n",
       "...                       ...         ...  \n",
       "4674  боевик,комедия,криминал         NaN  \n",
       "4675         триллер,криминал         NaN  \n",
       "4677            драма,комедия         NaN  \n",
       "4678                  триллер         NaN  \n",
       "4688   триллер,драма,детектив         NaN  \n",
       "\n",
       "[96 rows x 16 columns]"
      ]
     },
     "execution_count": 34,
     "metadata": {},
     "output_type": "execute_result"
    }
   ],
   "source": [
    "df[df['show_start_date'] == '2010-12-17 12:00:00']"
   ]
  },
  {
   "cell_type": "markdown",
   "id": "efcb6bc4",
   "metadata": {},
   "source": [
    "It's strange that so many films are released in one day. I can assume that this may be the date of the film's appearance in the database or publication on a streaming service"
   ]
  },
  {
   "cell_type": "markdown",
   "id": "d008f583",
   "metadata": {},
   "source": [
    "Let's check the repeats in the puNumber column"
   ]
  },
  {
   "cell_type": "code",
   "execution_count": 35,
   "id": "e0e1db1c",
   "metadata": {},
   "outputs": [
    {
     "data": {
      "text/plain": [
       "221054410    2\n",
       "221154310    2\n",
       "221048915    1\n",
       "121004611    1\n",
       "121014411    1\n",
       "            ..\n",
       "121009015    1\n",
       "111004115    1\n",
       "211047015    1\n",
       "121011015    1\n",
       "124010719    1\n",
       "Name: puNumber, Length: 7484, dtype: int64"
      ]
     },
     "execution_count": 35,
     "metadata": {},
     "output_type": "execute_result"
    }
   ],
   "source": [
    "df['puNumber'].value_counts()"
   ]
  },
  {
   "cell_type": "markdown",
   "id": "ed2990f4",
   "metadata": {
    "id": "52fOPrEBgFyQ"
   },
   "source": [
    "#### Step 2.4. Examine the categorical values\n",
    "\n",
    "- See what a common problem occurs in almost all categorical columns;\n",
    "- Fix the problematic values in the `type` field."
   ]
  },
  {
   "cell_type": "code",
   "execution_count": 36,
   "id": "3d6de74e",
   "metadata": {
    "id": "PnXKIVdFgFyR"
   },
   "outputs": [
    {
     "data": {
      "text/plain": [
       "array(['Художественный', 'Анимационный', 'Прочие', 'Документальный',\n",
       "       'Научно-популярный', ' Художественный', ' Анимационный',\n",
       "       'Музыкально-развлекательный'], dtype=object)"
      ]
     },
     "execution_count": 36,
     "metadata": {},
     "output_type": "execute_result"
    }
   ],
   "source": [
    "df['type'].unique()"
   ]
  },
  {
   "cell_type": "markdown",
   "id": "46a8ae1f",
   "metadata": {},
   "source": [
    "There are extra spaces at the beginning of the line, you need to delete them"
   ]
  },
  {
   "cell_type": "code",
   "execution_count": 37,
   "id": "40f00e02",
   "metadata": {},
   "outputs": [
    {
     "data": {
      "text/plain": [
       "array(['Художественный', 'Анимационный', 'Прочие', 'Документальный',\n",
       "       'Научно-популярный', 'Музыкально-развлекательный'], dtype=object)"
      ]
     },
     "execution_count": 37,
     "metadata": {},
     "output_type": "execute_result"
    }
   ],
   "source": [
    "df['type'] = df['type'].str.strip()\n",
    "df['type'].unique()"
   ]
  },
  {
   "cell_type": "code",
   "execution_count": 38,
   "id": "f0960680",
   "metadata": {},
   "outputs": [
    {
     "data": {
      "text/plain": [
       "array(['США', 'СССР', 'Франция', 'СССР, Венгрия',\n",
       "       'Германия-Великобритания', 'Великобритания - Италия',\n",
       "       'Чехословакия', 'США - Франция - Турция', 'Новая Зеландия',\n",
       "       'Канада - Франция - Испания', 'США-Германия',\n",
       "       'США - Великобритания', 'Великобритания', 'США - Германия',\n",
       "       'Франция - Мексика - США', 'Россия, Казахстан, США',\n",
       "       'СССР, Швеция', 'СССР, Франция, Англия, Куба, ГДР', 'Германия',\n",
       "       'Великобритания-США-Германия-КНР',\n",
       "       'СССР, ЧССР, Западный Берлин, ПНР', 'СССР, Италия', 'Гонконг, КНР',\n",
       "       'США - Франция', 'США - Япония - Франция - Великобритания',\n",
       "       'Гонконг - Сингапур - Таиланд - Великобритания', 'США-Канада',\n",
       "       'Франция - Италия - Великобритания - США', 'Франция - США',\n",
       "       'Ирландия-Великобритания-Германия', 'Чехия', 'США-Австралия',\n",
       "       'СССР, Финляндия', 'США-Франция-Великобритания-Австрия',\n",
       "       'США - Бельгия', 'США - Ирландия - Великобритания',\n",
       "       'Великобритания - США',\n",
       "       'Люксембург - Нидерланды - Испания - Великобритания - США - Италия',\n",
       "       'Великобритания - Франция - США', 'Новая Зеландия - США',\n",
       "       'США - Великобритания - Чехия',\n",
       "       'Канада - Франция - Великобритания', 'Ирландия',\n",
       "       'Великобритания - Германия - США',\n",
       "       'США - Франция - Великобритания', 'Япония', 'СССР, Польша',\n",
       "       'Франция - Испания', 'Канада-Франция', 'Германия - Италия - США',\n",
       "       'Аргентина - Бразилия', 'Дания - Швейцария - Бельгия - Франция',\n",
       "       'США - Испания', 'Германия - США',\n",
       "       'Франция - Австрия - Германия - Италия - США', 'Австрия',\n",
       "       'США - Канада - Германия', 'США - Канада',\n",
       "       'СССР - Швейцария - Франция', 'Россия - Казахстан', 'Гонконг',\n",
       "       'Италия', 'США - ОАЭ', 'Россия',\n",
       "       'США - Франция - Испания - Великобритания',\n",
       "       'Великобритания - Франция', 'США-Италия-Испания-Аргентина',\n",
       "       'Франция-Великобритания', 'КНР - Гонконг',\n",
       "       'Франция - Италия - Швейцария', 'США - Новая Зеландия',\n",
       "       'Франция - Бельгия', 'КНР', 'Германия - Великобритания - Австрия',\n",
       "       'Великобритания - Израиль - Франция - Япония - США', 'Швеция',\n",
       "       'Испания', 'Дания', 'Франция - Бельгия - Люксембург',\n",
       "       'США - Индия - ОАЭ',\n",
       "       'Германия-Канада-Великобритания-Швейцария-Франция',\n",
       "       'Мексика - Чили', 'Аргентина', 'Бразилия', 'Чили', 'Австралия',\n",
       "       'Португалия - Франция', 'США - ЮАР', 'Исландия-Ирландия-Германия',\n",
       "       'США-Индонезия', 'Южная Корея', 'Мексика - Испания - Дания - США',\n",
       "       'Великобритания-США', 'Франция - Италия', 'США-Франция',\n",
       "       'США - Венгрия - Великобритания', 'Бельгия-Франция-Италия',\n",
       "       'Чехия - Германия', 'Германия - Франция', 'США-Нидерланды',\n",
       "       'Украина', 'Великобритания - Германия', 'Франция-Бельгия',\n",
       "       'США-Франция-Испания', 'Италия - Франция', 'Канада',\n",
       "       'Швеция-Франция-Дания', 'Германия-Франция-Польша',\n",
       "       'Франция-Великобритания - Германия',\n",
       "       'США - Бразилия - Франция - Австралия - Великобритания - Германия',\n",
       "       'Германия-Австрия', 'Германия-Италия- Шри-Ланка',\n",
       "       'Великобритания - Испания',\n",
       "       'США - Великобритания - Канада - Швеция',\n",
       "       'Босния и Герцеговина - Франция - Великобритания - Германия - Словения - Бельгия - Сербия',\n",
       "       'Великобритания - Франция - Италия - США', 'США-ОАЭ',\n",
       "       'Испания - Франция', 'США-Великобритания', 'США-ЮАР',\n",
       "       'Великобритания-Австралия - США',\n",
       "       'Норвегия - Швеция - Дания - Германия', 'Норвегия', 'Швейцария',\n",
       "       'Греция - Германия - Франция', 'Норвения', 'Южная Корея - США',\n",
       "       'Чили - Франция - США', 'Австрия - Германия - Франция',\n",
       "       'Швеция - Дания', 'Великобритания - Франция - Бельгия - Италия',\n",
       "       'Франция - Германия', 'Грузия - Франция - Люксембург',\n",
       "       'США - Франция - Великобритания - Бразилия ', 'США - КНР',\n",
       "       'Мексика - Франция', 'США - Германия - Гонконг - Сингапур',\n",
       "       'Финляндия - Австрия - Россия', 'Испания - Куба',\n",
       "       'Великобритания - ЮАР', 'Великобритания - Ирландия', 'Израиль',\n",
       "       'Бразилия - Германия - Порртугалия - Франция ',\n",
       "       'Франция - Канада - Бельгия', 'Франция-Испания',\n",
       "       'Испания - Канада - Япония', 'Иран', 'Швеция-Куба',\n",
       "       'США-Великобритания-Ирландия', 'Гонконг - КНР', 'Нидерланды',\n",
       "       'Испания - Канада', 'Япония-Великобритания',\n",
       "       'Великобритания - Норвегия - Дания - Германия',\n",
       "       'Финляндия - Франция - Германия',\n",
       "       'Мексика - Франция - Нидерланды - Германия', 'США - Индия',\n",
       "       'США-Великобритания-Индия', 'США-Канада-Бельгия',\n",
       "       'Республика Узбекистан', 'Италия ', 'Турция',\n",
       "       'Сербия - Словения - Хорватия - Черногория - Македония',\n",
       "       'Киргизия', 'Германия - Нидерланды - Беларусь - Россия - Латвия',\n",
       "       'Индия', 'Нидерланды - Россия - Германия',\n",
       "       'Великобритания - Нидерланды - Франция - Хорватия',\n",
       "       'Канада - Южная Корея',\n",
       "       'Великобритания - Польша - КНР - Индия - Норвегия',\n",
       "       'Япония - Франция - США - Южная Корея - Турция',\n",
       "       'Мексика - Аргентина - Великобритания', 'Израиль - Франция',\n",
       "       'Польша - Португалия - Франция - Великобритания',\n",
       "       'Австралия - США', 'США - Великобритания ',\n",
       "       'Франция - Люксембург - Бельгия', 'Армения',\n",
       "       'Бельгия - Люксембург - Франция - Швейцария',\n",
       "       'США - Великобритания - Канада', 'Норвегия - Швеция',\n",
       "       'Канада - Франция', 'КНР - Гонконг - США',\n",
       "       'США - Сингапур - Малайзия - Индонезия', 'Германия - Россия',\n",
       "       'Япония - Канада', 'Финляндия - Дания - Германия - Ирландия',\n",
       "       'Франция - Люксембург - Германия - Бельгия - Швейцария - Великобритания ',\n",
       "       'Канада - США', 'США-Италия-Испания', 'США-Испания',\n",
       "       'США - Швейцария - Франция', 'Испания - США - Колумбия',\n",
       "       'Канада-ЮАР', 'Франция - Россия',\n",
       "       'Германия - Финляндия - Австралия', 'Дания - Швеция', 'Бельгия',\n",
       "       'Германия - Франция - Австрия', 'Франция-Индия', 'ЮАР',\n",
       "       'Франция-Перу', 'Франция - Канада', 'Республика Беларусь',\n",
       "       'Великобритания - Австрия - Франция - США',\n",
       "       'Австрия-Германия-Франция', 'США-Россия', 'Германия-США',\n",
       "       'США - Южная Корея', 'Канада - КНР',\n",
       "       'Дания - Швеция - Италия - Франция - Германия',\n",
       "       'Франция-Италия-Испания-Венгрия', 'Франция - Германия - Бельгия',\n",
       "       'Франция-Великобритания-Чехия', 'Румыния - Франция - Бельгия',\n",
       "       'Болгария - Франция - Изриль',\n",
       "       'Израиль - Германия - Польша - Бельгия - Франция - Люксембург',\n",
       "       'Россия, Германия, Франция, Бельгия', 'Индонезия',\n",
       "       'Франция - Португалия', 'Великобритания - Пуэрто-Рико',\n",
       "       'СССР, ФРГ, Западный Берлин', 'Россия, Республика Беларусь',\n",
       "       'США, Великобритания', 'Франция - Австрия', 'Бельгия-Нидерланды',\n",
       "       'Великобритания - США - Индия', 'США - Великобритания - Австралия',\n",
       "       'Канада - Франция - США - ОАЭ - Великобритания',\n",
       "       'США - Австралия - Франция',\n",
       "       'Дания-Франция-Бельгия-Германия-Великобритания',\n",
       "       'Испания - Аргентина', 'Исландия - Финляндия',\n",
       "       'Россия-Польша-Голландия-Словакия', 'Дания - Германия - Швеция',\n",
       "       'Южная Корея - США - Канада', 'Таиланд', 'США-Мальта',\n",
       "       'США -Германия',\n",
       "       'Великобритания - Германия - Франция - Кипр - США', 'Мексика',\n",
       "       'США - Великобритания - Ирландия', 'США - Украина',\n",
       "       'США - Финляндия - Испания - Великобритания - Франция',\n",
       "       'Австралия-Великобритания',\n",
       "       'США - Канада - Афганистан - Бельгия - Франция',\n",
       "       'США - Великобритания - Германия - Новая Зеландия - Бельгия - Франция',\n",
       "       'Франция-Канада',\n",
       "       'Ирландия - Финляндия - Бельгия - Великобритания - США - Швейцария',\n",
       "       'Малайзия - США', 'Германия - Италия',\n",
       "       'США - Франция - Бельгия - Италия', 'Франция - Ирландия - Швеция',\n",
       "       'Азербайджан-Россия', 'Великобритания - Италия - Швейцария',\n",
       "       'США - Германия - Великобритания',\n",
       "       'Германия - Бельгия - США -Франция', 'США-Китай', 'Чили - Испания',\n",
       "       'Франция - Швейцария', 'Канада - Испания',\n",
       "       'США - Румыния - Великобритания', 'США - Япония',\n",
       "       'США - Россия - Франция', 'Франция-США', 'Парагвай',\n",
       "       'Германия - Канада', 'США - Канада - Великобритания',\n",
       "       'Финляндия - Канада', 'Уругвай-Мексика-Германия ', 'США - Чили',\n",
       "       'Германия - Аргентина - Нидерланды - Чили',\n",
       "       'США - Канада - Индонезия', 'Армения - Казахстан', 'Финляндия',\n",
       "       'Испания - Италия - Франция',\n",
       "       'Бельгия - Испания - Канада - Нидерланды',\n",
       "       'Великобритания - Франция - Швеция - Бельгия',\n",
       "       'Мексика - Эквадор - Канада - США - Франция - Малайзия - Италия - Аргентина - Германия - Индия  ',\n",
       "       'Франция - Бенльгия', 'Индия - Великобритания',\n",
       "       'Япония - Великобритания - Франция',\n",
       "       'Испания - Уругвай - Аргентина',\n",
       "       'Франция - Италия - Бельгия - Люксембург',\n",
       "       'Франция - Украина - Грузия - Армения',\n",
       "       'Сербия - Германия - Венгрия', 'Франция-Польша', 'Франция ',\n",
       "       'Румыния-США', 'Россия-Азербайджан',\n",
       "       'США - Нидерланды - Бельгия - Венгрия - Греция - Канада',\n",
       "       'Германия - Франция - Люксембург', 'США - Россия',\n",
       "       'Великобритания - США - Франция', 'США - Австралия - Дания',\n",
       "       'Бельгия-Франция', 'США-Мексика',\n",
       "       'Норвегия - Азербайджан - Россия - Колумбия - Великобритания - Венгрия - Румыния - Франция - Грузия',\n",
       "       'СЩА', 'Бразилия - Испания', 'Россия, Франция, Латвия',\n",
       "       'Нидерланды - США - Германия - Канада - Франция - Ирландия - Великобритания',\n",
       "       'Уругвай - Колумбия', 'США - Испания - Болгария',\n",
       "       'Армения - Германия', 'США - Великобритания- Франция - Швеция',\n",
       "       'США - Мексика', 'Австралия-Турция-США', 'Швеция - Германия',\n",
       "       'Польша - Италия - Россия', 'Франция - Бразилия',\n",
       "       'США - Канада - КНР', 'СССР, Венгрия, ЧССР, ГДР',\n",
       "       'Бельгия - Германия - Люксембург', 'СССР  ', 'СССР ', ' СССР ',\n",
       "       'США - Австралия', 'Бразилия - США',\n",
       "       'США - Великобритания - Канада - КНР', 'Франция - Чили',\n",
       "       'Франция - США - Великобритания - Колумбия - Бельгия - Россия',\n",
       "       'Дания - Великобритания - ЮАР', 'СССР   ',\n",
       "       'Россия-США-Канада-Люксембург', 'Россия - Республика Кипр',\n",
       "       'Германия - США - Швеция - Франция',\n",
       "       'Великобритания-Германия-Канада-ЮАР', ' СССР   ', 'СССР     ',\n",
       "       'Ирландия, Канада',\n",
       "       'Япония - Великобритания - Швейцария - Ирландия - Дания - Франция - Польша - Австралия - Канада  ',\n",
       "       'Великобритания, Канада', 'Бельгия - США',\n",
       "       'Великобритания - США - Россия', 'Россия-Украина',\n",
       "       'Германия - США - Великобритания - Израиль', 'Канада - Германия',\n",
       "       'США- Ю.Корея', 'Индия - Мексика',\n",
       "       'Великобритания - Франция - Республика Кипр - Швейцария - США - Сербия',\n",
       "       'Испания - Аргентина - Индия - США',\n",
       "       'Норвегия - Исландия - США - Великобритания ',\n",
       "       'Турция - Германя - Франция', 'Германия - Великобритания',\n",
       "       'Австралия - Германия', 'Мексика - Испания',\n",
       "       'Великобритания - США - Германия - Бельгия',\n",
       "       'США - Чехия - Франция', 'Россия - Италия', 'Франция-Россия',\n",
       "       'Норвегия - Дания - Швеция', 'Франция - Швейцария - Германия',\n",
       "       'Грузия - Украина', 'Россия - Эстония - Финляндия - Беларусь',\n",
       "       'США - Франция - ЮАР', 'Великобритания - США - Швейцария',\n",
       "       'Канада-США', 'Мексика - Нидерланды - Германия - Франция',\n",
       "       'США - Испания - Франция', 'США - Великобритания - КНР',\n",
       "       'США-Франция-Канада',\n",
       "       'Япония, Великобритания, Австрия, Германия, Ю.Корея',\n",
       "       'Великобритания - Ирландия - США', 'Бельгия - Италия - Франция ',\n",
       "       'Швейцария-Германия-ЮАР', 'Великобритания - США - Германия',\n",
       "       'Германия - Исландия', 'Испания - США', 'СССР    ', 'Хорватия',\n",
       "       'Финляндия - Исландия - Швеция',\n",
       "       'Канада - США - Германия - Франция',\n",
       "       'США - Великобритания - Испания', 'Ирландия-Великобритания',\n",
       "       'Аргентина - Испания', 'Австрия - Германия', ' СССР',\n",
       "       'Германия - Швейцария - Франция - Южная Корея - США',\n",
       "       'Украина - Нидерланды', 'Венгрия - Германия - Швеция',\n",
       "       'Германия - Франция -  Польша - Турция - Канада - Италия - Россия ',\n",
       "       'СССР, Афганистан', 'СССР, Монголия', 'Россия-Кипр',\n",
       "       'Россия, Грузия, Испания',\n",
       "       'Великобритания - Нидерланды - Германия - Франция - Бельгия - Австрия ',\n",
       "       'Испания - Великобритания - Франция',\n",
       "       'Дания - Норвегия - Великобритания',\n",
       "       'Бельгия - Франция - Люксембург',\n",
       "       'Италия - Франция - Швейцария - Великобритания',\n",
       "       'Франция - Бельгия - Великобритания - Испания - Германия - США',\n",
       "       'Швейцария - Израиль - Франция - Великобритания',\n",
       "       'Великобритания - США - Канада - Нидерланды - Франция',\n",
       "       'Россия, Италия', 'СССР, Албания',\n",
       "       'Россия, Украина, Республика Беларусь, Литва',\n",
       "       'Финляндия - Великобритания - Германия', 'Россия, Украина, Польша',\n",
       "       'Франция - Италия - Бельгия - КНР',\n",
       "       'Германия - Бельгия - Люксембург - Ирландия', 'КНР - Сингапур',\n",
       "       'Франция - Бельгия - Великобритания - США - Нидерланды - Канада',\n",
       "       'США - Россия - Польша - Германия - Пуэрто Рико',\n",
       "       'Франция - Бельгия - Канада', 'США ', 'Мексика - США',\n",
       "       'США - Гонконг - КНР ', 'Греция - Россия',\n",
       "       'Ирландия - Дания - Бельгия - Люксембург - Франция',\n",
       "       'Эстония - Россия',\n",
       "       'Великобритания - Исландия - Испания - Швейцария - США',\n",
       "       'Австралия - Великобритания - Бельгия - Индия',\n",
       "       'Швеция - Германия - Франция - Норвегия',\n",
       "       'Нидерланды - Бельгия - Германия - Ирландия',\n",
       "       'Нидерланды - Великобритания - Бельгия',\n",
       "       'США - Колумбия - Испания', 'Франция-Испания-Бельгия-Панама',\n",
       "       'США-Великобритания-Чехия-Румыния',\n",
       "       'Аргентина - Уругвай - Россия - Германия - Франция - Нидерланды',\n",
       "       'Швеция - Франция - Норвегия - Дания',\n",
       "       'Италия-Франция-Великобритания', 'Великобритания, Франция',\n",
       "       'Австралия, США', 'Венесуэла',\n",
       "       'Великобритания - США - Австралия - Ирландия - Германия - Куба - Канада',\n",
       "       'Южная Корея - КНР',\n",
       "       'Аргентина - Мексика - Бразилия - Франция - США', 'Швеция - США',\n",
       "       'Франция - Германия - Турция - Катар', 'Франция-Китай',\n",
       "       'Россия, Германия, Великобритания',\n",
       "       'Великобритания - Италия - Испания', 'Италия - Россия',\n",
       "       'Япония - КНР - Южная Корея', 'Россия, Германия',\n",
       "       'Россия-Ирландия', 'Македония - Франция - Великобритания',\n",
       "       'Франция - Бразилия - Италия', 'Россия-США', 'Армения-Россия',\n",
       "       'Россия, Румыния', 'Франция -  Бельгия', 'Грузия-Франция',\n",
       "       'ЮАР - США', 'Великобритания-США-Франция',\n",
       "       'Великобритания - США - Германия - Канада - Австралия',\n",
       "       'США-Ирландия', 'Россия, Республика Кипр',\n",
       "       'Германия - Люксембург - Франция', 'Россия-Франция',\n",
       "       'США - Нидерланды - Финляндия - Великобритания - Италия',\n",
       "       'Республика Кипр', 'Венгрия', 'Франция - США - Норвегия - Дания',\n",
       "       'Германия - Австрия - Ирландия', 'США - Финляндия',\n",
       "       'Италия-Великобритания', 'Россия, Испания',\n",
       "       'США - Великобритания - Болгария', 'Великобритания - Люксембург',\n",
       "       'Индия - США', 'США - Канада - Россия - Франция - Чили - Ирландия',\n",
       "       'Грузия-Россия',\n",
       "       'Дания - Австрия - Ирландия - Финляндия - Норвегия - Швеция - Нидерланды',\n",
       "       'США-КНР', 'Грузия', 'Австралия - Ирландия',\n",
       "       'Великобритания - Канада', 'Италия - Аргентина - Словения ',\n",
       "       'Испания - Франция - Нидерланды - Германия - Бельгия - Великобритания - Канада',\n",
       "       'Франция - Чехия - Бельгия',\n",
       "       'Великобритания - Франция - Германия - США',\n",
       "       'Ирландия - Великобритания - Франция - США - Германия - Нидерланды',\n",
       "       'США - Канада - Япония - КНР', 'Италия-Франция',\n",
       "       'США - Великобритания - Исландия', 'Великобритания-Франция',\n",
       "       'Франция - Германия - Нидерланды', 'Иран ',\n",
       "       'Франция - Германия - Швеция - США - Чехия - Словакия - Великобритания - Нидерланды',\n",
       "       'Франция - Канада - Н.Зеландия - США - Нидерланды - Германия - Швеция - Россия',\n",
       "       'Турция - США',\n",
       "       'Великобритания - США - Канада - Бельгия - Нидерланды - Австрия - Германия',\n",
       "       'Израиль - Франция - Германия - Палестина - США - Австрия - Великобритания',\n",
       "       'Аргентина - Франция - Испания', 'СССР, Россия',\n",
       "       'Великобритания - Франция - Италия - Индия - Дания - КНР - Бангладеш - Камбоджа - Гаити - Уганда',\n",
       "       'Италия - Франция - Швейцария',\n",
       "       'Ирландия - Великобритания - Канада', 'Перу', 'США - Норвегия',\n",
       "       'Испания-Канада', 'Китай-Гонконг', 'США - Германия - КНР',\n",
       "       'Великобритания - Новая Зеландия',\n",
       "       'Франция - Дания - Швеция - КНР',\n",
       "       'США - Великобритания - Германия - Бельгия - Дания',\n",
       "       'США - Франция - Канада - Германия - Австралия - Индия', nan,\n",
       "       'СССР, Румыния, Франция', 'СССР, ГДР', 'Австралия-Ирландия',\n",
       "       'США - Китай', 'Великобритания - Франция - Австрия - Швеция',\n",
       "       'Россия, Таджикистан', 'Нидерланды - Бельгия - Болгария',\n",
       "       'Великобритания - Канада - США', 'Франция - Бельгия - Испания',\n",
       "       'Китай-Гонконг-США', 'Франция - Великобритания', 'США - Вьетнам',\n",
       "       'США - Германия - Франция', 'Германия - Франция - Бельгия',\n",
       "       'США - Италия',\n",
       "       'Германия - Дания - Испания - Швеция - Канада - Эстония - Франция',\n",
       "       'Княжество Андорра - Украина', 'Германия - Люксембург - Бельгия',\n",
       "       'Великобритания - Россия - Украина - США',\n",
       "       'Германия - Бельгия - Люксембург - Норвегия',\n",
       "       'США - Австралия - Новая Зеландия - Великобритания',\n",
       "       'США - Франция - Канада - Великобритания', 'Испания-Колумбия',\n",
       "       'Великобритания - Чехия - Франция', 'Россия, Украина', 'Исландия',\n",
       "       'Великобритания - Франция - Венгрия',\n",
       "       'Россия, Франция, Германия, Бельгия', 'Франция - Македония',\n",
       "       'Нидерланды - Франция - Германия - Бельгия - Швеция - Великобритания',\n",
       "       'Испания - США - Великобритания - Канада', 'Германия - Австрия',\n",
       "       'Республика Казахстан',\n",
       "       'Франция - Испания - Дания - Венгрия - Швейцария', 'Франция-КНР',\n",
       "       'США - Пуэрто-Рико - Франция ', 'Мексика - Тайвань - США',\n",
       "       'Великобритания - Испания - Непал - Индия - Венгрия - Гонконг - Германия - Дания - Бахрейн',\n",
       "       'Великобритания - Аргентина - США - Франция - Россия - Испания',\n",
       "       'КНР - США', 'Италия - США', 'Финляндия - Швеция - Германия',\n",
       "       'Канада- Испания', 'Франция - Бельгия - Чехия',\n",
       "       'Франция-Бельгия-Канада', 'Франция - Германия - США',\n",
       "       'США - Дания', 'Индия - КНР', 'Чехия-Великобритания-США',\n",
       "       'США-ФРГ-Россия', 'Ирландия-Нидерланды-Франция-США-Великобритания',\n",
       "       'Россия, Грузия, Хорватия, Испания',\n",
       "       'Финляндия - Швеция - Норвегия', 'Сербия - Великобритания - США',\n",
       "       'США - Великобритания - Франция - Гонконг', 'Швейцария - Франция',\n",
       "       'Швейцария - Великобритания', 'ОАЭ - США',\n",
       "       'США - Франция - Германия - Канада - Австралия ',\n",
       "       'Германия - Австралия', 'Иран, Франция',\n",
       "       'США - Великобритания - Новая Зеландия', 'США-Колумбия',\n",
       "       'США-Франция-Ирландия', 'Великобритания - Франция - Бельгия',\n",
       "       'США - Великобритания - Япония', 'США - Франция - Германия',\n",
       "       'Польша - Ирландия', 'Ирландия - Великобритания - Франция - США',\n",
       "       'США - Бельгия - Великобритания', 'СССР, ВНР',\n",
       "       'Испания - Франция - США - Великобритания - Бельгия',\n",
       "       'Франция - Дания - США', 'США - Гонконг', 'Бразилия - К;анада',\n",
       "       'Франция-Германия', 'США - Колумбия',\n",
       "       'США - Ирландия - Великобритания - Франция',\n",
       "       'Великобритания - США - Канада', 'Польша - Франция',\n",
       "       'Канада - США - Нидерланды - Великобритания - Аргентина',\n",
       "       'Великобритания - Дания', 'Франция - Бельгия - Япония',\n",
       "       'Россия,  Испания', 'Франция -Бельгия',\n",
       "       'США - Канада - Германия - Франция', 'США-Канада-Франция',\n",
       "       'Россия - Германия', 'Россия-Италия', 'Китай - Гонконг',\n",
       "       'Германия-Австрия-Франция-Италия', 'США-Япония',\n",
       "       'США - Германия - Канада', 'Испания-Мексика',\n",
       "       'США - Япония - Канада - Великобритания - Германия - Франция',\n",
       "       'США -Великобритания - Австралия', 'Россия-Украина-Германия',\n",
       "       'Израиль - Франция - Великобритания - Германия', 'Корея',\n",
       "       'Россия - Болгария', 'США-Индия',\n",
       "       'Германия-Канада-Франция-Бельгия', 'Германия-Кения',\n",
       "       'Франция - Монако', 'Франция-Испания-Швейцария',\n",
       "       'Австрия-Франция-Германия', 'Румыния',\n",
       "       'США-Великобритания-Франция', 'Канада-Великобритания',\n",
       "       'Канада-Бразилия-Япония', 'Германия - Дания - Норвегия',\n",
       "       'Дания - Германия', 'СССР - Италия',\n",
       "       'СССР - ГДР - Польша - Италия',\n",
       "       'США - Испания - Франция - Великобритания', 'Китай',\n",
       "       'Мексика-Аргентина',\n",
       "       'Германия - Великобритания - Италия - Испания',\n",
       "       'Франция-Германия-Великобритания', 'Россия - Германия - Швейцария',\n",
       "       'Франция-Австралия', 'Голландия', 'Швейцария-Франция',\n",
       "       'Россия-Белоруссия', 'Франция - Испания - Тайвань',\n",
       "       'США-Южная Корея-Новая Зеландия', 'Великобритания-Венгрия',\n",
       "       'Россия-Германия', 'Великобритания-Франция-Германия',\n",
       "       'Франция-Германия-Италия', 'Швеция-Финляндия-Франция-Норвегия',\n",
       "       'Франция-Италия', 'Германия-Израиль',\n",
       "       'Швеция - Германия - Дания - Норвегия', 'США-Бельгия',\n",
       "       'Франция-Гонконг-Ирландия', 'Эстония', 'Литва-Россия-Украина',\n",
       "       'Германия - Италия - Франция',\n",
       "       'Великобритания - Австрия - Германия', 'Бельгия - Франция',\n",
       "       'Россия-Казахстан', 'Испания - Мальта',\n",
       "       'Франция-Россия-Румыния-Италия-Бельгия', 'Россия - Польша',\n",
       "       'Испания - Мексика', 'США-Аргентина', 'Великобритания ',\n",
       "       'Израиль-США-Франция', 'США - Новая Зеландия - Япония',\n",
       "       'Франция - Чехия - Великобритания', 'Россия-Польша',\n",
       "       'Германия-Франция-Великобритания', 'США-Германия-Канада',\n",
       "       'США-Гонконг-Китай', 'США - Великобритания - Германия',\n",
       "       'США-Канада-Австралия', 'Япония-США-Франция',\n",
       "       'Франция-Испания-Германия', 'США - Хорватия - Босния-Герцеговина',\n",
       "       'Великобритания - Чехия - Франция - Италия',\n",
       "       'США - Германия - Нидерланды', 'Германия - Франция - Канада',\n",
       "       'Франция-Грузия-Германия-Россия-Украина-Бельгия',\n",
       "       'Великобритания - Франция - Италия', 'Россия - США',\n",
       "       'Франция - Италия - Иран', 'Россия - Азербайджан', 'Греция',\n",
       "       'Дания - США', 'США-Великобритания-Новая Зеландия',\n",
       "       'США-Германия-Австралия', 'США-Канада-Италия',\n",
       "       'США - Япония - Германия', 'Австралия-США',\n",
       "       'Франция - Великобритания - Багамские острова - США',\n",
       "       'Швейцария - Люксембург', 'Швейцария - Австрия',\n",
       "       'Германия - Швейцария', 'Дания-Швеция-Франция-Германия', 'Польша',\n",
       "       'Швейцария-Австрия', 'Бразилия - Канада - США',\n",
       "       'Нидерланды - Россия', 'Португалия', 'Франция-Аргентина',\n",
       "       'Швеция-Франция', 'Франция-Украина', 'Германия-Украина-Нидерланды',\n",
       "       'Италия-Швейцария', 'США-Германия-Великобритания',\n",
       "       'Латвия - Россия', 'Германия-Франция-Великобритания-США',\n",
       "       'Канада - Италия', 'США - Объединенные Арабские Эмираты',\n",
       "       'США-Венгрия', 'Малайзия', 'Россия - Германия - Украина',\n",
       "       'США - Австралия - Мексика', 'Литва - Венгрия', 'Германия - Китай',\n",
       "       'Казахстан', 'Республика Корея',\n",
       "       'США - Германия - Франция - Великобритания - Канада ',\n",
       "       'Бельгия - Германия - Люксембург - Франция', 'Франция - Греция',\n",
       "       'Италия - Канада', 'США - Великобритания - Франция',\n",
       "       'США-Италия-Греция', 'Германия - США - Великобритания - Ирландия',\n",
       "       'Великобритания - Франция - Германия',\n",
       "       'Германия - Нидерланды - ЮАР',\n",
       "       'США-Япония-Германия-Великобритания-Нидерланды',\n",
       "       'США-Япония-Германия-Великобритания',\n",
       "       'Германия - Франция - Польша',\n",
       "       'Таиланд-Великобритания-Франция-Германия-Испания-Нидерланды',\n",
       "       'Германия-Италия-Швейцария',\n",
       "       'Дания - Швеция - Великобритания - Франция - Германия - Нидерланды - Норвегия - Финляндия',\n",
       "       'Франция - Великобритания - Нидерланды - Люксембург',\n",
       "       'Нидерланды-Великобритания-Франция-Италия-Япония',\n",
       "       'Финляндия-Дания-Германия-Ирландия', 'Испания-Аргентина',\n",
       "       'Великобритания - Нидерланды - Франция - США', 'Канада - Мексика',\n",
       "       'США, Франция', 'Канада-Южная Корея-США',\n",
       "       'Великобритания - Франция - Бельгия - США', 'КНР - Канада - США',\n",
       "       'Италия - Франция - Германия',\n",
       "       'Швеция - Германия - Франция - Дания', 'Франция - США - Бельгия',\n",
       "       'Украина - Германия - Латвия - Эстония', 'Австрия - Люксембург',\n",
       "       'Великобритания - КНР', 'Монголия', 'Франция - Дания',\n",
       "       'Швеция - Дания - Финляндия',\n",
       "       'Сингапур - Великобритания - Индонезия - Канада - США',\n",
       "       'США - Германия - Япония', 'Таиланд - США', 'Франция - Нидерланды',\n",
       "       'Великобритания - Румыния', 'США - Мальта',\n",
       "       'Великобритания - Германия - Нидерланды - Дания',\n",
       "       'Франция - Германия - Литва - Нидерланды - Россия',\n",
       "       'США - ЮАР - Гонконг', 'Австралия - Колумбия',\n",
       "       'Великобритания - Польша', 'США - Великобритания - Швеция',\n",
       "       'Франция - Швеция - Дания - Норвегия', 'Болгария - США',\n",
       "       'СССР, ФРГ', 'Бельгия - Нидерланды - Франция',\n",
       "       'Финляндия - Германия', 'Болгария',\n",
       "       'Грузия - Россия - Украина - Хорватия - Германия',\n",
       "       'Франция - Люксембург', 'Франция - Германия - Австрия',\n",
       "       'Норвегия - США', 'Германия-Швеция', 'Франция - Германия - Италия',\n",
       "       'Франция-Германия-Австрия', 'КНР-США',\n",
       "       'Великобритания - Ирландия - США ',\n",
       "       'Дания - Латвия - Россия - США', 'Финляндия - Польша',\n",
       "       'Германия - Бельгия', 'Германия - США - Франция - Испания',\n",
       "       'Бельгия-Германия-Канада-Франция-США-Великобритания',\n",
       "       'Нидерланды - Бельгия - Люксембург', 'Канада-Германия',\n",
       "       'Люксембург - Бельгия - Франция', 'США-Великобритания-Австралия',\n",
       "       'Великобритания, Новая Зеландия', 'Бельгия, Великобритания, США',\n",
       "       'Великобритания, Австралия', 'Исландия, Бельгия',\n",
       "       'Испания - Швейцария - Великобритания - Германия - Новая Зеландия - Нидерланды - Канада',\n",
       "       'Франция, Бельгия', 'Великобритания, США', 'Киргизия-Россия',\n",
       "       'Германия, США', 'Великобритания, США, Испания',\n",
       "       'Италия - Швейцария - Германия', 'Россия, Армения',\n",
       "       'Франция, Германия', 'Китай, Канада, США', 'Германия, Австралия',\n",
       "       'КНР, США', 'США, Великобритания, Люксембург',\n",
       "       'Испания, Ирландия, Бельгия, Франция',\n",
       "       'Великобритания - Гонконг - Венгрия - США - Ирландия',\n",
       "       'США - Пуэрто Рико', 'Аргентина - Испания - Уругвай',\n",
       "       'Израиль - Германия - Франция - Швейцария',\n",
       "       'Великобритания - Мексика - США', 'Испания - Болгария - США',\n",
       "       'Россия-Словакия-Чехия',\n",
       "       'Швейцария - КНР - США - Россия - Республика Корея - Великобритания',\n",
       "       'Россия, Нидерланды, Финляндия',\n",
       "       'Испания - Бельгия - Франция - Португалия - Великобритания',\n",
       "       'Бразилия - Португалия - Франция', 'Швеция - Норвегия',\n",
       "       'Франция - Польша - Бельгия', 'CША', 'Китай, США',\n",
       "       'Италия, Франция, Германия', 'Германия - Австрия - Франция',\n",
       "       'Чехия - Словакия - Хорватия', 'Россия, Польша, Финляндия',\n",
       "       'Россия, Латвия, Чешская Республика',\n",
       "       'Франция - Великобритания - Камбоджа - США - КНР',\n",
       "       'Чехия - Испания - США', 'Германия - Люксембург - Дания',\n",
       "       'Великобритания - Испания - Германия', 'Дания - Исландия',\n",
       "       'Германия, Франция, Великобритания',\n",
       "       'Великобритания - Испания - Италия - Латвия - Франция - Эстония',\n",
       "       'Дания, Швеция, Великобритания, Франция, Германия, Норвегия, Финляндия, Нидерланды, Италия',\n",
       "       'Польша - Франция - Великобритания',\n",
       "       'Дания, Норвегия, Венгрия, Чехия',\n",
       "       'Дания - Франция - Германия - Швеция',\n",
       "       'Великобритания, Швеция, США',\n",
       "       'Канада, Франция, Италия, Швейцария, США', 'США, Индия',\n",
       "       'США - Великобритания - Германия - - Швеция - Канада',\n",
       "       'Италия, Франция', 'Республика Беларусь, Германия, США, Россия',\n",
       "       'Италия-Швейцария-Франция-Германия ',\n",
       "       'Россия - Франция - Великобритания - Латвия', 'Россия-Беларусь',\n",
       "       'Франция - Испания - Румыния - США - Бельгия', 'Италия-США',\n",
       "       'Россия, Австрия', 'Ирландия - Великобритания - США',\n",
       "       'Швейцария, Великобритания, Франция, США, Ирландия',\n",
       "       'Мексика, Франция, Германия, Дания, Швеция', 'Нидерланды, Бельгия',\n",
       "       'Швеция, Норвегия, Финляндия, Франция', 'Испания, Франция, Италия',\n",
       "       'Испания-Франция-Греция-Индия-США-Россия-Великобритания',\n",
       "       'Великобритания - Япония - США',\n",
       "       'Дания, Канада, Норвегия, Австралия, США', 'Аргентина, Испания',\n",
       "       'Россия, Германия, Казахстан, Польша, Китай',\n",
       "       'Португалия, Франция, Польша, США', 'США - Канада - Аргентина',\n",
       "       'Ливан-США', 'Япония - США', 'США, Гонконг ',\n",
       "       'Франция - Россия - Швейцария - Румыния - Венгрия',\n",
       "       'Аргентина-Испания', 'Россия, Сербия', 'США - Болгария - Мексика',\n",
       "       'США - Великобритания - Швейцария - Франция',\n",
       "       'Таиланд - КНР - США',\n",
       "       'Великобритания, Нидерланды, Польша, Швейцария, Франция',\n",
       "       'Ирландия - США',\n",
       "       'Германия - Франция - Великобритания - Польша - США',\n",
       "       'Великобритания-Франция-Италия', 'США - Австралия - Индия',\n",
       "       'Франция - КНР', 'Великобритания - Израиль',\n",
       "       'Великобритания - Норвегия - Кения - Хорватия',\n",
       "       'США - Бразилия - Великобритания - Канада', 'Германия, Бельгия',\n",
       "       'Австралия, Канада', 'США, Великобритания, Франция',\n",
       "       'Кения, Германия', 'Нидерланды, Бельгия, Люксембург', 'Колумбия',\n",
       "       'Латвия - Франция', 'Ирландия, Великобритания',\n",
       "       'Франция - Израиль - Германия', 'Швеция, Франция, Великобритания',\n",
       "       'Бельгия - Люксембург', 'Германия - Бельгия - Великобритания',\n",
       "       'Испания, Франция, Великобритания, Дания, Бельгия, Германия',\n",
       "       'Румыния, ЮАР, Иран, Франция, Канада, Великобритания',\n",
       "       'Германия, Франция', 'США, Япония',\n",
       "       'США, Великобритания, Ирландия, Люксембург', 'Республика Армения',\n",
       "       'США, Франция, Япония', 'Япония, США', 'Канада, США',\n",
       "       'Республика Кипр - Россия',\n",
       "       'Дания - Франция - Италия - Бельгия - Нидерланды',\n",
       "       'Россия - Грузия', 'Италия, Германия', 'Норвегия, Швеция, Дания',\n",
       "       'Республика Кипр, Россия', 'КНР, Индия, Гонконг, США',\n",
       "       'Израиль, Украина', 'США, Россия', 'США - КНР - Индия - Ю.Корея',\n",
       "       'США - Швеция', 'Франция, Канада', 'Россия-Китай',\n",
       "       'Канада, Великобритания', 'США, Германия',\n",
       "       'Канада, США, Каймановы острова',\n",
       "       'Бразилия, Уругвай, Дания, Норвегия, Чили, Швеция',\n",
       "       'Пуэрто-Рико, Великобритания, США',\n",
       "       'Уругвай - Аргентина - Испания',\n",
       "       'США - Великобритания - Италия - Израиль - Сербия - Индия',\n",
       "       'США - Канада - Франция - Индия', 'Великобритания - Россия - КНР',\n",
       "       'Франция, Новая Зеландия', 'Франция, Люксембург, Бельгия',\n",
       "       'Канада, США, Норвегия', 'Италия, Испания',\n",
       "       'Испания - Германия - Нидерланды', 'Бразилия - США - КНР ',\n",
       "       'Великобритания, Германия, Дания, США', '2019',\n",
       "       'Италия - Фрация - Бразилия - Германия',\n",
       "       'Норвегия - Швеция - Россия', 'Великобритания, Япония, США',\n",
       "       'Сша, Канада', 'Бельгия, Канада',\n",
       "       'Великобритания - Австралия - США', 'США, Канада', 'КНР - США ',\n",
       "       'Франция - Финляндия', 'Колумбия - США',\n",
       "       'Великобритания, Франция, Бельгия', 'Норвегия - Нидерланды',\n",
       "       'Великобритания, Канада, США', 'Япония, Великобритания',\n",
       "       'Италия - Бельгия - Франция', 'Россия, Бельгия, Финляндия',\n",
       "       'США, Украина', 'Франция, Норвегия',\n",
       "       'Великобритания, Южная Корея, Канада, США, Индия, Китай, Япония',\n",
       "       'Канада - Норвегия', 'Республика Кипр-Россия', 'Германия, Россия',\n",
       "       'Польша - Франция - Испания - Бразилия - Швеция',\n",
       "       'Австрия, Великобритания, Германия', 'Франция - Сенегал - Бельгия',\n",
       "       'Франция, Бельгия, Люксембург', 'Финляндия, Латвия', 'Пакистан',\n",
       "       'Германия, Франция, США', 'Германия - Великобритания - США',\n",
       "       'КНР - Франция', 'Дания, Норвегия, Швеция, Исландия',\n",
       "       'Республика Кипр, США, Россия', 'Новая Зеландия - КНР',\n",
       "       'Дания - Канада - Швеция - Франция - Германия - Великобритания - США'],\n",
       "      dtype=object)"
      ]
     },
     "execution_count": 38,
     "metadata": {},
     "output_type": "execute_result"
    }
   ],
   "source": [
    "df['production_country'].unique()"
   ]
  },
  {
   "cell_type": "code",
   "execution_count": 39,
   "id": "758a0d8d",
   "metadata": {},
   "outputs": [],
   "source": [
    "df['production_country'] = df['production_country'].str.strip()\n",
    "df['production_country'] = df['production_country'].str.replace(' - ', '-')\n",
    "df['production_country'] = df['production_country'].str.replace('-', ', ')"
   ]
  },
  {
   "cell_type": "code",
   "execution_count": 40,
   "id": "905f28b7",
   "metadata": {},
   "outputs": [
    {
     "data": {
      "text/plain": [
       "array(['боевик,драма,мелодрама', 'драма,военный',\n",
       "       'фантастика,боевик,триллер', 'драма', 'мелодрама,комедия',\n",
       "       'мюзикл,мелодрама,комедия', 'комедия,криминал',\n",
       "       'боевик,триллер,детектив', 'боевик,драма,приключения',\n",
       "       'драма,спорт', 'триллер,драма,мелодрама', 'комедия,мелодрама',\n",
       "       'драма,мелодрама,комедия', 'драма,мелодрама', 'драма,история',\n",
       "       'драма,мелодрама,семейный', 'комедия,мелодрама,криминал',\n",
       "       'комедия', 'боевик,драма,криминал', 'драма,комедия',\n",
       "       'ужасы,фантастика,комедия', 'мультфильм,короткометражка,мелодрама',\n",
       "       'драма,криминал', 'мультфильм,фантастика,фэнтези',\n",
       "       'триллер,драма,криминал', 'драма,мелодрама,биография',\n",
       "       'драма,комедия,военный', 'фантастика,драма,детектив',\n",
       "       'мюзикл,семейный', nan, 'военный,приключения,драма',\n",
       "       'документальный,драма', 'драма,биография,история',\n",
       "       'боевик,триллер,драма', 'фэнтези,боевик',\n",
       "       'боевик,комедия,криминал', 'мюзикл,комедия,детский',\n",
       "       'комедия,мелодрама,драма', 'мультфильм,фэнтези,комедия',\n",
       "       'комедия,история', 'мелодрама', 'драма,биография,музыка',\n",
       "       'фэнтези,драма,мелодрама', 'триллер,военный',\n",
       "       'драма,мелодрама,военный', 'мюзикл,драма,мелодрама',\n",
       "       'мюзикл,комедия', 'мультфильм,приключения,семейный',\n",
       "       'ужасы,триллер', 'боевик,драма,военный', 'драма,боевик',\n",
       "       'мультфильм,драма,комедия', 'триллер,криминал',\n",
       "       'военный,биография,драма', 'комедия,семейный', 'военный',\n",
       "       'драма,семейный,биография', 'фэнтези,приключения,семейный',\n",
       "       'драма,криминал,биография', 'ужасы,триллер,детектив',\n",
       "       'боевик,история,драма', 'ужасы,триллер,драма',\n",
       "       'драма,криминал,спорт', 'документальный,короткометражка',\n",
       "       'триллер,драма', 'криминал,детектив,приключения',\n",
       "       'драма,комедия,криминал', 'драма,комедия,вестерн',\n",
       "       'драма,мелодрама,детектив', 'мелодрама,биография',\n",
       "       'фэнтези,мелодрама,драма', 'драма,мелодрама,история',\n",
       "       'комедия,приключения,история', 'приключения', 'драма,семейный',\n",
       "       'криминал,детектив', 'мультфильм,короткометражка,ужасы',\n",
       "       'фантастика,триллер,драма', 'фэнтези,мелодрама,комедия',\n",
       "       'драма,биография', 'комедия,криминал,история',\n",
       "       'триллер,драма,детектив', 'фантастика,комедия,приключения',\n",
       "       'фэнтези,семейный', 'ужасы,фантастика,боевик',\n",
       "       'мелодрама,криминал', 'комедия,приключения,мелодрама',\n",
       "       'боевик,триллер,приключения', 'боевик,приключения',\n",
       "       'боевик,триллер,криминал', 'документальный,военный,история',\n",
       "       'драма,музыка', 'боевик,драма', 'приключения,боевик',\n",
       "       'драма,военный,биография', 'триллер,драма,приключения',\n",
       "       'аниме,мультфильм,фэнтези', 'триллер,детектив,драма',\n",
       "       'боевик,триллер,мелодрама', 'боевик,история',\n",
       "       'приключения,история', 'драма,комедия,приключения',\n",
       "       'фэнтези,комедия,приключения', 'драма,вестерн',\n",
       "       'документальный,музыка', 'мелодрама,драма',\n",
       "       'триллер,криминал,детектив', 'ужасы', 'боевик,комедия,приключения',\n",
       "       'мультфильм,фэнтези,боевик', 'боевик,фэнтези,драма',\n",
       "       'фэнтези,драма', 'фэнтези,боевик,комедия',\n",
       "       'приключения,детский,комедия', 'документальный',\n",
       "       'боевик,триллер,комедия', 'мелодрама,комедия,криминал',\n",
       "       'драма,детектив', 'мюзикл,ужасы,триллер', 'детектив,триллер,ужасы',\n",
       "       'ужасы,фэнтези', 'ужасы,фэнтези,триллер', 'мультфильм,драма',\n",
       "       'ужасы,боевик,фантастика', 'боевик', 'фантастика,боевик',\n",
       "       'мелодрама,комедия,приключения', 'триллер,детектив',\n",
       "       'мюзикл,мелодрама,фэнтези', 'криминал', 'триллер,комедия,криминал',\n",
       "       'боевик,приключения,триллер', 'триллер,драма,военный',\n",
       "       'комедия,семейный,музыка', 'комедия,фантастика,мелодрама',\n",
       "       'фантастика,триллер,криминал', 'комедия,драма', 'боевик,военный',\n",
       "       'ужасы,фантастика,триллер', 'фантастика,драма,мелодрама',\n",
       "       'фэнтези,драма,детектив', 'боевик,триллер', 'боевик,драма,история',\n",
       "       'мультфильм,мюзикл,фэнтези', 'для взрослых,драма,мелодрама',\n",
       "       'мультфильм,боевик,детектив', 'фантастика,мелодрама,боевик',\n",
       "       'ужасы,фантастика,детектив', 'фантастика,боевик,приключения',\n",
       "       'мелодрама,комедия,спорт', 'комедия,боевик,приключения',\n",
       "       'документальный,приключения', 'мультфильм,короткометражка,детский',\n",
       "       'комедия,приключения', 'ужасы,драма', 'ужасы,фэнтези,боевик',\n",
       "       'мультфильм,фэнтези,детский', 'мюзикл,боевик,драма',\n",
       "       'семейный,комедия,драма', 'концерт,музыка', 'фэнтези,боевик,драма',\n",
       "       'драма,комедия,музыка', 'фантастика,фэнтези,боевик',\n",
       "       'фэнтези,комедия,семейный', 'фэнтези,драма,комедия',\n",
       "       'мультфильм,мюзикл,драма', 'триллер', 'боевик,криминал,триллер',\n",
       "       'мультфильм,приключения,драма', 'мелодрама,музыка',\n",
       "       'документальный,музыка,концерт', 'мультфильм,семейный',\n",
       "       'мультфильм,комедия,приключения', 'мультфильм,комедия,семейный',\n",
       "       'фантастика,драма', 'фэнтези,боевик,приключения',\n",
       "       'мультфильм,приключения', 'драма,военный,история', 'история',\n",
       "       'драма,приключения,военный',\n",
       "       'документальный,короткометражка,семейный',\n",
       "       'мелодрама,история,триллер', 'ужасы,детектив',\n",
       "       'мюзикл,комедия,приключения', 'драма,спорт,биография',\n",
       "       'фантастика,боевик,комедия', 'фантастика,приключения,детектив',\n",
       "       'короткометражка,драма,военный', 'драма,мультфильм',\n",
       "       'приключения,семейный', 'детектив', 'триллер,приключения',\n",
       "       'аниме,мультфильм,боевик', 'драма,комедия,биография',\n",
       "       'драма,комедия,спорт', 'боевик,мелодрама,комедия',\n",
       "       'семейный,комедия', 'фэнтези,боевик,триллер',\n",
       "       'документальный,фэнтези,семейный', 'фантастика,фэнтези,драма',\n",
       "       'ужасы,комедия,фэнтези', 'документальный,биография,музыка',\n",
       "       'фантастика,боевик,фэнтези', 'ужасы,боевик,триллер',\n",
       "       'комедия,криминал,семейный', 'приключения,драма',\n",
       "       'криминал,драма,триллер', 'драма,детектив,криминал',\n",
       "       'фэнтези,приключения,комедия', 'комедия,спорт',\n",
       "       'мюзикл,фэнтези,мелодрама', 'мультфильм,фэнтези,приключения',\n",
       "       'фантастика,фэнтези,приключения', 'фэнтези',\n",
       "       'фэнтези,приключения,боевик', 'фантастика,боевик,драма',\n",
       "       'криминал,драма', 'криминал,триллер,драма',\n",
       "       'драма,мелодрама,приключения', 'детский,комедия',\n",
       "       'фантастика,драма,боевик', 'мультфильм,семейный,фэнтези',\n",
       "       'концерт,музыка,документальный', 'ужасы,комедия,приключения',\n",
       "       'драма,мелодрама,криминал', 'ужасы,фантастика,фэнтези',\n",
       "       'боевик,комедия', 'мультфильм,фантастика,комедия', 'триллер,ужасы',\n",
       "       'мультфильм,мюзикл,комедия', 'мелодрама,фэнтези,триллер',\n",
       "       'детский,приключения,комедия', 'комедия,детектив',\n",
       "       'аниме,мультфильм,мелодрама', 'документальный,драма,семейный',\n",
       "       'документальный,биография,история', 'военный,боевик,драма',\n",
       "       'ужасы,комедия', 'комедия,приключения,семейный',\n",
       "       'приключения,биография,история', 'детский,приключения,семейный',\n",
       "       'спорт,драма,биография', 'аниме,мультфильм,ужасы',\n",
       "       'фантастика,боевик,криминал', 'мюзикл,драма',\n",
       "       'драма,криминал,детектив', 'аниме,мультфильм,драма',\n",
       "       'драма,триллер,приключения', 'триллер,криминал,драма',\n",
       "       'фэнтези,комедия,драма', 'мультфильм,комедия',\n",
       "       'драма,комедия,история', 'комедия,биография,история',\n",
       "       'мультфильм,фантастика,приключения', 'аниме,мультфильм,фантастика',\n",
       "       'мультфильм,фэнтези,семейный', 'мультфильм,боевик,комедия',\n",
       "       'комедия,криминал,спорт', 'документальный,мюзикл',\n",
       "       'мелодрама,комедия,музыка', 'биография',\n",
       "       'триллер,криминал,комедия', 'фантастика,драма,комедия',\n",
       "       'комедия,драма,мелодрама', 'фантастика,приключения,боевик',\n",
       "       'мультфильм,фэнтези,драма', 'триллер,комедия',\n",
       "       'драма,приключения,биография', 'фантастика,комедия',\n",
       "       'мелодрама,драма,комедия', 'боевик,криминал',\n",
       "       'драма,криминал,боевик', 'мультфильм,мюзикл,детский',\n",
       "       'драма,фэнтези', 'документальный,семейный',\n",
       "       'фэнтези,драма,приключения', 'ужасы,комедия,фантастика',\n",
       "       'драма,мелодрама,музыка', 'фэнтези,драма,семейный',\n",
       "       'триллер,мелодрама,драма', 'вестерн,боевик,драма',\n",
       "       'мультфильм,короткометражка,комедия', 'триллер,драма,история',\n",
       "       'ужасы,фантастика', 'ужасы,мелодрама,комедия',\n",
       "       'фэнтези,приключения', 'фантастика,триллер',\n",
       "       'ужасы,боевик,фэнтези', 'мультфильм,комедия,детский',\n",
       "       'триллер,драма,биография', 'мультфильм,ужасы,фэнтези',\n",
       "       'мультфильм,ужасы,фантастика', 'ужасы,боевик,комедия',\n",
       "       'драма,биография,спорт', 'мультфильм', 'мелодрама,комедия,драма',\n",
       "       'приключения,фантастика,семейный', 'комедия,криминал,детектив',\n",
       "       'ужасы,триллер,комедия', 'криминал,комедия,триллер',\n",
       "       'семейный,приключения,комедия', 'мультфильм,драма,приключения',\n",
       "       'ужасы,драма,детектив', 'драма,приключения,фэнтези',\n",
       "       'фантастика,мультфильм,драма', 'драма,триллер,детектив',\n",
       "       'драма,история,музыка', 'детский', 'триллер,боевик,криминал',\n",
       "       'драма,фантастика', 'комедия,драма,семейный',\n",
       "       'боевик,драма,комедия', 'комедия,ужасы',\n",
       "       'драма,фантастика,триллер', 'фантастика,драма,триллер',\n",
       "       'история,спорт,драма', 'документальный,биография',\n",
       "       'биография,история', 'спорт,драма', 'боевик,фэнтези',\n",
       "       'мультфильм,фэнтези', 'документальный,комедия,история',\n",
       "       'криминал,комедия,боевик', 'фэнтези,приключения,драма',\n",
       "       'музыка,концерт', 'триллер,драма,боевик',\n",
       "       'комедия,криминал,боевик', 'комедия,фантастика,боевик',\n",
       "       'вестерн,приключения,боевик', 'аниме,мультфильм,комедия',\n",
       "       'детектив,криминал,триллер', 'мультфильм,комедия,криминал',\n",
       "       'комедия,приключения,детектив', 'мелодрама,фантастика,драма',\n",
       "       'драма,комедия,семейный', 'приключения,фантастика',\n",
       "       'триллер,детектив,ужасы', 'комедия,приключения,фэнтези',\n",
       "       'фэнтези,триллер,драма', 'мелодрама,приключения,боевик',\n",
       "       'детектив,триллер,криминал', 'фэнтези,семейный,мелодрама',\n",
       "       'военный,драма', 'документальный,приключения,семейный',\n",
       "       'криминал,комедия,драма', 'комедия,фантастика',\n",
       "       'история,биография,драма', 'мелодрама,драма,музыка',\n",
       "       'боевик,мелодрама', 'комедия,криминал,триллер',\n",
       "       'детектив,триллер,боевик', 'комедия,боевик,криминал',\n",
       "       'комедия,вестерн', 'детский,мелодрама,семейный',\n",
       "       'короткометражка,мультфильм', 'комедия,фэнтези',\n",
       "       'фантастика,драма,ужасы', 'триллер,драма,ужасы',\n",
       "       'драма,фэнтези,история', 'комедия,драма,короткометражка',\n",
       "       'фэнтези,триллер,приключения', 'семейный',\n",
       "       'комедия,криминал,драма', 'комедия,фэнтези,ужасы',\n",
       "       'короткометражка,комедия,криминал', 'фантастика',\n",
       "       'триллер,ужасы,драма', 'мелодрама,драма,фэнтези',\n",
       "       'фантастика,приключения,драма', 'боевик,детектив',\n",
       "       'военный,драма,боевик', 'комедия,мелодрама,фэнтези',\n",
       "       'вестерн,криминал,триллер', 'драма,история,триллер',\n",
       "       'мультфильм,фантастика,боевик', 'детектив,драма,криминал',\n",
       "       'приключения,история,драма', 'мультфильм,семейный,детский',\n",
       "       'биография,драма,история', 'триллер,криминал,боевик',\n",
       "       'история,мелодрама', 'приключения,детский',\n",
       "       'музыка,приключения,концерт', 'военный,драма,комедия',\n",
       "       'фэнтези,боевик,военный', 'фантастика,детектив,боевик',\n",
       "       'мультфильм,фэнтези,история', 'биография,мелодрама,драма',\n",
       "       'документальный,биография,спорт', 'фантастика,комедия,детектив',\n",
       "       'музыка,концерт,документальный', 'триллер,боевик,приключения',\n",
       "       'триллер,драма,комедия', 'детектив,криминал',\n",
       "       'мультфильм,приключения,фэнтези', 'мелодрама,приключения',\n",
       "       'комедия,музыка', 'мелодрама,комедия,ужасы',\n",
       "       'драма,криминал,приключения', 'приключения,детектив,мелодрама',\n",
       "       'драма,криминал,фантастика', 'фэнтези,драма,биография',\n",
       "       'детектив,фантастика,криминал', 'триллер,драма,фантастика',\n",
       "       'ужасы,комедия,боевик', 'мелодрама,история', 'триллер,боевик',\n",
       "       'фильм-нуар,триллер,детектив', 'комедия,криминал,приключения',\n",
       "       'ужасы,триллер,мелодрама', 'военный,драма,история',\n",
       "       'драма,спорт,история', 'документальный,драма,история',\n",
       "       'триллер,мелодрама,детектив', 'детский,семейный',\n",
       "       'мюзикл,семейный,драма', 'биография,военный,драма',\n",
       "       'мультфильм,детский', 'боевик,криминал,драма',\n",
       "       'детектив,фэнтези,триллер', 'драма,боевик,приключения',\n",
       "       'драма,мелодрама,фэнтези', 'детектив,история,драма',\n",
       "       'фэнтези,боевик,ужасы', 'ужасы,фэнтези,мелодрама',\n",
       "       'ужасы,приключения', 'боевик,фантастика',\n",
       "       'ужасы,мелодрама,детектив', 'фантастика,триллер,приключения',\n",
       "       'боевик,приключения,история', 'приключения,боевик,триллер',\n",
       "       'детектив,ужасы,криминал', 'семейный,фэнтези', 'мюзикл,мелодрама',\n",
       "       'драма,военный,приключения', 'фантастика,драма,приключения',\n",
       "       'приключения,семейный,драма', 'история,драма,боевик',\n",
       "       'мультфильм,приключения,комедия', 'криминал,драма,комедия',\n",
       "       'ужасы,комедия,драма', 'комедия,семейный,приключения',\n",
       "       'мюзикл,фэнтези,драма', 'драма,вестерн,боевик',\n",
       "       'фантастика,триллер,детектив', 'драма,история,детектив',\n",
       "       'короткометражка,биография', 'мультфильм,приключения,фантастика',\n",
       "       'комедия,триллер', 'мультфильм,приключения,детектив',\n",
       "       'драма,триллер', 'ужасы,триллер,криминал',\n",
       "       'документальный,криминал,военный', 'ужасы,фэнтези,драма',\n",
       "       'фэнтези,комедия', 'ужасы,фэнтези,комедия', 'комедия,музыка,драма',\n",
       "       'мультфильм,приключения,военный', 'мюзикл,фэнтези,комедия',\n",
       "       'боевик,фантастика,приключения', 'триллер,ужасы,криминал',\n",
       "       'ужасы,фантастика,драма', 'фантастика,приключения,семейный',\n",
       "       'короткометражка,музыка', 'мелодрама,детектив,комедия',\n",
       "       'документальный,триллер,биография', 'боевик,фантастика,триллер',\n",
       "       'спорт,драма,комедия', 'фэнтези,мелодрама,приключения',\n",
       "       'триллер,детектив,криминал', 'короткометражка,мелодрама',\n",
       "       'мультфильм,семейный,спорт', 'комедия,фэнтези,мелодрама',\n",
       "       'драма,спорт,комедия', 'история,драма,мелодрама',\n",
       "       'драма,боевик,криминал', 'драма,комедия,триллер',\n",
       "       'аниме,мультфильм', 'документальный,ужасы',\n",
       "       'мультфильм,короткометражка', 'драма,история,военный',\n",
       "       'мультфильм,короткометражка,фэнтези', 'комедия,военный,музыка',\n",
       "       'биография,история,драма', 'ужасы,драма,мелодрама',\n",
       "       'драма,комедия,детектив', 'комедия,семейный,фантастика',\n",
       "       'мультфильм,семейный,комедия', 'история,детектив',\n",
       "       'приключения,мелодрама,детектив', 'мюзикл,комедия,мелодрама',\n",
       "       'драма,фантастика,ужасы', 'мультфильм,ужасы,комедия',\n",
       "       'для взрослых,драма,комедия', 'ужасы,комедия,музыка',\n",
       "       'комедия,история,драма', 'семейный,детектив,детский',\n",
       "       'короткометражка,драма', 'документальный,новости,драма',\n",
       "       'триллер,мелодрама', 'ужасы,драма,вестерн',\n",
       "       'мюзикл,фэнтези,семейный', 'вестерн,драма,триллер',\n",
       "       'приключения,вестерн,боевик', 'семейный,комедия,музыка',\n",
       "       'боевик,драма,вестерн', 'ужасы,драма,триллер',\n",
       "       'фантастика,мелодрама', 'комедия,криминал,биография',\n",
       "       'семейный,мультфильм,комедия', 'комедия,драма,криминал',\n",
       "       'фантастика,боевик,военный', 'приключения,биография,драма',\n",
       "       'приключения,триллер,биография', 'криминал,боевик,триллер',\n",
       "       'боевик,вестерн,приключения', 'история,драма',\n",
       "       'фантастика,фэнтези,комедия', 'мультфильм,детский,комедия',\n",
       "       'мелодрама,комедия,триллер', 'документальный,боевик,приключения',\n",
       "       'драма,приключения', 'мелодрама,военный,драма', 'триллер,фэнтези',\n",
       "       'драма,триллер,биография', 'фэнтези,боевик,семейный',\n",
       "       'фантастика,триллер,комедия', 'документальный,фэнтези',\n",
       "       'комедия,мультфильм,фантастика', 'криминал,биография,комедия',\n",
       "       'биография,спорт,драма', 'приключения,военный',\n",
       "       'мультфильм,семейный,драма', 'документальный,фэнтези,драма',\n",
       "       'комедия,боевик,фантастика', 'семейный,приключения,военный',\n",
       "       'триллер,ужасы,детектив', 'короткометражка',\n",
       "       'мелодрама,триллер,история', 'документальный,история',\n",
       "       'мультфильм,приключения,детский', 'драма,комедия,мультфильм',\n",
       "       'военный,детектив', 'семейный,приключения,документальный',\n",
       "       'детский,фэнтези', 'документальный,комедия', 'комедия,биография',\n",
       "       'криминал,комедия', 'спорт,мелодрама,криминал',\n",
       "       'фантастика,комедия,боевик', 'боевик,приключения,детектив',\n",
       "       'детектив,триллер,драма', 'документальный,фантастика',\n",
       "       'мелодрама,комедия,семейный', 'мультфильм,мелодрама,комедия',\n",
       "       'драма,спорт,семейный', 'фантастика,мелодрама,фэнтези',\n",
       "       'мюзикл,комедия,музыка', 'фантастика,триллер,мелодрама',\n",
       "       'приключения,комедия,фэнтези', 'фэнтези,боевик,детектив',\n",
       "       'фэнтези,боевик,мелодрама', 'комедия,военный',\n",
       "       'драма,спорт,боевик', 'мультфильм,боевик,триллер',\n",
       "       'мелодрама,семейный', 'фантастика,боевик,детектив',\n",
       "       'драма,приключения,история', 'документальный,драма,музыка',\n",
       "       'фантастика,триллер,боевик', 'фэнтези,боевик,вестерн',\n",
       "       'драма,комедия,мелодрама', 'ужасы,фэнтези,приключения',\n",
       "       'триллер,фэнтези,драма', 'мультфильм,мюзикл,мелодрама',\n",
       "       'ужасы,триллер,фантастика', 'триллер,мелодрама,комедия',\n",
       "       'ужасы,комедия,семейный', 'комедия,приключения,музыка',\n",
       "       'документальный,комедия,криминал', 'мелодрама,детектив',\n",
       "       'детский,приключения,фантастика', 'короткометражка,боевик,драма',\n",
       "       'боевик,комедия,семейный', 'фантастика,боевик,мелодрама',\n",
       "       'фэнтези,триллер,мелодрама', 'драма,детектив,история',\n",
       "       'боевик,криминал,детектив', 'мультфильм,фэнтези,мелодрама',\n",
       "       'мелодрама,драма,боевик', 'драма,вестерн,приключения',\n",
       "       'драма,приключения,мелодрама', 'фэнтези,боевик,криминал',\n",
       "       'фантастика,комедия,семейный', 'детский,фэнтези,приключения',\n",
       "       'ужасы,боевик', 'фантастика,мелодрама,комедия',\n",
       "       'семейный,спорт,боевик', 'триллер,биография,драма',\n",
       "       'ужасы,драма,комедия', 'мультфильм,фэнтези,триллер', 'мюзикл',\n",
       "       'боевик,спорт,драма', 'комедия,приключения,вестерн',\n",
       "       'документальный,ужасы,боевик', 'фантастика,боевик,семейный',\n",
       "       'военный,история', 'ужасы,боевик,криминал', 'детектив,триллер',\n",
       "       'драма,семейный,комедия', 'драма,детектив,приключения',\n",
       "       'драма,криминал,история', 'приключения,триллер',\n",
       "       'боевик,драма,биография', 'драма,приключения,триллер',\n",
       "       'комедия,фэнтези,приключения', 'фантастика,боевик,ужасы',\n",
       "       'драма,комедия,фантастика', 'детектив,криминал,драма',\n",
       "       'боевик,триллер,фэнтези', 'приключения,детектив,семейный',\n",
       "       'ужасы,комедия,криминал', 'мультфильм,биография,драма',\n",
       "       'история,боевик,фэнтези', 'детектив,криминал,боевик',\n",
       "       'приключения,фэнтези', 'комедия,приключения,спорт',\n",
       "       'драма,биография,мюзикл', 'комедия,семейный,фэнтези',\n",
       "       'детектив,драма,триллер', 'боевик,приключения,семейный',\n",
       "       'биография,спорт,комедия', 'фантастика,приключения,военный',\n",
       "       'документальный,драма,биография', 'детектив,приключения,драма',\n",
       "       'аниме,мультфильм,приключения', 'семейный,приключения',\n",
       "       'ужасы,фэнтези,детектив', 'семейный,документальный',\n",
       "       'драма,приключения,семейный', 'приключения,история,военный',\n",
       "       'фэнтези,мелодрама', 'фэнтези,триллер,детектив',\n",
       "       'документальный,спорт,биография', 'комедия,триллер,драма',\n",
       "       'драма,ужасы', 'биография,музыка,драма', 'фэнтези,ужасы',\n",
       "       'детектив,мелодрама,фэнтези', 'боевик,военный,история',\n",
       "       'биография,драма,криминал', 'триллер,мелодрама,криминал',\n",
       "       'семейный,мелодрама', 'биография,драма', 'военный,история,драма',\n",
       "       'фантастика,детектив,фэнтези', 'детектив,приключения,триллер',\n",
       "       'фантастика,приключения', 'мультфильм,короткометражка,мюзикл',\n",
       "       'мультфильм,детский,семейный', 'документальный,драма,комедия',\n",
       "       'комедия,приключения,криминал', 'документальный,семейный,музыка',\n",
       "       'мелодрама,музыка,драма', 'детектив,фантастика,триллер',\n",
       "       'драма,мелодрама,триллер', 'биография,драма,военный',\n",
       "       'приключения,фантастика,драма', 'детектив,фильм-нуар,комедия',\n",
       "       'документальный,спорт', 'триллер,фантастика,драма',\n",
       "       'биография,документальный', 'ужасы,фантастика,мелодрама',\n",
       "       'детектив,комедия', 'история,биография,военный',\n",
       "       'криминал,мелодрама', 'драма,криминал,вестерн',\n",
       "       'мелодрама,семейный,приключения', 'триллер,ужасы,мелодрама',\n",
       "       'фэнтези,драма,фильм-нуар', 'детектив,мелодрама',\n",
       "       'комедия,драма,биография', 'драма,военный,боевик',\n",
       "       'драма,комедия,ужасы', 'фантастика,драма,криминал',\n",
       "       'документальный,музыка,биография', 'мультфильм,боевик,приключения',\n",
       "       'короткометражка,фантастика', 'мультфильм,мелодрама,драма',\n",
       "       'боевик,военный,драма', 'фэнтези,семейный,приключения',\n",
       "       'детский,мультфильм,приключения', 'семейный,фэнтези,комедия',\n",
       "       'фэнтези,ужасы,триллер', 'ужасы,триллер,приключения',\n",
       "       'драма,боевик,история', 'фэнтези,комедия,детектив',\n",
       "       'история,приключения', 'аниме,мультфильм,короткометражка',\n",
       "       'драма,военный,триллер', 'биография,криминал,триллер',\n",
       "       'фантастика,фэнтези,детектив', 'вестерн,биография,драма',\n",
       "       'биография,музыка,мюзикл', 'драма,история,биография',\n",
       "       'приключения,драма,фантастика', 'комедия,фэнтези,криминал',\n",
       "       'биография,спорт,история', 'драма,криминал,семейный',\n",
       "       'детектив,боевик,история', 'ужасы,комедия,детектив',\n",
       "       'триллер,приключения,драма', 'фэнтези,комедия,криминал',\n",
       "       'триллер,криминал,приключения', 'комедия,детектив,приключения',\n",
       "       'фэнтези,драма,ужасы', 'ужасы,драма,военный', 'реальное ТВ',\n",
       "       'аниме,мультфильм,детектив', 'приключения,фэнтези,семейный',\n",
       "       'драма,биография,комедия', 'триллер,комедия,ужасы',\n",
       "       'музыка,мелодрама,фэнтези', 'мультфильм,история',\n",
       "       'мультфильм,комедия,фантастика', 'биография,криминал,драма',\n",
       "       'комедия,мелодрама,фантастика', 'криминал,боевик,комедия',\n",
       "       'история,криминал', 'детектив,комедия,драма',\n",
       "       'триллер,фантастика,боевик', 'криминал,боевик',\n",
       "       'комедия,драма,военный', 'драма,триллер,криминал',\n",
       "       'мультфильм,мелодрама,приключения', 'фантастика,фэнтези,триллер',\n",
       "       'короткометражка,драма,триллер', 'военный,боевик,история',\n",
       "       'боевик,драма,триллер', 'документальный,военный,драма',\n",
       "       'драма,криминал,фильм-нуар', 'мультфильм,детский,приключения',\n",
       "       'мелодрама,история,драма'], dtype=object)"
      ]
     },
     "execution_count": 40,
     "metadata": {},
     "output_type": "execute_result"
    }
   ],
   "source": [
    "df['genres'].unique()"
   ]
  },
  {
   "cell_type": "markdown",
   "id": "fd135507",
   "metadata": {},
   "source": [
    "I found that there are problems with data recording in the categorical columns production_country, type. There are extra commas"
   ]
  },
  {
   "cell_type": "markdown",
   "id": "576aec05",
   "metadata": {
    "id": "XFSN5lrEgFyR"
   },
   "source": [
    "#### Step 2.5. Check the quantitative values\n",
    "\n",
    "- Check whether suspicious data is found in such columns. What is the best way to deal with such data?"
   ]
  },
  {
   "cell_type": "code",
   "execution_count": 41,
   "id": "486d00b8",
   "metadata": {},
   "outputs": [],
   "source": [
    "df['refundable_support'] = df['refundable_support'] / 1000000\n",
    "df['nonrefundable_support'] = df['nonrefundable_support'] / 1000000\n",
    "df['budget'] = df['budget'] / 1000000"
   ]
  },
  {
   "cell_type": "markdown",
   "id": "795ce711",
   "metadata": {},
   "source": [
    "Let's show the histograms"
   ]
  },
  {
   "cell_type": "code",
   "execution_count": 42,
   "id": "934c8dc6",
   "metadata": {
    "scrolled": false
   },
   "outputs": [
    {
     "data": {
      "image/png": "[encoded data removed]",
      "text/plain": [
       "<Figure size 1500x1000 with 9 Axes>"
      ]
     },
     "metadata": {},
     "output_type": "display_data"
    }
   ],
   "source": [
    "df.hist(figsize=(15, 10), bins=100)\n",
    "plt.show()"
   ]
  },
  {
   "cell_type": "markdown",
   "id": "f5c0b0b8",
   "metadata": {},
   "source": [
    "For a categorical feature, we will show a barplot "
   ]
  },
  {
   "cell_type": "code",
   "execution_count": 43,
   "id": "f104ec0c",
   "metadata": {
    "scrolled": false
   },
   "outputs": [
    {
     "data": {
      "image/png": "[encoded data removed]",
      "text/plain": [
       "<Figure size 640x480 with 1 Axes>"
      ]
     },
     "metadata": {},
     "output_type": "display_data"
    }
   ],
   "source": [
    "df['type'].value_counts().plot.bar()\n",
    "plt.show()"
   ]
  },
  {
   "cell_type": "markdown",
   "id": "e798f16f",
   "metadata": {},
   "source": [
    "We see a lot of zeros in the refundable_support, non-refundable_support, budget columns. Let's build histograms without zeros"
   ]
  },
  {
   "cell_type": "code",
   "execution_count": 44,
   "id": "3bd75e2f",
   "metadata": {},
   "outputs": [
    {
     "data": {
      "image/png": "[encoded data removed]",
      "text/plain": [
       "<Figure size 1500x1000 with 4 Axes>"
      ]
     },
     "metadata": {},
     "output_type": "display_data"
    }
   ],
   "source": [
    "df[df['budget'] != 0][['budget', 'nonrefundable_support', 'refundable_support']].hist(figsize=(15, 10))\n",
    "plt.show()"
   ]
  },
  {
   "cell_type": "code",
   "execution_count": 45,
   "id": "9600c4a0",
   "metadata": {},
   "outputs": [
    {
     "data": {
      "text/plain": [
       "3255     528.4\n",
       "6549     563.8\n",
       "5653     590.2\n",
       "2920     635.3\n",
       "3351     684.2\n",
       "7171     779.9\n",
       "7474     944.0\n",
       "7464     980.0\n",
       "5437   1,032.9\n",
       "7114   2,305.1\n",
       "Name: budget, dtype: float64"
      ]
     },
     "execution_count": 45,
     "metadata": {},
     "output_type": "execute_result"
    }
   ],
   "source": [
    "df['budget'].sort_values().tail(10)"
   ]
  },
  {
   "cell_type": "markdown",
   "id": "c4a47c6e",
   "metadata": {},
   "source": [
    "The value of 2305 million is clearly knocked out. This is the movie \"The Secret of the Dragon Seal\". Wikipedia states that the film's budget is 2.8 billion, which is at least commensurate with our value"
   ]
  },
  {
   "cell_type": "code",
   "execution_count": 46,
   "id": "2ec2693e",
   "metadata": {},
   "outputs": [
    {
     "data": {
      "text/html": [
       "<div>\n",
       "<style scoped>\n",
       "    .dataframe tbody tr th:only-of-type {\n",
       "        vertical-align: middle;\n",
       "    }\n",
       "\n",
       "    .dataframe tbody tr th {\n",
       "        vertical-align: top;\n",
       "    }\n",
       "\n",
       "    .dataframe thead th {\n",
       "        text-align: right;\n",
       "    }\n",
       "</style>\n",
       "<table border=\"1\" class=\"dataframe\">\n",
       "  <thead>\n",
       "    <tr style=\"text-align: right;\">\n",
       "      <th></th>\n",
       "      <th>title</th>\n",
       "      <th>puNumber</th>\n",
       "      <th>show_start_date</th>\n",
       "      <th>type</th>\n",
       "      <th>film_studio</th>\n",
       "      <th>production_country</th>\n",
       "      <th>director</th>\n",
       "      <th>producer</th>\n",
       "      <th>age_restriction</th>\n",
       "      <th>refundable_support</th>\n",
       "      <th>nonrefundable_support</th>\n",
       "      <th>budget</th>\n",
       "      <th>financing_source</th>\n",
       "      <th>ratings</th>\n",
       "      <th>genres</th>\n",
       "      <th>box_office</th>\n",
       "    </tr>\n",
       "  </thead>\n",
       "  <tbody>\n",
       "    <tr>\n",
       "      <th>7114</th>\n",
       "      <td>Тайна Печати Дракона</td>\n",
       "      <td>111012819</td>\n",
       "      <td>2019-09-12 12:00:00</td>\n",
       "      <td>Художественный</td>\n",
       "      <td>ООО \"Кинокомпания \"СТВ\"; ООО \"РФГ Корп\"; ООО \"...</td>\n",
       "      <td>Россия, Китай</td>\n",
       "      <td>О.Степченко</td>\n",
       "      <td>С.Сельянов, А.Петрухин</td>\n",
       "      <td>«6+» - для детей старше 6 лет</td>\n",
       "      <td>180.0</td>\n",
       "      <td>90.0</td>\n",
       "      <td>2,305.1</td>\n",
       "      <td>Фонд кино</td>\n",
       "      <td>5.8</td>\n",
       "      <td>приключения,фэнтези</td>\n",
       "      <td>333,597,059.6</td>\n",
       "    </tr>\n",
       "  </tbody>\n",
       "</table>\n",
       "</div>"
      ],
      "text/plain": [
       "                     title   puNumber     show_start_date            type  \\\n",
       "7114  Тайна Печати Дракона  111012819 2019-09-12 12:00:00  Художественный   \n",
       "\n",
       "                                            film_studio production_country  \\\n",
       "7114  ООО \"Кинокомпания \"СТВ\"; ООО \"РФГ Корп\"; ООО \"...      Россия, Китай   \n",
       "\n",
       "         director                producer                age_restriction  \\\n",
       "7114  О.Степченко  С.Сельянов, А.Петрухин  «6+» - для детей старше 6 лет   \n",
       "\n",
       "      refundable_support  nonrefundable_support  budget financing_source  \\\n",
       "7114               180.0                   90.0 2,305.1        Фонд кино   \n",
       "\n",
       "      ratings               genres    box_office  \n",
       "7114      5.8  приключения,фэнтези 333,597,059.6  "
      ]
     },
     "execution_count": 46,
     "metadata": {},
     "output_type": "execute_result"
    }
   ],
   "source": [
    "df[df['budget'] == 2305.074303]"
   ]
  },
  {
   "cell_type": "markdown",
   "id": "8061ad83",
   "metadata": {},
   "source": [
    "The first thing that catches your eye is the lack of data in the box_office column"
   ]
  },
  {
   "cell_type": "code",
   "execution_count": 47,
   "id": "47de666e",
   "metadata": {
    "scrolled": false
   },
   "outputs": [
    {
     "data": {
      "text/html": [
       "<div>\n",
       "<style scoped>\n",
       "    .dataframe tbody tr th:only-of-type {\n",
       "        vertical-align: middle;\n",
       "    }\n",
       "\n",
       "    .dataframe tbody tr th {\n",
       "        vertical-align: top;\n",
       "    }\n",
       "\n",
       "    .dataframe thead th {\n",
       "        text-align: right;\n",
       "    }\n",
       "</style>\n",
       "<table border=\"1\" class=\"dataframe\">\n",
       "  <thead>\n",
       "    <tr style=\"text-align: right;\">\n",
       "      <th></th>\n",
       "      <th>title</th>\n",
       "      <th>puNumber</th>\n",
       "      <th>show_start_date</th>\n",
       "      <th>type</th>\n",
       "      <th>film_studio</th>\n",
       "      <th>production_country</th>\n",
       "      <th>director</th>\n",
       "      <th>producer</th>\n",
       "      <th>age_restriction</th>\n",
       "      <th>refundable_support</th>\n",
       "      <th>nonrefundable_support</th>\n",
       "      <th>budget</th>\n",
       "      <th>financing_source</th>\n",
       "      <th>ratings</th>\n",
       "      <th>genres</th>\n",
       "      <th>box_office</th>\n",
       "    </tr>\n",
       "  </thead>\n",
       "  <tbody>\n",
       "    <tr>\n",
       "      <th>0</th>\n",
       "      <td>Открытый простор</td>\n",
       "      <td>221048915</td>\n",
       "      <td>2015-11-27 12:00:00</td>\n",
       "      <td>Художественный</td>\n",
       "      <td>Тачстоун Пикчерз, Кобальт Пикчерз, Бикон Пикче...</td>\n",
       "      <td>США</td>\n",
       "      <td>Кевин Костнер</td>\n",
       "      <td>Дэвид Валдес, Кевин Костнер, Джейк Эбертс</td>\n",
       "      <td>«18+» - запрещено для детей</td>\n",
       "      <td>-0.0</td>\n",
       "      <td>0.0</td>\n",
       "      <td>0.0</td>\n",
       "      <td>No</td>\n",
       "      <td>7.2</td>\n",
       "      <td>боевик,драма,мелодрама</td>\n",
       "      <td>NaN</td>\n",
       "    </tr>\n",
       "    <tr>\n",
       "      <th>1</th>\n",
       "      <td>Особо важное задание</td>\n",
       "      <td>111013716</td>\n",
       "      <td>2016-09-13 12:00:00</td>\n",
       "      <td>Художественный</td>\n",
       "      <td>Киностудия \"Мосфильм\"</td>\n",
       "      <td>СССР</td>\n",
       "      <td>Е.Матвеев</td>\n",
       "      <td>NaN</td>\n",
       "      <td>«6+» - для детей старше 6 лет</td>\n",
       "      <td>-0.0</td>\n",
       "      <td>0.0</td>\n",
       "      <td>0.0</td>\n",
       "      <td>No</td>\n",
       "      <td>6.6</td>\n",
       "      <td>драма,военный</td>\n",
       "      <td>NaN</td>\n",
       "    </tr>\n",
       "    <tr>\n",
       "      <th>2</th>\n",
       "      <td>Особо опасен</td>\n",
       "      <td>221038416</td>\n",
       "      <td>2016-10-10 12:00:00</td>\n",
       "      <td>Художественный</td>\n",
       "      <td>Юниверсал Пикчерз, Кикстарт Продакшнз, Марк Пл...</td>\n",
       "      <td>США</td>\n",
       "      <td>Тимур Бекмамбетов</td>\n",
       "      <td>Джим Лемли, Джейсон Нетер, Марк Е.Платт, Яйн Смит</td>\n",
       "      <td>«18+» - запрещено для детей</td>\n",
       "      <td>-0.0</td>\n",
       "      <td>0.0</td>\n",
       "      <td>0.0</td>\n",
       "      <td>No</td>\n",
       "      <td>6.8</td>\n",
       "      <td>фантастика,боевик,триллер</td>\n",
       "      <td>NaN</td>\n",
       "    </tr>\n",
       "    <tr>\n",
       "      <th>3</th>\n",
       "      <td>Особо опасен</td>\n",
       "      <td>221026916</td>\n",
       "      <td>2016-06-10 12:00:00</td>\n",
       "      <td>Художественный</td>\n",
       "      <td>Юниверсал Пикчерз, Кикстарт Продакшнз, Марк Пл...</td>\n",
       "      <td>США</td>\n",
       "      <td>Тимур Бекмамбетов</td>\n",
       "      <td>Джим Лемли, Джейсон Нетер, Марк Е.Платт, Яйн Смит</td>\n",
       "      <td>«18+» - запрещено для детей</td>\n",
       "      <td>-0.0</td>\n",
       "      <td>0.0</td>\n",
       "      <td>0.0</td>\n",
       "      <td>No</td>\n",
       "      <td>6.8</td>\n",
       "      <td>фантастика,боевик,триллер</td>\n",
       "      <td>NaN</td>\n",
       "    </tr>\n",
       "    <tr>\n",
       "      <th>4</th>\n",
       "      <td>Особо опасен</td>\n",
       "      <td>221030815</td>\n",
       "      <td>2015-07-29 12:00:00</td>\n",
       "      <td>Художественный</td>\n",
       "      <td>Юниверсал Пикчерз, Кикстарт Продакшнз, Марк Пл...</td>\n",
       "      <td>США</td>\n",
       "      <td>Тимур Бекмамбетов</td>\n",
       "      <td>Джим Лемли, Джейсон Нетер, Марк Е.Платт, Яйн Смит</td>\n",
       "      <td>«18+» - запрещено для детей</td>\n",
       "      <td>-0.0</td>\n",
       "      <td>0.0</td>\n",
       "      <td>0.0</td>\n",
       "      <td>No</td>\n",
       "      <td>6.8</td>\n",
       "      <td>фантастика,боевик,триллер</td>\n",
       "      <td>NaN</td>\n",
       "    </tr>\n",
       "  </tbody>\n",
       "</table>\n",
       "</div>"
      ],
      "text/plain": [
       "                  title   puNumber     show_start_date            type  \\\n",
       "0      Открытый простор  221048915 2015-11-27 12:00:00  Художественный   \n",
       "1  Особо важное задание  111013716 2016-09-13 12:00:00  Художественный   \n",
       "2          Особо опасен  221038416 2016-10-10 12:00:00  Художественный   \n",
       "3          Особо опасен  221026916 2016-06-10 12:00:00  Художественный   \n",
       "4          Особо опасен  221030815 2015-07-29 12:00:00  Художественный   \n",
       "\n",
       "                                         film_studio production_country  \\\n",
       "0  Тачстоун Пикчерз, Кобальт Пикчерз, Бикон Пикче...                США   \n",
       "1                              Киностудия \"Мосфильм\"               СССР   \n",
       "2  Юниверсал Пикчерз, Кикстарт Продакшнз, Марк Пл...                США   \n",
       "3  Юниверсал Пикчерз, Кикстарт Продакшнз, Марк Пл...                США   \n",
       "4  Юниверсал Пикчерз, Кикстарт Продакшнз, Марк Пл...                США   \n",
       "\n",
       "            director                                           producer  \\\n",
       "0      Кевин Костнер          Дэвид Валдес, Кевин Костнер, Джейк Эбертс   \n",
       "1          Е.Матвеев                                                NaN   \n",
       "2  Тимур Бекмамбетов  Джим Лемли, Джейсон Нетер, Марк Е.Платт, Яйн Смит   \n",
       "3  Тимур Бекмамбетов  Джим Лемли, Джейсон Нетер, Марк Е.Платт, Яйн Смит   \n",
       "4  Тимур Бекмамбетов  Джим Лемли, Джейсон Нетер, Марк Е.Платт, Яйн Смит   \n",
       "\n",
       "                 age_restriction  refundable_support  nonrefundable_support  \\\n",
       "0    «18+» - запрещено для детей                -0.0                    0.0   \n",
       "1  «6+» - для детей старше 6 лет                -0.0                    0.0   \n",
       "2    «18+» - запрещено для детей                -0.0                    0.0   \n",
       "3    «18+» - запрещено для детей                -0.0                    0.0   \n",
       "4    «18+» - запрещено для детей                -0.0                    0.0   \n",
       "\n",
       "   budget financing_source  ratings                     genres  box_office  \n",
       "0     0.0               No      7.2     боевик,драма,мелодрама         NaN  \n",
       "1     0.0               No      6.6              драма,военный         NaN  \n",
       "2     0.0               No      6.8  фантастика,боевик,триллер         NaN  \n",
       "3     0.0               No      6.8  фантастика,боевик,триллер         NaN  \n",
       "4     0.0               No      6.8  фантастика,боевик,триллер         NaN  "
      ]
     },
     "execution_count": 47,
     "metadata": {},
     "output_type": "execute_result"
    }
   ],
   "source": [
    "df.head()"
   ]
  },
  {
   "cell_type": "markdown",
   "id": "b8b91a45",
   "metadata": {
    "id": "Eu6oWp2CgFyS"
   },
   "source": [
    "#### Step 2.6. Add new columns\n",
    "\n",
    "\n",
    "\n"
   ]
  },
  {
   "cell_type": "markdown",
   "id": "73007ddf",
   "metadata": {
    "id": "7GgW-UpAgFyS"
   },
   "source": [
    "- Create a column with information about the rental year. Select the year from the premiere date of the film."
   ]
  },
  {
   "cell_type": "code",
   "execution_count": 48,
   "id": "d5729ef9",
   "metadata": {
    "id": "I-yd1DkWgFyT"
   },
   "outputs": [
    {
     "data": {
      "text/plain": [
       "0    2015\n",
       "1    2016\n",
       "2    2016\n",
       "3    2016\n",
       "4    2015\n",
       "Name: year, dtype: int64"
      ]
     },
     "execution_count": 48,
     "metadata": {},
     "output_type": "execute_result"
    }
   ],
   "source": [
    "df['year'] = df['show_start_date'].dt.year\n",
    "df['year'].head()"
   ]
  },
  {
   "cell_type": "markdown",
   "id": "acf71b22",
   "metadata": {
    "id": "nFTDLDYOgFyT"
   },
   "source": [
    "- Create two columns: with the name and surname of the main director and the main genre of the film. The columns will include the first values from the list of directors and genres, respectively."
   ]
  },
  {
   "cell_type": "code",
   "execution_count": 49,
   "id": "fe3cc01d",
   "metadata": {},
   "outputs": [],
   "source": [
    "def cheef_director(s):\n",
    "    l = str(s).split(',')\n",
    "    return l[0].strip()"
   ]
  },
  {
   "cell_type": "code",
   "execution_count": 50,
   "id": "ff29ceb8",
   "metadata": {},
   "outputs": [
    {
     "data": {
      "text/plain": [
       "0        Кевин Костнер\n",
       "1            Е.Матвеев\n",
       "2    Тимур Бекмамбетов\n",
       "3    Тимур Бекмамбетов\n",
       "4    Тимур Бекмамбетов\n",
       "Name: cheef_director, dtype: object"
      ]
     },
     "execution_count": 50,
     "metadata": {},
     "output_type": "execute_result"
    }
   ],
   "source": [
    "df['cheef_director'] = df['director'].apply(cheef_director)\n",
    "df['cheef_director'].head()"
   ]
  },
  {
   "cell_type": "code",
   "execution_count": 51,
   "id": "5a5711cf",
   "metadata": {
    "id": "LSbRZKbMgFyU"
   },
   "outputs": [
    {
     "data": {
      "text/plain": [
       "0        боевик\n",
       "1         драма\n",
       "2    фантастика\n",
       "3    фантастика\n",
       "4    фантастика\n",
       "Name: main_genre, dtype: object"
      ]
     },
     "execution_count": 51,
     "metadata": {},
     "output_type": "execute_result"
    }
   ],
   "source": [
    "df['main_genre'] = df['genres'].apply(cheef_director)\n",
    "df['main_genre'].head()"
   ]
  },
  {
   "cell_type": "markdown",
   "id": "5f959e2c",
   "metadata": {
    "id": "1FsCXHwdgFyU"
   },
   "source": [
    "- Calculate what proportion of the total budget of the film is government support."
   ]
  },
  {
   "cell_type": "code",
   "execution_count": 52,
   "id": "6dcc77b0",
   "metadata": {
    "id": "LV6qFuZLgFyV"
   },
   "outputs": [],
   "source": [
    "df['portion_of_gov_budget'] = (df['refundable_support'] + df['nonrefundable_support']) / df['budget']"
   ]
  },
  {
   "cell_type": "code",
   "execution_count": 53,
   "id": "943b5273",
   "metadata": {},
   "outputs": [
    {
     "data": {
      "text/plain": [
       "array([-1.00000000e-06,  2.65000000e+01,  2.60000000e+01,  1.07847945e+02,\n",
       "        2.80000000e+01,  2.50000000e+01,  1.50000000e+02,  4.65022990e+01,\n",
       "        7.50000000e+01,  3.40000000e+01,  5.60000000e+01,  7.00000000e+01,\n",
       "        2.30000000e+01,  4.50000000e+01,  5.65790550e+01,  2.55000000e+01,\n",
       "        3.00000000e+01,  2.75100000e+01,  6.00000000e+01,  1.00000000e+01,\n",
       "        2.40000000e+01,  2.45000000e+01,  2.70000000e+01,  2.00000000e+01,\n",
       "        9.00000000e+01,  8.00000000e+01,  9.70000000e+01,  2.44500000e+01,\n",
       "        5.00000000e+00,  5.00000000e+01,  3.70000000e+01,  3.51531190e+01,\n",
       "        2.75000000e+01,  2.69500000e+01,  5.50000000e+01,  1.60000000e+02,\n",
       "        1.50000000e+01,  4.40000000e+01,  5.90000000e+01,  2.50000000e+02,\n",
       "        6.30000000e+01,  6.60000000e+01,  3.44500000e+01,  5.01452850e+01,\n",
       "        3.50000000e+01,  2.59000000e+01,  4.00000000e+01,  6.50000000e+01,\n",
       "        6.00000000e+00,  4.42104482e+02,  2.52000000e+01,  5.89040000e+01,\n",
       "        2.35000000e+01,  2.90000000e+01,  4.70000000e+00,  2.53000000e+01,\n",
       "        4.90000000e+01,  2.17000000e+01,  1.40000000e+02,  2.49860000e+01,\n",
       "        2.53450000e+01,  5.01239150e+01,  4.35000000e+01,  4.50000000e+02,\n",
       "        7.95000000e+01,  3.00000000e+02,  2.00000000e+02,  1.00000000e+02,\n",
       "        2.10000000e+02,  6.40000000e+01,  1.30000000e+02,  8.00008660e+01,\n",
       "        1.15200000e+01,  3.73468810e+01,  2.25000000e+02,  3.50000000e+02,\n",
       "        8.00000000e+00,  4.00000000e+02,  8.50000000e+01,  2.60000000e+02,\n",
       "        3.10000000e+01,  1.05000000e+02,  1.19000000e+02,  1.20000000e+02,\n",
       "        1.38969465e+02,  1.15000000e+02,  1.80000000e+02,  2.70000000e+02,\n",
       "        5.30000000e+01,  3.00000000e+00,  5.00000000e+02])"
      ]
     },
     "execution_count": 53,
     "metadata": {},
     "output_type": "execute_result"
    }
   ],
   "source": [
    "(df['refundable_support'] + df['nonrefundable_support']).unique()"
   ]
  },
  {
   "cell_type": "code",
   "execution_count": 54,
   "id": "63b35e2f",
   "metadata": {
    "scrolled": false
   },
   "outputs": [
    {
     "data": {
      "text/html": [
       "<div>\n",
       "<style scoped>\n",
       "    .dataframe tbody tr th:only-of-type {\n",
       "        vertical-align: middle;\n",
       "    }\n",
       "\n",
       "    .dataframe tbody tr th {\n",
       "        vertical-align: top;\n",
       "    }\n",
       "\n",
       "    .dataframe thead th {\n",
       "        text-align: right;\n",
       "    }\n",
       "</style>\n",
       "<table border=\"1\" class=\"dataframe\">\n",
       "  <thead>\n",
       "    <tr style=\"text-align: right;\">\n",
       "      <th></th>\n",
       "      <th>title</th>\n",
       "      <th>puNumber</th>\n",
       "      <th>show_start_date</th>\n",
       "      <th>type</th>\n",
       "      <th>film_studio</th>\n",
       "      <th>production_country</th>\n",
       "      <th>director</th>\n",
       "      <th>producer</th>\n",
       "      <th>age_restriction</th>\n",
       "      <th>refundable_support</th>\n",
       "      <th>nonrefundable_support</th>\n",
       "      <th>budget</th>\n",
       "      <th>financing_source</th>\n",
       "      <th>ratings</th>\n",
       "      <th>genres</th>\n",
       "      <th>box_office</th>\n",
       "      <th>year</th>\n",
       "      <th>cheef_director</th>\n",
       "      <th>main_genre</th>\n",
       "      <th>portion_of_gov_budget</th>\n",
       "    </tr>\n",
       "  </thead>\n",
       "  <tbody>\n",
       "    <tr>\n",
       "      <th>0</th>\n",
       "      <td>Открытый простор</td>\n",
       "      <td>221048915</td>\n",
       "      <td>2015-11-27 12:00:00</td>\n",
       "      <td>Художественный</td>\n",
       "      <td>Тачстоун Пикчерз, Кобальт Пикчерз, Бикон Пикче...</td>\n",
       "      <td>США</td>\n",
       "      <td>Кевин Костнер</td>\n",
       "      <td>Дэвид Валдес, Кевин Костнер, Джейк Эбертс</td>\n",
       "      <td>«18+» - запрещено для детей</td>\n",
       "      <td>-0.0</td>\n",
       "      <td>0.0</td>\n",
       "      <td>0.0</td>\n",
       "      <td>No</td>\n",
       "      <td>7.2</td>\n",
       "      <td>боевик,драма,мелодрама</td>\n",
       "      <td>NaN</td>\n",
       "      <td>2015</td>\n",
       "      <td>Кевин Костнер</td>\n",
       "      <td>боевик</td>\n",
       "      <td>-inf</td>\n",
       "    </tr>\n",
       "    <tr>\n",
       "      <th>1</th>\n",
       "      <td>Особо важное задание</td>\n",
       "      <td>111013716</td>\n",
       "      <td>2016-09-13 12:00:00</td>\n",
       "      <td>Художественный</td>\n",
       "      <td>Киностудия \"Мосфильм\"</td>\n",
       "      <td>СССР</td>\n",
       "      <td>Е.Матвеев</td>\n",
       "      <td>NaN</td>\n",
       "      <td>«6+» - для детей старше 6 лет</td>\n",
       "      <td>-0.0</td>\n",
       "      <td>0.0</td>\n",
       "      <td>0.0</td>\n",
       "      <td>No</td>\n",
       "      <td>6.6</td>\n",
       "      <td>драма,военный</td>\n",
       "      <td>NaN</td>\n",
       "      <td>2016</td>\n",
       "      <td>Е.Матвеев</td>\n",
       "      <td>драма</td>\n",
       "      <td>-inf</td>\n",
       "    </tr>\n",
       "    <tr>\n",
       "      <th>2</th>\n",
       "      <td>Особо опасен</td>\n",
       "      <td>221038416</td>\n",
       "      <td>2016-10-10 12:00:00</td>\n",
       "      <td>Художественный</td>\n",
       "      <td>Юниверсал Пикчерз, Кикстарт Продакшнз, Марк Пл...</td>\n",
       "      <td>США</td>\n",
       "      <td>Тимур Бекмамбетов</td>\n",
       "      <td>Джим Лемли, Джейсон Нетер, Марк Е.Платт, Яйн Смит</td>\n",
       "      <td>«18+» - запрещено для детей</td>\n",
       "      <td>-0.0</td>\n",
       "      <td>0.0</td>\n",
       "      <td>0.0</td>\n",
       "      <td>No</td>\n",
       "      <td>6.8</td>\n",
       "      <td>фантастика,боевик,триллер</td>\n",
       "      <td>NaN</td>\n",
       "      <td>2016</td>\n",
       "      <td>Тимур Бекмамбетов</td>\n",
       "      <td>фантастика</td>\n",
       "      <td>-inf</td>\n",
       "    </tr>\n",
       "    <tr>\n",
       "      <th>3</th>\n",
       "      <td>Особо опасен</td>\n",
       "      <td>221026916</td>\n",
       "      <td>2016-06-10 12:00:00</td>\n",
       "      <td>Художественный</td>\n",
       "      <td>Юниверсал Пикчерз, Кикстарт Продакшнз, Марк Пл...</td>\n",
       "      <td>США</td>\n",
       "      <td>Тимур Бекмамбетов</td>\n",
       "      <td>Джим Лемли, Джейсон Нетер, Марк Е.Платт, Яйн Смит</td>\n",
       "      <td>«18+» - запрещено для детей</td>\n",
       "      <td>-0.0</td>\n",
       "      <td>0.0</td>\n",
       "      <td>0.0</td>\n",
       "      <td>No</td>\n",
       "      <td>6.8</td>\n",
       "      <td>фантастика,боевик,триллер</td>\n",
       "      <td>NaN</td>\n",
       "      <td>2016</td>\n",
       "      <td>Тимур Бекмамбетов</td>\n",
       "      <td>фантастика</td>\n",
       "      <td>-inf</td>\n",
       "    </tr>\n",
       "    <tr>\n",
       "      <th>4</th>\n",
       "      <td>Особо опасен</td>\n",
       "      <td>221030815</td>\n",
       "      <td>2015-07-29 12:00:00</td>\n",
       "      <td>Художественный</td>\n",
       "      <td>Юниверсал Пикчерз, Кикстарт Продакшнз, Марк Пл...</td>\n",
       "      <td>США</td>\n",
       "      <td>Тимур Бекмамбетов</td>\n",
       "      <td>Джим Лемли, Джейсон Нетер, Марк Е.Платт, Яйн Смит</td>\n",
       "      <td>«18+» - запрещено для детей</td>\n",
       "      <td>-0.0</td>\n",
       "      <td>0.0</td>\n",
       "      <td>0.0</td>\n",
       "      <td>No</td>\n",
       "      <td>6.8</td>\n",
       "      <td>фантастика,боевик,триллер</td>\n",
       "      <td>NaN</td>\n",
       "      <td>2015</td>\n",
       "      <td>Тимур Бекмамбетов</td>\n",
       "      <td>фантастика</td>\n",
       "      <td>-inf</td>\n",
       "    </tr>\n",
       "  </tbody>\n",
       "</table>\n",
       "</div>"
      ],
      "text/plain": [
       "                  title   puNumber     show_start_date            type  \\\n",
       "0      Открытый простор  221048915 2015-11-27 12:00:00  Художественный   \n",
       "1  Особо важное задание  111013716 2016-09-13 12:00:00  Художественный   \n",
       "2          Особо опасен  221038416 2016-10-10 12:00:00  Художественный   \n",
       "3          Особо опасен  221026916 2016-06-10 12:00:00  Художественный   \n",
       "4          Особо опасен  221030815 2015-07-29 12:00:00  Художественный   \n",
       "\n",
       "                                         film_studio production_country  \\\n",
       "0  Тачстоун Пикчерз, Кобальт Пикчерз, Бикон Пикче...                США   \n",
       "1                              Киностудия \"Мосфильм\"               СССР   \n",
       "2  Юниверсал Пикчерз, Кикстарт Продакшнз, Марк Пл...                США   \n",
       "3  Юниверсал Пикчерз, Кикстарт Продакшнз, Марк Пл...                США   \n",
       "4  Юниверсал Пикчерз, Кикстарт Продакшнз, Марк Пл...                США   \n",
       "\n",
       "            director                                           producer  \\\n",
       "0      Кевин Костнер          Дэвид Валдес, Кевин Костнер, Джейк Эбертс   \n",
       "1          Е.Матвеев                                                NaN   \n",
       "2  Тимур Бекмамбетов  Джим Лемли, Джейсон Нетер, Марк Е.Платт, Яйн Смит   \n",
       "3  Тимур Бекмамбетов  Джим Лемли, Джейсон Нетер, Марк Е.Платт, Яйн Смит   \n",
       "4  Тимур Бекмамбетов  Джим Лемли, Джейсон Нетер, Марк Е.Платт, Яйн Смит   \n",
       "\n",
       "                 age_restriction  refundable_support  nonrefundable_support  \\\n",
       "0    «18+» - запрещено для детей                -0.0                    0.0   \n",
       "1  «6+» - для детей старше 6 лет                -0.0                    0.0   \n",
       "2    «18+» - запрещено для детей                -0.0                    0.0   \n",
       "3    «18+» - запрещено для детей                -0.0                    0.0   \n",
       "4    «18+» - запрещено для детей                -0.0                    0.0   \n",
       "\n",
       "   budget financing_source  ratings                     genres  box_office  \\\n",
       "0     0.0               No      7.2     боевик,драма,мелодрама         NaN   \n",
       "1     0.0               No      6.6              драма,военный         NaN   \n",
       "2     0.0               No      6.8  фантастика,боевик,триллер         NaN   \n",
       "3     0.0               No      6.8  фантастика,боевик,триллер         NaN   \n",
       "4     0.0               No      6.8  фантастика,боевик,триллер         NaN   \n",
       "\n",
       "   year     cheef_director  main_genre  portion_of_gov_budget  \n",
       "0  2015      Кевин Костнер      боевик                   -inf  \n",
       "1  2016          Е.Матвеев       драма                   -inf  \n",
       "2  2016  Тимур Бекмамбетов  фантастика                   -inf  \n",
       "3  2016  Тимур Бекмамбетов  фантастика                   -inf  \n",
       "4  2015  Тимур Бекмамбетов  фантастика                   -inf  "
      ]
     },
     "execution_count": 54,
     "metadata": {},
     "output_type": "execute_result"
    }
   ],
   "source": [
    "df.head()"
   ]
  },
  {
   "cell_type": "code",
   "execution_count": 55,
   "id": "ad02a218",
   "metadata": {},
   "outputs": [
    {
     "data": {
      "text/html": [
       "<div>\n",
       "<style scoped>\n",
       "    .dataframe tbody tr th:only-of-type {\n",
       "        vertical-align: middle;\n",
       "    }\n",
       "\n",
       "    .dataframe tbody tr th {\n",
       "        vertical-align: top;\n",
       "    }\n",
       "\n",
       "    .dataframe thead th {\n",
       "        text-align: right;\n",
       "    }\n",
       "</style>\n",
       "<table border=\"1\" class=\"dataframe\">\n",
       "  <thead>\n",
       "    <tr style=\"text-align: right;\">\n",
       "      <th></th>\n",
       "      <th>refundable_support</th>\n",
       "      <th>nonrefundable_support</th>\n",
       "      <th>budget</th>\n",
       "    </tr>\n",
       "  </thead>\n",
       "  <tbody>\n",
       "    <tr>\n",
       "      <th>1870</th>\n",
       "      <td>50.0</td>\n",
       "      <td>100.0</td>\n",
       "      <td>220.6</td>\n",
       "    </tr>\n",
       "    <tr>\n",
       "      <th>1987</th>\n",
       "      <td>26.0</td>\n",
       "      <td>30.0</td>\n",
       "      <td>80.0</td>\n",
       "    </tr>\n",
       "    <tr>\n",
       "      <th>2005</th>\n",
       "      <td>30.0</td>\n",
       "      <td>40.0</td>\n",
       "      <td>252.5</td>\n",
       "    </tr>\n",
       "    <tr>\n",
       "      <th>2142</th>\n",
       "      <td>30.0</td>\n",
       "      <td>30.0</td>\n",
       "      <td>500.0</td>\n",
       "    </tr>\n",
       "    <tr>\n",
       "      <th>2288</th>\n",
       "      <td>15.0</td>\n",
       "      <td>5.0</td>\n",
       "      <td>90.1</td>\n",
       "    </tr>\n",
       "    <tr>\n",
       "      <th>...</th>\n",
       "      <td>...</td>\n",
       "      <td>...</td>\n",
       "      <td>...</td>\n",
       "    </tr>\n",
       "    <tr>\n",
       "      <th>7456</th>\n",
       "      <td>25.0</td>\n",
       "      <td>35.0</td>\n",
       "      <td>160.0</td>\n",
       "    </tr>\n",
       "    <tr>\n",
       "      <th>7464</th>\n",
       "      <td>100.0</td>\n",
       "      <td>400.0</td>\n",
       "      <td>980.0</td>\n",
       "    </tr>\n",
       "    <tr>\n",
       "      <th>7466</th>\n",
       "      <td>100.0</td>\n",
       "      <td>0.0</td>\n",
       "      <td>190.0</td>\n",
       "    </tr>\n",
       "    <tr>\n",
       "      <th>7474</th>\n",
       "      <td>100.0</td>\n",
       "      <td>400.0</td>\n",
       "      <td>944.0</td>\n",
       "    </tr>\n",
       "    <tr>\n",
       "      <th>7478</th>\n",
       "      <td>40.0</td>\n",
       "      <td>60.0</td>\n",
       "      <td>150.1</td>\n",
       "    </tr>\n",
       "  </tbody>\n",
       "</table>\n",
       "<p>111 rows × 3 columns</p>\n",
       "</div>"
      ],
      "text/plain": [
       "      refundable_support  nonrefundable_support  budget\n",
       "1870                50.0                  100.0   220.6\n",
       "1987                26.0                   30.0    80.0\n",
       "2005                30.0                   40.0   252.5\n",
       "2142                30.0                   30.0   500.0\n",
       "2288                15.0                    5.0    90.1\n",
       "...                  ...                    ...     ...\n",
       "7456                25.0                   35.0   160.0\n",
       "7464               100.0                  400.0   980.0\n",
       "7466               100.0                    0.0   190.0\n",
       "7474               100.0                  400.0   944.0\n",
       "7478                40.0                   60.0   150.1\n",
       "\n",
       "[111 rows x 3 columns]"
      ]
     },
     "execution_count": 55,
     "metadata": {},
     "output_type": "execute_result"
    }
   ],
   "source": [
    "df[df['refundable_support'] > 0][['refundable_support', 'nonrefundable_support', 'budget']]"
   ]
  },
  {
   "cell_type": "code",
   "execution_count": 56,
   "id": "12d7adc6",
   "metadata": {
    "scrolled": false
   },
   "outputs": [
    {
     "data": {
      "text/plain": [
       "-inf    7154\n",
       "inf       17\n",
       "0.6        6\n",
       "0.7        5\n",
       "0.5        5\n",
       "        ... \n",
       "0.2        1\n",
       "0.2        1\n",
       "0.4        1\n",
       "0.5        1\n",
       "0.7        1\n",
       "Name: portion_of_gov_budget, Length: 283, dtype: int64"
      ]
     },
     "execution_count": 56,
     "metadata": {},
     "output_type": "execute_result"
    }
   ],
   "source": [
    "df['portion_of_gov_budget'].value_counts()"
   ]
  },
  {
   "cell_type": "markdown",
   "id": "3604d5d8",
   "metadata": {},
   "source": [
    "Replace the gaps and infinity with -1"
   ]
  },
  {
   "cell_type": "code",
   "execution_count": 57,
   "id": "eaf54db1",
   "metadata": {},
   "outputs": [],
   "source": [
    "df['portion_of_gov_budget'].replace([np.inf, -np.inf], 0, inplace=True)\n",
    "df['portion_of_gov_budget'] = df['portion_of_gov_budget'].fillna(-1)"
   ]
  },
  {
   "cell_type": "code",
   "execution_count": 58,
   "id": "2a891729",
   "metadata": {},
   "outputs": [
    {
     "data": {
      "text/plain": [
       "0.0    7171\n",
       "0.6       6\n",
       "0.7       5\n",
       "0.7       5\n",
       "0.5       5\n",
       "       ... \n",
       "0.7       1\n",
       "0.4       1\n",
       "0.3       1\n",
       "0.6       1\n",
       "0.7       1\n",
       "Name: portion_of_gov_budget, Length: 282, dtype: int64"
      ]
     },
     "execution_count": 58,
     "metadata": {},
     "output_type": "execute_result"
    }
   ],
   "source": [
    "df['portion_of_gov_budget'].value_counts()"
   ]
  },
  {
   "cell_type": "markdown",
   "id": "6d24eb9b",
   "metadata": {
    "id": "6t4EukPLgFyV"
   },
   "source": [
    "### Step 3. Conduct a research analysis of the data\n"
   ]
  },
  {
   "cell_type": "markdown",
   "id": "9a9f8d73",
   "metadata": {
    "id": "vAH8WCzugFyV"
   },
   "source": [
    "- Look at how many films were released each year. Please note that cinema rental data is not known for all films. Calculate the proportion of films with the specified information about the box office in cinemas."
   ]
  },
  {
   "cell_type": "markdown",
   "id": "bd992ca0",
   "metadata": {},
   "source": [
    "Let's create a dataframe in which we will take into account only those films in which the value in the box_office column is greater than zero"
   ]
  },
  {
   "cell_type": "code",
   "execution_count": 59,
   "id": "d50cb113",
   "metadata": {},
   "outputs": [],
   "source": [
    "df_cinema = df[df['box_office'] > 0]"
   ]
  },
  {
   "cell_type": "code",
   "execution_count": 60,
   "id": "516881e0",
   "metadata": {
    "scrolled": true
   },
   "outputs": [
    {
     "data": {
      "text/plain": [
       "41.86481432006412"
      ]
     },
     "execution_count": 60,
     "metadata": {},
     "output_type": "execute_result"
    }
   ],
   "source": [
    "df_cinema.shape[0] / df.shape[0] * 100"
   ]
  },
  {
   "cell_type": "markdown",
   "id": "b164c509",
   "metadata": {},
   "source": [
    "The criterion for the release of the film is that the value in the box_office column is greater than zero. In this case, we have information about 42% of the films from the entire dataframe"
   ]
  },
  {
   "cell_type": "code",
   "execution_count": 61,
   "id": "b619c737",
   "metadata": {
    "scrolled": false
   },
   "outputs": [
    {
     "data": {
      "image/png": "[encoded data removed]",
      "text/plain": [
       "<Figure size 640x480 with 1 Axes>"
      ]
     },
     "metadata": {},
     "output_type": "display_data"
    }
   ],
   "source": [
    "df_cinema.groupby('year').agg({'year': 'count'}).plot.bar()\n",
    "plt.show()"
   ]
  },
  {
   "cell_type": "markdown",
   "id": "99de44cc",
   "metadata": {},
   "source": [
    "We see a clear increase in the release of films from 2010 to 2015. Further, the number of films increases and decreases again without any one-sided dynamics"
   ]
  },
  {
   "cell_type": "markdown",
   "id": "a55c857a",
   "metadata": {
    "id": "BEOdcIrIgFyW"
   },
   "source": [
    "- Study how the dynamics of rental has changed over the years. In which year was the minimum amount of fees? And the maximum?"
   ]
  },
  {
   "cell_type": "markdown",
   "id": "f8a44bb3",
   "metadata": {},
   "source": [
    "For convenience, we divide the values in the box_office column by 1 million"
   ]
  },
  {
   "cell_type": "code",
   "execution_count": 62,
   "id": "c210d59d",
   "metadata": {},
   "outputs": [],
   "source": [
    "df['box_office'] = df['box_office'] / 1000000"
   ]
  },
  {
   "cell_type": "code",
   "execution_count": 63,
   "id": "5b8046a7",
   "metadata": {
    "id": "tfEhofYvgFyX",
    "scrolled": true
   },
   "outputs": [
    {
     "data": {
      "image/png": "[encoded data removed]",
      "text/plain": [
       "<Figure size 640x480 with 1 Axes>"
      ]
     },
     "metadata": {},
     "output_type": "display_data"
    }
   ],
   "source": [
    "df.groupby('year').agg({'box_office': 'sum'}).plot.bar()\n",
    "#df.plot.bar()\n",
    "plt.show()"
   ]
  },
  {
   "cell_type": "markdown",
   "id": "4f183489",
   "metadata": {},
   "source": [
    "The distribution looks rather strange. There is a feeling that I have missed something, or there are errors in the data"
   ]
  },
  {
   "cell_type": "markdown",
   "id": "56516ae1",
   "metadata": {
    "id": "G-7qS-N-gFyY"
   },
   "source": [
    "- Use the summary table to calculate the average and median amount of fees for each year."
   ]
  },
  {
   "cell_type": "code",
   "execution_count": 64,
   "id": "47502869",
   "metadata": {
    "id": "jmp-rgg9gFyY",
    "scrolled": true
   },
   "outputs": [
    {
     "data": {
      "image/png": "[encoded data removed]",
      "text/plain": [
       "<Figure size 640x480 with 1 Axes>"
      ]
     },
     "metadata": {},
     "output_type": "display_data"
    }
   ],
   "source": [
    "year_grouped = df_cinema.groupby('year').agg({'box_office': ['mean', 'median']})\n",
    "year_grouped.columns = ['mean', 'median']\n",
    "year_grouped['mean'].plot.bar()\n",
    "plt.show()"
   ]
  },
  {
   "cell_type": "markdown",
   "id": "e60371c7",
   "metadata": {},
   "source": [
    "The median and the mean differ significantly from each other. This tells us that there are films that have a much higher budget than the average"
   ]
  },
  {
   "cell_type": "markdown",
   "id": "7cfa788f",
   "metadata": {
    "id": "Ok89WFwJgFyZ"
   },
   "source": [
    "- Determine if the age limit of the audience affects (\"6+\", \"12+\", \"16+\", \"18+\" etc.) for the film's box office collections in the period from 2015 to 2019? Which age-restricted films have raised the most money at the box office? Does the picture change depending on the year? If so, guess what it might be related to."
   ]
  },
  {
   "cell_type": "code",
   "execution_count": 65,
   "id": "405b0057",
   "metadata": {
    "id": "jsSbEqfjgFya",
    "scrolled": false
   },
   "outputs": [
    {
     "data": {
      "text/plain": [
       "array(['«12+» - для детей старше 12 лет', '«6+» - для детей старше 6 лет',\n",
       "       '«16+» - для детей старше 16 лет',\n",
       "       '«0+» - для любой зрительской аудитории',\n",
       "       '«18+» - запрещено для детей'], dtype=object)"
      ]
     },
     "execution_count": 65,
     "metadata": {},
     "output_type": "execute_result"
    }
   ],
   "source": [
    "df_cinema['age_restriction'].unique()"
   ]
  },
  {
   "cell_type": "markdown",
   "id": "0c946af7",
   "metadata": {},
   "source": [
    "Let's build a barplot depending on the amount of fees from the age category."
   ]
  },
  {
   "cell_type": "code",
   "execution_count": 66,
   "id": "f5f53a03",
   "metadata": {},
   "outputs": [
    {
     "data": {
      "image/png": "[encoded data removed]",
      "text/plain": [
       "<Figure size 640x480 with 1 Axes>"
      ]
     },
     "metadata": {},
     "output_type": "display_data"
    }
   ],
   "source": [
    "df_cinema[(df_cinema['year'] <= 2019) & (df_cinema['year'] >= 2015)].groupby('age_restriction').agg({'box_office': 'sum'}).plot.bar()\n",
    "plt.show()"
   ]
  },
  {
   "cell_type": "markdown",
   "id": "b028fbd7",
   "metadata": {},
   "source": [
    "As you can see, the highest-grossing films have a rating of 16+, the lowest fees are in the 0+ category"
   ]
  },
  {
   "cell_type": "markdown",
   "id": "69f73fed",
   "metadata": {},
   "source": [
    "Let's check what happens if we group it by the average value"
   ]
  },
  {
   "cell_type": "code",
   "execution_count": 67,
   "id": "5f8092f5",
   "metadata": {
    "scrolled": false
   },
   "outputs": [
    {
     "data": {
      "image/png": "[encoded data removed]",
      "text/plain": [
       "<Figure size 640x480 with 1 Axes>"
      ]
     },
     "metadata": {},
     "output_type": "display_data"
    }
   ],
   "source": [
    "df_cinema[(df_cinema['year'] <= 2019) & (df_cinema['year'] >= 2015)].groupby('age_restriction').agg({'box_office': 'mean'}).plot.bar()\n",
    "plt.show()"
   ]
  },
  {
   "cell_type": "markdown",
   "id": "0ac07f1c",
   "metadata": {},
   "source": [
    "The picture is different here. On average, films for categories 6+ and 12+ collect more. But I believe that there are fewer of them than 16+ films, which is why they win in total. Let's check it out"
   ]
  },
  {
   "cell_type": "code",
   "execution_count": 68,
   "id": "0f3bc2ac",
   "metadata": {},
   "outputs": [
    {
     "data": {
      "image/png": "[encoded data removed]",
      "text/plain": [
       "<Figure size 640x480 with 1 Axes>"
      ]
     },
     "metadata": {},
     "output_type": "display_data"
    }
   ],
   "source": [
    "df_cinema[(df_cinema['year'] <= 2019) & (df_cinema['year'] >= 2015)].groupby('age_restriction').agg({'box_office': 'count'}).plot.bar()\n",
    "plt.show()"
   ]
  },
  {
   "cell_type": "markdown",
   "id": "1ad99461",
   "metadata": {},
   "source": [
    "All right. There are 16+ movies more than the rest"
   ]
  },
  {
   "cell_type": "markdown",
   "id": "95a99b47",
   "metadata": {},
   "source": [
    "Let's group the data by type of age restrictions, then group it by year and display it on each individual histogram"
   ]
  },
  {
   "cell_type": "code",
   "execution_count": 69,
   "id": "b9bc0e03",
   "metadata": {
    "scrolled": false
   },
   "outputs": [
    {
     "data": {
      "image/png": "[encoded data removed]",
      "text/plain": [
       "<Figure size 640x480 with 1 Axes>"
      ]
     },
     "metadata": {},
     "output_type": "display_data"
    },
    {
     "data": {
      "image/png": "[encoded data removed]",
      "text/plain": [
       "<Figure size 640x480 with 1 Axes>"
      ]
     },
     "metadata": {},
     "output_type": "display_data"
    },
    {
     "data": {
      "image/png": "[encoded data removed]",
      "text/plain": [
       "<Figure size 640x480 with 1 Axes>"
      ]
     },
     "metadata": {},
     "output_type": "display_data"
    },
    {
     "data": {
      "image/png": "[encoded data removed]",
      "text/plain": [
       "<Figure size 640x480 with 1 Axes>"
      ]
     },
     "metadata": {},
     "output_type": "display_data"
    },
    {
     "data": {
      "image/png": "[encoded data removed]",
      "text/plain": [
       "<Figure size 640x480 with 1 Axes>"
      ]
     },
     "metadata": {},
     "output_type": "display_data"
    }
   ],
   "source": [
    "for i in list(df['age_restriction'].unique()):\n",
    "    h = df[(df['year'] <= 2019) & (df['year'] >= 2015) & (df['age_restriction'] == i)].groupby('year').agg({'box_office': 'median'})\n",
    "    h.plot.bar()\n",
    "    plt.title(i)"
   ]
  },
  {
   "cell_type": "markdown",
   "id": "8dede709",
   "metadata": {},
   "source": [
    "Here we can say that in all age categories except 12+, the peak occurred in 2017. For the 12+ category, the peak was in 2015"
   ]
  },
  {
   "cell_type": "markdown",
   "id": "bd64e8d3",
   "metadata": {
    "id": "l_Kg6Ku4gFya"
   },
   "source": [
    "### Step 4. Research films that have received government support\n",
    "\n",
    "There are no specific instructions and tasks at this stage — look for interesting patterns in the data. Look at how much money is being allocated to support cinema. Check if such films pay off well and what their rating is."
   ]
  },
  {
   "cell_type": "markdown",
   "id": "f36f2a75",
   "metadata": {},
   "source": [
    "Let's separate the data with state support into a separate dataframe"
   ]
  },
  {
   "cell_type": "code",
   "execution_count": 70,
   "id": "768fcb2d",
   "metadata": {},
   "outputs": [],
   "source": [
    "df_gov_support = df[df['portion_of_gov_budget'] > 0]"
   ]
  },
  {
   "cell_type": "code",
   "execution_count": 71,
   "id": "24036745",
   "metadata": {
    "id": "W9QKpjUdgFyb"
   },
   "outputs": [
    {
     "data": {
      "text/html": [
       "<div>\n",
       "<style scoped>\n",
       "    .dataframe tbody tr th:only-of-type {\n",
       "        vertical-align: middle;\n",
       "    }\n",
       "\n",
       "    .dataframe tbody tr th {\n",
       "        vertical-align: top;\n",
       "    }\n",
       "\n",
       "    .dataframe thead th {\n",
       "        text-align: right;\n",
       "    }\n",
       "</style>\n",
       "<table border=\"1\" class=\"dataframe\">\n",
       "  <thead>\n",
       "    <tr style=\"text-align: right;\">\n",
       "      <th></th>\n",
       "      <th>puNumber</th>\n",
       "      <th>refundable_support</th>\n",
       "      <th>nonrefundable_support</th>\n",
       "      <th>budget</th>\n",
       "      <th>ratings</th>\n",
       "      <th>box_office</th>\n",
       "      <th>year</th>\n",
       "      <th>portion_of_gov_budget</th>\n",
       "    </tr>\n",
       "  </thead>\n",
       "  <tbody>\n",
       "    <tr>\n",
       "      <th>puNumber</th>\n",
       "      <td>1.0</td>\n",
       "      <td>0.0</td>\n",
       "      <td>-0.0</td>\n",
       "      <td>-0.0</td>\n",
       "      <td>0.0</td>\n",
       "      <td>0.1</td>\n",
       "      <td>-0.0</td>\n",
       "      <td>-0.0</td>\n",
       "    </tr>\n",
       "    <tr>\n",
       "      <th>refundable_support</th>\n",
       "      <td>0.0</td>\n",
       "      <td>1.0</td>\n",
       "      <td>0.4</td>\n",
       "      <td>0.7</td>\n",
       "      <td>0.0</td>\n",
       "      <td>0.3</td>\n",
       "      <td>0.1</td>\n",
       "      <td>-0.0</td>\n",
       "    </tr>\n",
       "    <tr>\n",
       "      <th>nonrefundable_support</th>\n",
       "      <td>-0.0</td>\n",
       "      <td>0.4</td>\n",
       "      <td>1.0</td>\n",
       "      <td>0.6</td>\n",
       "      <td>0.1</td>\n",
       "      <td>0.4</td>\n",
       "      <td>0.1</td>\n",
       "      <td>0.1</td>\n",
       "    </tr>\n",
       "    <tr>\n",
       "      <th>budget</th>\n",
       "      <td>-0.0</td>\n",
       "      <td>0.7</td>\n",
       "      <td>0.6</td>\n",
       "      <td>1.0</td>\n",
       "      <td>0.1</td>\n",
       "      <td>0.4</td>\n",
       "      <td>0.2</td>\n",
       "      <td>-0.3</td>\n",
       "    </tr>\n",
       "    <tr>\n",
       "      <th>ratings</th>\n",
       "      <td>0.0</td>\n",
       "      <td>0.0</td>\n",
       "      <td>0.1</td>\n",
       "      <td>0.1</td>\n",
       "      <td>1.0</td>\n",
       "      <td>0.1</td>\n",
       "      <td>0.0</td>\n",
       "      <td>-0.1</td>\n",
       "    </tr>\n",
       "    <tr>\n",
       "      <th>box_office</th>\n",
       "      <td>0.1</td>\n",
       "      <td>0.3</td>\n",
       "      <td>0.4</td>\n",
       "      <td>0.4</td>\n",
       "      <td>0.1</td>\n",
       "      <td>1.0</td>\n",
       "      <td>0.1</td>\n",
       "      <td>-0.1</td>\n",
       "    </tr>\n",
       "    <tr>\n",
       "      <th>year</th>\n",
       "      <td>-0.0</td>\n",
       "      <td>0.1</td>\n",
       "      <td>0.1</td>\n",
       "      <td>0.2</td>\n",
       "      <td>0.0</td>\n",
       "      <td>0.1</td>\n",
       "      <td>1.0</td>\n",
       "      <td>-0.1</td>\n",
       "    </tr>\n",
       "    <tr>\n",
       "      <th>portion_of_gov_budget</th>\n",
       "      <td>-0.0</td>\n",
       "      <td>-0.0</td>\n",
       "      <td>0.1</td>\n",
       "      <td>-0.3</td>\n",
       "      <td>-0.1</td>\n",
       "      <td>-0.1</td>\n",
       "      <td>-0.1</td>\n",
       "      <td>1.0</td>\n",
       "    </tr>\n",
       "  </tbody>\n",
       "</table>\n",
       "</div>"
      ],
      "text/plain": [
       "                       puNumber  refundable_support  nonrefundable_support  \\\n",
       "puNumber                    1.0                 0.0                   -0.0   \n",
       "refundable_support          0.0                 1.0                    0.4   \n",
       "nonrefundable_support      -0.0                 0.4                    1.0   \n",
       "budget                     -0.0                 0.7                    0.6   \n",
       "ratings                     0.0                 0.0                    0.1   \n",
       "box_office                  0.1                 0.3                    0.4   \n",
       "year                       -0.0                 0.1                    0.1   \n",
       "portion_of_gov_budget      -0.0                -0.0                    0.1   \n",
       "\n",
       "                       budget  ratings  box_office  year  \\\n",
       "puNumber                 -0.0      0.0         0.1  -0.0   \n",
       "refundable_support        0.7      0.0         0.3   0.1   \n",
       "nonrefundable_support     0.6      0.1         0.4   0.1   \n",
       "budget                    1.0      0.1         0.4   0.2   \n",
       "ratings                   0.1      1.0         0.1   0.0   \n",
       "box_office                0.4      0.1         1.0   0.1   \n",
       "year                      0.2      0.0         0.1   1.0   \n",
       "portion_of_gov_budget    -0.3     -0.1        -0.1  -0.1   \n",
       "\n",
       "                       portion_of_gov_budget  \n",
       "puNumber                                -0.0  \n",
       "refundable_support                      -0.0  \n",
       "nonrefundable_support                    0.1  \n",
       "budget                                  -0.3  \n",
       "ratings                                 -0.1  \n",
       "box_office                              -0.1  \n",
       "year                                    -0.1  \n",
       "portion_of_gov_budget                    1.0  "
      ]
     },
     "execution_count": 71,
     "metadata": {},
     "output_type": "execute_result"
    }
   ],
   "source": [
    "corr = df_gov_support.corr().round(2)\n",
    "corr"
   ]
  },
  {
   "cell_type": "code",
   "execution_count": 72,
   "id": "8c805ba6",
   "metadata": {},
   "outputs": [
    {
     "data": {
      "image/png": "[encoded data removed]",
      "text/plain": [
       "<Figure size 640x480 with 2 Axes>"
      ]
     },
     "metadata": {},
     "output_type": "display_data"
    }
   ],
   "source": [
    "sns.heatmap(corr, annot = True)\n",
    "plt.show()"
   ]
  },
  {
   "cell_type": "markdown",
   "id": "fb11b281",
   "metadata": {},
   "source": [
    "Judging by the received heatmap, there is a dependence between the budget of the film and the amount allocated as support from the state, which is logical. \n",
    "\n",
    "There is a relationship between the film's fees and the budget.\n",
    "\n",
    "Let's plot the scatter plots according to the dependencies described above"
   ]
  },
  {
   "cell_type": "code",
   "execution_count": 73,
   "id": "f07de14e",
   "metadata": {
    "scrolled": true
   },
   "outputs": [
    {
     "data": {
      "image/png": "[encoded data removed]",
      "text/plain": [
       "<Figure size 640x480 with 1 Axes>"
      ]
     },
     "metadata": {},
     "output_type": "display_data"
    },
    {
     "data": {
      "image/png": "[encoded data removed]",
      "text/plain": [
       "<Figure size 640x480 with 1 Axes>"
      ]
     },
     "metadata": {},
     "output_type": "display_data"
    }
   ],
   "source": [
    "sns.scatterplot(data=df_gov_support, x='budget', y='box_office')\n",
    "plt.show()\n",
    "sns.scatterplot(data=df_gov_support, x='nonrefundable_support', y='box_office')\n",
    "plt.show()\n",
    "#sns.scatterplot(data=df_gov_support, x='ratings', y='box_office')\n",
    "#plt.show()"
   ]
  },
  {
   "cell_type": "markdown",
   "id": "9ba138ac",
   "metadata": {},
   "source": [
    "Probably, you can see some dependencies, but you can't say that they are obvious"
   ]
  },
  {
   "cell_type": "markdown",
   "id": "35c00363",
   "metadata": {},
   "source": [
    "Let's determine the average rating of films with state support and the median"
   ]
  },
  {
   "cell_type": "code",
   "execution_count": 74,
   "id": "708c192a",
   "metadata": {},
   "outputs": [
    {
     "data": {
      "text/plain": [
       "6.036666666666669"
      ]
     },
     "execution_count": 74,
     "metadata": {},
     "output_type": "execute_result"
    }
   ],
   "source": [
    "df_gov_support['ratings'].mean()"
   ]
  },
  {
   "cell_type": "code",
   "execution_count": 75,
   "id": "67cb0740",
   "metadata": {},
   "outputs": [
    {
     "data": {
      "text/plain": [
       "6.2"
      ]
     },
     "execution_count": 75,
     "metadata": {},
     "output_type": "execute_result"
    }
   ],
   "source": [
    "df_gov_support['ratings'].median()"
   ]
  },
  {
   "cell_type": "markdown",
   "id": "a604ee3d",
   "metadata": {},
   "source": [
    "To assess the payback, we will find the ratio of fees to the budget"
   ]
  },
  {
   "cell_type": "code",
   "execution_count": 76,
   "id": "1ac7895c",
   "metadata": {},
   "outputs": [
    {
     "data": {
      "text/html": [
       "<div>\n",
       "<style scoped>\n",
       "    .dataframe tbody tr th:only-of-type {\n",
       "        vertical-align: middle;\n",
       "    }\n",
       "\n",
       "    .dataframe tbody tr th {\n",
       "        vertical-align: top;\n",
       "    }\n",
       "\n",
       "    .dataframe thead th {\n",
       "        text-align: right;\n",
       "    }\n",
       "</style>\n",
       "<table border=\"1\" class=\"dataframe\">\n",
       "  <thead>\n",
       "    <tr style=\"text-align: right;\">\n",
       "      <th></th>\n",
       "      <th>title</th>\n",
       "      <th>puNumber</th>\n",
       "      <th>show_start_date</th>\n",
       "      <th>type</th>\n",
       "      <th>film_studio</th>\n",
       "      <th>production_country</th>\n",
       "      <th>director</th>\n",
       "      <th>producer</th>\n",
       "      <th>age_restriction</th>\n",
       "      <th>refundable_support</th>\n",
       "      <th>nonrefundable_support</th>\n",
       "      <th>budget</th>\n",
       "      <th>financing_source</th>\n",
       "      <th>ratings</th>\n",
       "      <th>genres</th>\n",
       "      <th>box_office</th>\n",
       "      <th>year</th>\n",
       "      <th>cheef_director</th>\n",
       "      <th>main_genre</th>\n",
       "      <th>portion_of_gov_budget</th>\n",
       "    </tr>\n",
       "  </thead>\n",
       "  <tbody>\n",
       "    <tr>\n",
       "      <th>1281</th>\n",
       "      <td>Пока еще жива</td>\n",
       "      <td>111005313</td>\n",
       "      <td>2013-10-11 12:00:00</td>\n",
       "      <td>Художественный</td>\n",
       "      <td>АНО содействия развитию кинематографии \"Ангел-...</td>\n",
       "      <td>Россия</td>\n",
       "      <td>А.Атанесян</td>\n",
       "      <td>А.Атанесян, М.Бабаханов, Р.Бутко</td>\n",
       "      <td>«16+» - для детей старше 16 лет</td>\n",
       "      <td>0.0</td>\n",
       "      <td>26.5</td>\n",
       "      <td>79.4</td>\n",
       "      <td>Министерство культуры</td>\n",
       "      <td>8.1</td>\n",
       "      <td>драма,мелодрама</td>\n",
       "      <td>0.4</td>\n",
       "      <td>2013</td>\n",
       "      <td>А.Атанесян</td>\n",
       "      <td>драма</td>\n",
       "      <td>0.3</td>\n",
       "    </tr>\n",
       "    <tr>\n",
       "      <th>1448</th>\n",
       "      <td>Бесславные придурки</td>\n",
       "      <td>111003314</td>\n",
       "      <td>2014-03-28 12:00:00</td>\n",
       "      <td>Художественный</td>\n",
       "      <td>ООО \"Компания \"АТК-Студио\"</td>\n",
       "      <td>Россия</td>\n",
       "      <td>А.Якимчук</td>\n",
       "      <td>А.Тютрюмов</td>\n",
       "      <td>«12+» - для детей старше 12 лет</td>\n",
       "      <td>0.0</td>\n",
       "      <td>26.0</td>\n",
       "      <td>37.1</td>\n",
       "      <td>Министерство культуры</td>\n",
       "      <td>NaN</td>\n",
       "      <td>NaN</td>\n",
       "      <td>0.0</td>\n",
       "      <td>2014</td>\n",
       "      <td>А.Якимчук</td>\n",
       "      <td>nan</td>\n",
       "      <td>0.7</td>\n",
       "    </tr>\n",
       "    <tr>\n",
       "      <th>1498</th>\n",
       "      <td>Невидимки</td>\n",
       "      <td>111004213</td>\n",
       "      <td>2013-09-10 12:00:00</td>\n",
       "      <td>Художественный</td>\n",
       "      <td>ООО \"Компания \"РЕАЛ-ДАКОТА\"</td>\n",
       "      <td>Россия</td>\n",
       "      <td>Р.Давлетьяров, С.Комаров</td>\n",
       "      <td>Р.Давлетьяров, А.Котелевский, А.Олейников</td>\n",
       "      <td>«12+» - для детей старше 12 лет</td>\n",
       "      <td>0.0</td>\n",
       "      <td>107.8</td>\n",
       "      <td>176.0</td>\n",
       "      <td>Фонд кино</td>\n",
       "      <td>5.3</td>\n",
       "      <td>комедия,фантастика</td>\n",
       "      <td>20.0</td>\n",
       "      <td>2013</td>\n",
       "      <td>Р.Давлетьяров</td>\n",
       "      <td>комедия</td>\n",
       "      <td>0.6</td>\n",
       "    </tr>\n",
       "    <tr>\n",
       "      <th>1524</th>\n",
       "      <td>БЕРЦЫ</td>\n",
       "      <td>111004314</td>\n",
       "      <td>2014-05-05 12:00:00</td>\n",
       "      <td>Художественный</td>\n",
       "      <td>ООО \"Студия \"Пассажир\"</td>\n",
       "      <td>Россия</td>\n",
       "      <td>Е.Миндадзе (псевдоним Катя Шагалова)</td>\n",
       "      <td>Л.Антонова</td>\n",
       "      <td>«16+» - для детей старше 16 лет</td>\n",
       "      <td>0.0</td>\n",
       "      <td>28.0</td>\n",
       "      <td>40.6</td>\n",
       "      <td>Министерство культуры</td>\n",
       "      <td>4.2</td>\n",
       "      <td>драма</td>\n",
       "      <td>0.1</td>\n",
       "      <td>2014</td>\n",
       "      <td>Е.Миндадзе (псевдоним Катя Шагалова)</td>\n",
       "      <td>драма</td>\n",
       "      <td>0.7</td>\n",
       "    </tr>\n",
       "    <tr>\n",
       "      <th>1792</th>\n",
       "      <td>Братья Ч</td>\n",
       "      <td>111004414</td>\n",
       "      <td>2014-04-23 12:00:00</td>\n",
       "      <td>Художественный</td>\n",
       "      <td>ООО \"Студия \"Пассажир\"</td>\n",
       "      <td>Россия</td>\n",
       "      <td>М.Угаров</td>\n",
       "      <td>А.Миндадзе, Л.Антонова</td>\n",
       "      <td>«16+» - для детей старше 16 лет</td>\n",
       "      <td>0.0</td>\n",
       "      <td>25.0</td>\n",
       "      <td>40.0</td>\n",
       "      <td>Министерство культуры</td>\n",
       "      <td>6.4</td>\n",
       "      <td>драма</td>\n",
       "      <td>0.2</td>\n",
       "      <td>2014</td>\n",
       "      <td>М.Угаров</td>\n",
       "      <td>драма</td>\n",
       "      <td>0.6</td>\n",
       "    </tr>\n",
       "  </tbody>\n",
       "</table>\n",
       "</div>"
      ],
      "text/plain": [
       "                    title   puNumber     show_start_date            type  \\\n",
       "1281        Пока еще жива  111005313 2013-10-11 12:00:00  Художественный   \n",
       "1448  Бесславные придурки  111003314 2014-03-28 12:00:00  Художественный   \n",
       "1498            Невидимки  111004213 2013-09-10 12:00:00  Художественный   \n",
       "1524                БЕРЦЫ  111004314 2014-05-05 12:00:00  Художественный   \n",
       "1792             Братья Ч  111004414 2014-04-23 12:00:00  Художественный   \n",
       "\n",
       "                                            film_studio production_country  \\\n",
       "1281  АНО содействия развитию кинематографии \"Ангел-...             Россия   \n",
       "1448                         ООО \"Компания \"АТК-Студио\"             Россия   \n",
       "1498                        ООО \"Компания \"РЕАЛ-ДАКОТА\"             Россия   \n",
       "1524                             ООО \"Студия \"Пассажир\"             Россия   \n",
       "1792                             ООО \"Студия \"Пассажир\"             Россия   \n",
       "\n",
       "                                  director  \\\n",
       "1281                            А.Атанесян   \n",
       "1448                             А.Якимчук   \n",
       "1498              Р.Давлетьяров, С.Комаров   \n",
       "1524  Е.Миндадзе (псевдоним Катя Шагалова)   \n",
       "1792                              М.Угаров   \n",
       "\n",
       "                                       producer  \\\n",
       "1281           А.Атанесян, М.Бабаханов, Р.Бутко   \n",
       "1448                                 А.Тютрюмов   \n",
       "1498  Р.Давлетьяров, А.Котелевский, А.Олейников   \n",
       "1524                                 Л.Антонова   \n",
       "1792                     А.Миндадзе, Л.Антонова   \n",
       "\n",
       "                      age_restriction  refundable_support  \\\n",
       "1281  «16+» - для детей старше 16 лет                 0.0   \n",
       "1448  «12+» - для детей старше 12 лет                 0.0   \n",
       "1498  «12+» - для детей старше 12 лет                 0.0   \n",
       "1524  «16+» - для детей старше 16 лет                 0.0   \n",
       "1792  «16+» - для детей старше 16 лет                 0.0   \n",
       "\n",
       "      nonrefundable_support  budget       financing_source  ratings  \\\n",
       "1281                   26.5    79.4  Министерство культуры      8.1   \n",
       "1448                   26.0    37.1  Министерство культуры      NaN   \n",
       "1498                  107.8   176.0              Фонд кино      5.3   \n",
       "1524                   28.0    40.6  Министерство культуры      4.2   \n",
       "1792                   25.0    40.0  Министерство культуры      6.4   \n",
       "\n",
       "                  genres  box_office  year  \\\n",
       "1281     драма,мелодрама         0.4  2013   \n",
       "1448                 NaN         0.0  2014   \n",
       "1498  комедия,фантастика        20.0  2013   \n",
       "1524               драма         0.1  2014   \n",
       "1792               драма         0.2  2014   \n",
       "\n",
       "                            cheef_director main_genre  portion_of_gov_budget  \n",
       "1281                            А.Атанесян      драма                    0.3  \n",
       "1448                             А.Якимчук        nan                    0.7  \n",
       "1498                         Р.Давлетьяров    комедия                    0.6  \n",
       "1524  Е.Миндадзе (псевдоним Катя Шагалова)      драма                    0.7  \n",
       "1792                              М.Угаров      драма                    0.6  "
      ]
     },
     "execution_count": 76,
     "metadata": {},
     "output_type": "execute_result"
    }
   ],
   "source": [
    "df_gov_support.head()"
   ]
  },
  {
   "cell_type": "code",
   "execution_count": 77,
   "id": "4a95027e",
   "metadata": {
    "scrolled": true
   },
   "outputs": [
    {
     "name": "stderr",
     "output_type": "stream",
     "text": [
      "C:\\Users\\gogad\\AppData\\Local\\Temp\\ipykernel_29308\\1101484600.py:1: SettingWithCopyWarning: \n",
      "A value is trying to be set on a copy of a slice from a DataFrame.\n",
      "Try using .loc[row_indexer,col_indexer] = value instead\n",
      "\n",
      "See the caveats in the documentation: https://pandas.pydata.org/pandas-docs/stable/user_guide/indexing.html#returning-a-view-versus-a-copy\n",
      "  df_gov_support['box_office_to_budget'] = df_gov_support.loc[:, 'box_office'] / df_gov_support.loc[:, 'budget']\n"
     ]
    }
   ],
   "source": [
    "df_gov_support['box_office_to_budget'] = df_gov_support.loc[:, 'box_office'] / df_gov_support.loc[:, 'budget']\n",
    "df_gov_support = df_gov_support[df_gov_support['box_office_to_budget'] > 0]"
   ]
  },
  {
   "cell_type": "code",
   "execution_count": 78,
   "id": "84701fb8",
   "metadata": {},
   "outputs": [
    {
     "data": {
      "text/plain": [
       "0.7633099908958415"
      ]
     },
     "execution_count": 78,
     "metadata": {},
     "output_type": "execute_result"
    }
   ],
   "source": [
    "df_gov_support['box_office_to_budget'].mean()"
   ]
  },
  {
   "cell_type": "code",
   "execution_count": 79,
   "id": "bf2e3c36",
   "metadata": {},
   "outputs": [
    {
     "data": {
      "text/plain": [
       "0.14866382020781482"
      ]
     },
     "execution_count": 79,
     "metadata": {},
     "output_type": "execute_result"
    }
   ],
   "source": [
    "df_gov_support['box_office_to_budget'].median()"
   ]
  },
  {
   "cell_type": "code",
   "execution_count": 80,
   "id": "879fc945",
   "metadata": {},
   "outputs": [
    {
     "data": {
      "image/png": "[encoded data removed]",
      "text/plain": [
       "<Figure size 640x480 with 1 Axes>"
      ]
     },
     "metadata": {},
     "output_type": "display_data"
    }
   ],
   "source": [
    "df_gov_support['box_office_to_budget'].hist(bins=100)\n",
    "plt.show()"
   ]
  },
  {
   "cell_type": "code",
   "execution_count": 81,
   "id": "dd4b6c35",
   "metadata": {},
   "outputs": [
    {
     "data": {
      "image/png": "[encoded data removed]",
      "text/plain": [
       "<Figure size 640x480 with 1 Axes>"
      ]
     },
     "metadata": {},
     "output_type": "display_data"
    }
   ],
   "source": [
    "df_gov_support['box_office_to_budget'].plot.box()\n",
    "plt.ylim(0, 3)\n",
    "plt.show()"
   ]
  },
  {
   "cell_type": "markdown",
   "id": "13a893a5",
   "metadata": {},
   "source": [
    "Let's look at the percentage of films that have paid off"
   ]
  },
  {
   "cell_type": "code",
   "execution_count": 82,
   "id": "c70030f8",
   "metadata": {},
   "outputs": [
    {
     "data": {
      "text/plain": [
       "21.92691029900332"
      ]
     },
     "execution_count": 82,
     "metadata": {},
     "output_type": "execute_result"
    }
   ],
   "source": [
    "df_gov_support[df_gov_support['box_office_to_budget'] >= 1].shape[0] / df_gov_support.shape[0] * 100"
   ]
  },
  {
   "cell_type": "markdown",
   "id": "9027d78d",
   "metadata": {},
   "source": [
    "We can conclude that only about 22% of films with state support pay off"
   ]
  },
  {
   "cell_type": "markdown",
   "id": "1138aee0",
   "metadata": {
    "id": "V2gYwMcPgFyd"
   },
   "source": [
    "### Step 5. Write the general conclusion"
   ]
  },
  {
   "cell_type": "markdown",
   "id": "2d51db9a",
   "metadata": {
    "id": "AYRg3dzXgFye"
   },
   "source": [
    "1. Uploaded both data files. Then I combined them, saving all the lines from the mrkf_movies file.\n",
    "2. I checked the data type in the dataframe and changed some of them. In the show_start_date column, I changed the data type from object to datetime64. Changed the data type in the rating column, while bringing the rating to the same scale.\n",
    "3. I studied the gaps in the dataframe. I filled in what I could.\n",
    "4. Studied the duplicates. I concluded that there are a lot of repetitions in the title column. I believe this is due to the premiere of films in several countries. Since show_start_date is different. There are also many duplicates in the show_start_date column. I can assume that this may be the date of the film's appearance in the database or publication on a streaming service\n",
    "5. Studied the categorical data. There were implicit duplicates in the type column. Removed spaces before words. I also changed the data entry in the production_country column. Brought it to a comma-separated entry.\n",
    "6. I used histograms to check quantitative values. I found many values equal to zero. Mostly in columns related to the budget. I decided not to delete anything at this stage\n",
    "7. Added new columns with the name of the main director, the main genre and the year of the premiere. I calculated how much of the total budget is state support\n",
    "8. We see a clear increase in the release of films from 2010 to 2015. Further, the number of films increases and decreases again without any one-sided dynamics. Of the entire dataframe, information about the film's rental is available in 42 % of cases\n",
    "9. The distribution of film fees by year looks rather strange. There is a feeling that I have missed something, or there are errors in the data. Since the statistics here start from 2014.\n",
    "10. By average and median value, 2017 is the most profitable year. In absolute terms, a little more was collected in 2018.\n",
    "11. Determined that the highest-grossing films have a rating of 16+, the lowest fees are in the 0+ category\n",
    "12. There is a weak relationship between the film's fees and the budget. There was no good correlation of the rating with other parameters. The rating has the highest correlation coefficient (0.15) with the amount of fees\n",
    "13. The average rating of films with state support is slightly higher than 6.\n",
    "14. To characterize the payback of films, I took the ratio of fees to the budget. On average, this proportion is 0.76. Only 22% of films with state support pay off."
   ]
  }
 ],
 "metadata": {
  "ExecuteTimeLog": [
   {
    "duration": 1114,
    "start_time": "2023-02-16T21:09:06.103Z"
   },
   {
    "duration": 249,
    "start_time": "2023-02-16T21:09:07.220Z"
   },
   {
    "duration": 74,
    "start_time": "2023-02-16T21:09:07.471Z"
   },
   {
    "duration": 4,
    "start_time": "2023-02-16T21:09:07.546Z"
   },
   {
    "duration": 6,
    "start_time": "2023-02-16T21:09:07.552Z"
   },
   {
    "duration": 14,
    "start_time": "2023-02-16T21:09:07.559Z"
   },
   {
    "duration": 9,
    "start_time": "2023-02-16T21:09:07.574Z"
   },
   {
    "duration": 11,
    "start_time": "2023-02-16T21:09:07.584Z"
   },
   {
    "duration": 4,
    "start_time": "2023-02-16T21:09:07.597Z"
   },
   {
    "duration": 6,
    "start_time": "2023-02-16T21:09:07.602Z"
   },
   {
    "duration": 47,
    "start_time": "2023-02-16T21:09:07.609Z"
   },
   {
    "duration": 13,
    "start_time": "2023-02-16T21:09:07.657Z"
   },
   {
    "duration": 5,
    "start_time": "2023-02-16T21:09:07.671Z"
   },
   {
    "duration": 11,
    "start_time": "2023-02-16T21:09:07.678Z"
   },
   {
    "duration": 13,
    "start_time": "2023-02-16T21:09:07.690Z"
   },
   {
    "duration": 54,
    "start_time": "2023-02-16T21:09:07.705Z"
   },
   {
    "duration": 9,
    "start_time": "2023-02-16T21:09:07.760Z"
   },
   {
    "duration": 4,
    "start_time": "2023-02-16T21:09:07.771Z"
   },
   {
    "duration": 6,
    "start_time": "2023-02-16T21:09:07.777Z"
   },
   {
    "duration": 7,
    "start_time": "2023-02-16T21:09:07.784Z"
   },
   {
    "duration": 6,
    "start_time": "2023-02-16T21:09:07.792Z"
   },
   {
    "duration": 6,
    "start_time": "2023-02-16T21:09:07.799Z"
   },
   {
    "duration": 10,
    "start_time": "2023-02-16T21:09:07.806Z"
   },
   {
    "duration": 9,
    "start_time": "2023-02-16T21:09:07.817Z"
   },
   {
    "duration": 10,
    "start_time": "2023-02-16T21:09:07.847Z"
   },
   {
    "duration": 23,
    "start_time": "2023-02-16T21:09:07.859Z"
   },
   {
    "duration": 29,
    "start_time": "2023-02-16T21:09:07.884Z"
   },
   {
    "duration": 41,
    "start_time": "2023-02-16T21:09:07.914Z"
   },
   {
    "duration": 16,
    "start_time": "2023-02-16T21:09:07.956Z"
   },
   {
    "duration": 8,
    "start_time": "2023-02-16T21:09:07.974Z"
   },
   {
    "duration": 29,
    "start_time": "2023-02-16T21:09:07.984Z"
   },
   {
    "duration": 5,
    "start_time": "2023-02-16T21:09:08.015Z"
   },
   {
    "duration": 35,
    "start_time": "2023-02-16T21:09:08.021Z"
   },
   {
    "duration": 17,
    "start_time": "2023-02-16T21:09:08.058Z"
   },
   {
    "duration": 10,
    "start_time": "2023-02-16T21:09:08.076Z"
   },
   {
    "duration": 14,
    "start_time": "2023-02-16T21:09:08.087Z"
   },
   {
    "duration": 13,
    "start_time": "2023-02-16T21:09:08.102Z"
   },
   {
    "duration": 33,
    "start_time": "2023-02-16T21:09:08.116Z"
   },
   {
    "duration": 3,
    "start_time": "2023-02-16T21:09:08.150Z"
   },
   {
    "duration": 9,
    "start_time": "2023-02-16T21:09:08.154Z"
   },
   {
    "duration": 4,
    "start_time": "2023-02-16T21:09:08.167Z"
   },
   {
    "duration": 1710,
    "start_time": "2023-02-16T21:09:08.172Z"
   },
   {
    "duration": 152,
    "start_time": "2023-02-16T21:09:09.885Z"
   },
   {
    "duration": 354,
    "start_time": "2023-02-16T21:09:10.038Z"
   },
   {
    "duration": 6,
    "start_time": "2023-02-16T21:09:10.394Z"
   },
   {
    "duration": 16,
    "start_time": "2023-02-16T21:09:10.401Z"
   },
   {
    "duration": 31,
    "start_time": "2023-02-16T21:09:10.418Z"
   },
   {
    "duration": 3,
    "start_time": "2023-02-16T21:09:10.450Z"
   },
   {
    "duration": 8,
    "start_time": "2023-02-16T21:09:10.454Z"
   },
   {
    "duration": 3,
    "start_time": "2023-02-16T21:09:10.464Z"
   },
   {
    "duration": 13,
    "start_time": "2023-02-16T21:09:10.469Z"
   },
   {
    "duration": 10,
    "start_time": "2023-02-16T21:09:10.484Z"
   },
   {
    "duration": 6,
    "start_time": "2023-02-16T21:09:10.496Z"
   },
   {
    "duration": 7,
    "start_time": "2023-02-16T21:09:10.504Z"
   },
   {
    "duration": 44,
    "start_time": "2023-02-16T21:09:10.513Z"
   },
   {
    "duration": 16,
    "start_time": "2023-02-16T21:09:10.559Z"
   },
   {
    "duration": 6,
    "start_time": "2023-02-16T21:09:10.577Z"
   },
   {
    "duration": 11,
    "start_time": "2023-02-16T21:09:10.585Z"
   },
   {
    "duration": 7,
    "start_time": "2023-02-16T21:09:10.598Z"
   },
   {
    "duration": 6,
    "start_time": "2023-02-16T21:09:10.606Z"
   },
   {
    "duration": 7,
    "start_time": "2023-02-16T21:09:10.613Z"
   },
   {
    "duration": 28,
    "start_time": "2023-02-16T21:09:10.622Z"
   },
   {
    "duration": 152,
    "start_time": "2023-02-16T21:09:10.651Z"
   },
   {
    "duration": 11,
    "start_time": "2023-02-16T21:09:10.805Z"
   },
   {
    "duration": 5,
    "start_time": "2023-02-16T21:09:10.818Z"
   },
   {
    "duration": 633,
    "start_time": "2023-02-16T21:09:10.825Z"
   },
   {
    "duration": 4,
    "start_time": "2023-02-16T21:09:11.459Z"
   },
   {
    "duration": 27,
    "start_time": "2023-02-16T21:09:11.465Z"
   },
   {
    "duration": 744,
    "start_time": "2023-02-16T21:09:11.494Z"
   },
   {
    "duration": 128,
    "start_time": "2023-02-16T21:09:12.240Z"
   },
   {
    "duration": 1111,
    "start_time": "2023-02-17T16:28:37.634Z"
   },
   {
    "duration": 209,
    "start_time": "2023-02-17T16:28:38.747Z"
   },
   {
    "duration": 47,
    "start_time": "2023-02-17T16:28:38.958Z"
   },
   {
    "duration": 5,
    "start_time": "2023-02-17T16:28:39.007Z"
   },
   {
    "duration": 8,
    "start_time": "2023-02-17T16:28:39.014Z"
   },
   {
    "duration": 16,
    "start_time": "2023-02-17T16:28:39.024Z"
   },
   {
    "duration": 11,
    "start_time": "2023-02-17T16:28:39.042Z"
   },
   {
    "duration": 11,
    "start_time": "2023-02-17T16:28:39.054Z"
   },
   {
    "duration": 36,
    "start_time": "2023-02-17T16:28:39.067Z"
   },
   {
    "duration": 8,
    "start_time": "2023-02-17T16:28:39.106Z"
   },
   {
    "duration": 17,
    "start_time": "2023-02-17T16:28:39.116Z"
   },
   {
    "duration": 17,
    "start_time": "2023-02-17T16:28:39.135Z"
   },
   {
    "duration": 5,
    "start_time": "2023-02-17T16:28:39.154Z"
   },
   {
    "duration": 46,
    "start_time": "2023-02-17T16:28:39.161Z"
   },
   {
    "duration": 13,
    "start_time": "2023-02-17T16:28:39.209Z"
   },
   {
    "duration": 19,
    "start_time": "2023-02-17T16:28:39.224Z"
   },
   {
    "duration": 11,
    "start_time": "2023-02-17T16:28:39.245Z"
   },
   {
    "duration": 10,
    "start_time": "2023-02-17T16:28:39.257Z"
   },
   {
    "duration": 32,
    "start_time": "2023-02-17T16:28:39.269Z"
   },
   {
    "duration": 11,
    "start_time": "2023-02-17T16:28:39.303Z"
   },
   {
    "duration": 9,
    "start_time": "2023-02-17T16:28:39.315Z"
   },
   {
    "duration": 10,
    "start_time": "2023-02-17T16:28:39.326Z"
   },
   {
    "duration": 8,
    "start_time": "2023-02-17T16:28:39.338Z"
   },
   {
    "duration": 7,
    "start_time": "2023-02-17T16:28:39.347Z"
   },
   {
    "duration": 15,
    "start_time": "2023-02-17T16:28:39.356Z"
   },
   {
    "duration": 36,
    "start_time": "2023-02-17T16:28:39.373Z"
   },
   {
    "duration": 27,
    "start_time": "2023-02-17T16:28:39.411Z"
   },
   {
    "duration": 14,
    "start_time": "2023-02-17T16:28:39.442Z"
   },
   {
    "duration": 22,
    "start_time": "2023-02-17T16:28:39.458Z"
   },
   {
    "duration": 7,
    "start_time": "2023-02-17T16:28:39.500Z"
   },
   {
    "duration": 27,
    "start_time": "2023-02-17T16:28:39.509Z"
   },
   {
    "duration": 7,
    "start_time": "2023-02-17T16:28:39.538Z"
   },
   {
    "duration": 26,
    "start_time": "2023-02-17T16:28:39.546Z"
   },
   {
    "duration": 41,
    "start_time": "2023-02-17T16:28:39.574Z"
   },
   {
    "duration": 16,
    "start_time": "2023-02-17T16:28:39.617Z"
   },
   {
    "duration": 10,
    "start_time": "2023-02-17T16:28:39.635Z"
   },
   {
    "duration": 11,
    "start_time": "2023-02-17T16:28:39.647Z"
   },
   {
    "duration": 16,
    "start_time": "2023-02-17T16:28:39.659Z"
   },
   {
    "duration": 12,
    "start_time": "2023-02-17T16:28:39.677Z"
   },
   {
    "duration": 14,
    "start_time": "2023-02-17T16:28:39.700Z"
   },
   {
    "duration": 11,
    "start_time": "2023-02-17T16:28:39.716Z"
   },
   {
    "duration": 1894,
    "start_time": "2023-02-17T16:28:39.729Z"
   },
   {
    "duration": 141,
    "start_time": "2023-02-17T16:28:41.625Z"
   },
   {
    "duration": 453,
    "start_time": "2023-02-17T16:28:41.767Z"
   },
   {
    "duration": 8,
    "start_time": "2023-02-17T16:28:42.223Z"
   },
   {
    "duration": 68,
    "start_time": "2023-02-17T16:28:42.233Z"
   },
   {
    "duration": 31,
    "start_time": "2023-02-17T16:28:42.303Z"
   },
   {
    "duration": 5,
    "start_time": "2023-02-17T16:28:42.336Z"
   },
   {
    "duration": 23,
    "start_time": "2023-02-17T16:28:42.343Z"
   },
   {
    "duration": 7,
    "start_time": "2023-02-17T16:28:42.368Z"
   },
   {
    "duration": 36,
    "start_time": "2023-02-17T16:28:42.377Z"
   },
   {
    "duration": 23,
    "start_time": "2023-02-17T16:28:42.415Z"
   },
   {
    "duration": 14,
    "start_time": "2023-02-17T16:28:42.440Z"
   },
   {
    "duration": 12,
    "start_time": "2023-02-17T16:28:42.456Z"
   },
   {
    "duration": 26,
    "start_time": "2023-02-17T16:28:42.470Z"
   },
   {
    "duration": 29,
    "start_time": "2023-02-17T16:28:42.498Z"
   },
   {
    "duration": 9,
    "start_time": "2023-02-17T16:28:42.529Z"
   },
   {
    "duration": 26,
    "start_time": "2023-02-17T16:28:42.541Z"
   },
   {
    "duration": 36,
    "start_time": "2023-02-17T16:28:42.569Z"
   },
   {
    "duration": 9,
    "start_time": "2023-02-17T16:28:42.607Z"
   },
   {
    "duration": 11,
    "start_time": "2023-02-17T16:28:42.617Z"
   },
   {
    "duration": 9,
    "start_time": "2023-02-17T16:28:42.629Z"
   },
   {
    "duration": 222,
    "start_time": "2023-02-17T16:28:42.640Z"
   },
   {
    "duration": 17,
    "start_time": "2023-02-17T16:28:42.864Z"
   },
   {
    "duration": 19,
    "start_time": "2023-02-17T16:28:42.883Z"
   },
   {
    "duration": 808,
    "start_time": "2023-02-17T16:28:42.904Z"
   },
   {
    "duration": 5,
    "start_time": "2023-02-17T16:28:43.714Z"
   },
   {
    "duration": 30,
    "start_time": "2023-02-17T16:28:43.722Z"
   },
   {
    "duration": 1077,
    "start_time": "2023-02-17T16:28:43.754Z"
   },
   {
    "duration": 180,
    "start_time": "2023-02-17T16:28:44.833Z"
   },
   {
    "duration": 4,
    "start_time": "2023-02-18T02:03:26.734Z"
   },
   {
    "duration": 3,
    "start_time": "2023-02-18T02:03:31.219Z"
   },
   {
    "duration": 87,
    "start_time": "2023-02-18T02:22:31.583Z"
   },
   {
    "duration": 1702,
    "start_time": "2023-02-18T02:22:38.726Z"
   },
   {
    "duration": 222,
    "start_time": "2023-02-18T02:22:40.431Z"
   },
   {
    "duration": 129,
    "start_time": "2023-02-18T02:22:40.655Z"
   },
   {
    "duration": 4,
    "start_time": "2023-02-18T02:22:40.787Z"
   },
   {
    "duration": 9,
    "start_time": "2023-02-18T02:22:40.793Z"
   },
   {
    "duration": 26,
    "start_time": "2023-02-18T02:22:40.805Z"
   },
   {
    "duration": 13,
    "start_time": "2023-02-18T02:22:40.834Z"
   },
   {
    "duration": 16,
    "start_time": "2023-02-18T02:22:40.849Z"
   },
   {
    "duration": 28,
    "start_time": "2023-02-18T02:22:40.867Z"
   },
   {
    "duration": 10,
    "start_time": "2023-02-18T02:22:40.898Z"
   },
   {
    "duration": 22,
    "start_time": "2023-02-18T02:22:40.910Z"
   },
   {
    "duration": 14,
    "start_time": "2023-02-18T02:22:40.935Z"
   },
   {
    "duration": 6,
    "start_time": "2023-02-18T02:22:40.951Z"
   },
   {
    "duration": 46,
    "start_time": "2023-02-18T02:22:40.958Z"
   },
   {
    "duration": 16,
    "start_time": "2023-02-18T02:22:41.006Z"
   },
   {
    "duration": 6,
    "start_time": "2023-02-18T02:22:41.023Z"
   },
   {
    "duration": 22,
    "start_time": "2023-02-18T02:22:41.031Z"
   },
   {
    "duration": 43,
    "start_time": "2023-02-18T02:22:41.055Z"
   },
   {
    "duration": 8,
    "start_time": "2023-02-18T02:22:41.100Z"
   },
   {
    "duration": 6,
    "start_time": "2023-02-18T02:22:41.110Z"
   },
   {
    "duration": 8,
    "start_time": "2023-02-18T02:22:41.117Z"
   },
   {
    "duration": 6,
    "start_time": "2023-02-18T02:22:41.126Z"
   },
   {
    "duration": 5,
    "start_time": "2023-02-18T02:22:41.134Z"
   },
   {
    "duration": 6,
    "start_time": "2023-02-18T02:22:41.141Z"
   },
   {
    "duration": 43,
    "start_time": "2023-02-18T02:22:41.149Z"
   },
   {
    "duration": 17,
    "start_time": "2023-02-18T02:22:41.195Z"
   },
   {
    "duration": 36,
    "start_time": "2023-02-18T02:22:41.214Z"
   },
   {
    "duration": 46,
    "start_time": "2023-02-18T02:22:41.256Z"
   },
   {
    "duration": 18,
    "start_time": "2023-02-18T02:22:41.304Z"
   },
   {
    "duration": 25,
    "start_time": "2023-02-18T02:22:41.324Z"
   },
   {
    "duration": 17,
    "start_time": "2023-02-18T02:22:41.351Z"
   },
   {
    "duration": 38,
    "start_time": "2023-02-18T02:22:41.392Z"
   },
   {
    "duration": 20,
    "start_time": "2023-02-18T02:22:41.432Z"
   },
   {
    "duration": 21,
    "start_time": "2023-02-18T02:22:41.454Z"
   },
   {
    "duration": 21,
    "start_time": "2023-02-18T02:22:41.477Z"
   },
   {
    "duration": 14,
    "start_time": "2023-02-18T02:22:41.500Z"
   },
   {
    "duration": 35,
    "start_time": "2023-02-18T02:22:41.517Z"
   },
   {
    "duration": 12,
    "start_time": "2023-02-18T02:22:41.555Z"
   },
   {
    "duration": 38,
    "start_time": "2023-02-18T02:22:41.569Z"
   },
   {
    "duration": 1841,
    "start_time": "2023-02-18T02:22:41.609Z"
   },
   {
    "duration": 157,
    "start_time": "2023-02-18T02:22:43.452Z"
   },
   {
    "duration": 401,
    "start_time": "2023-02-18T02:22:43.611Z"
   },
   {
    "duration": 8,
    "start_time": "2023-02-18T02:22:44.014Z"
   },
   {
    "duration": 16,
    "start_time": "2023-02-18T02:22:44.024Z"
   },
   {
    "duration": 18,
    "start_time": "2023-02-18T02:22:44.043Z"
   },
   {
    "duration": 29,
    "start_time": "2023-02-18T02:22:44.064Z"
   },
   {
    "duration": 9,
    "start_time": "2023-02-18T02:22:44.095Z"
   },
   {
    "duration": 3,
    "start_time": "2023-02-18T02:22:44.106Z"
   },
   {
    "duration": 12,
    "start_time": "2023-02-18T02:22:44.111Z"
   },
   {
    "duration": 19,
    "start_time": "2023-02-18T02:22:44.125Z"
   },
   {
    "duration": 8,
    "start_time": "2023-02-18T02:22:44.146Z"
   },
   {
    "duration": 37,
    "start_time": "2023-02-18T02:22:44.156Z"
   },
   {
    "duration": 27,
    "start_time": "2023-02-18T02:22:44.195Z"
   },
   {
    "duration": 22,
    "start_time": "2023-02-18T02:22:44.223Z"
   },
   {
    "duration": 8,
    "start_time": "2023-02-18T02:22:44.248Z"
   },
   {
    "duration": 39,
    "start_time": "2023-02-18T02:22:44.259Z"
   },
   {
    "duration": 7,
    "start_time": "2023-02-18T02:22:44.300Z"
   },
   {
    "duration": 13,
    "start_time": "2023-02-18T02:22:44.309Z"
   },
   {
    "duration": 7,
    "start_time": "2023-02-18T02:22:44.324Z"
   },
   {
    "duration": 176,
    "start_time": "2023-02-18T02:22:44.332Z"
   },
   {
    "duration": 4,
    "start_time": "2023-02-18T02:22:44.510Z"
   },
   {
    "duration": 171,
    "start_time": "2023-02-18T02:22:44.517Z"
   },
   {
    "duration": 10,
    "start_time": "2023-02-18T02:22:44.692Z"
   },
   {
    "duration": 4,
    "start_time": "2023-02-18T02:22:44.704Z"
   },
   {
    "duration": 177,
    "start_time": "2023-02-18T02:22:44.710Z"
   },
   {
    "duration": 937,
    "start_time": "2023-02-18T02:22:44.892Z"
   },
   {
    "duration": 5,
    "start_time": "2023-02-18T02:22:45.832Z"
   },
   {
    "duration": 30,
    "start_time": "2023-02-18T02:22:45.839Z"
   },
   {
    "duration": 845,
    "start_time": "2023-02-18T02:22:45.871Z"
   },
   {
    "duration": 143,
    "start_time": "2023-02-18T02:22:46.718Z"
   },
   {
    "duration": 166,
    "start_time": "2023-02-18T02:25:09.445Z"
   },
   {
    "duration": 149,
    "start_time": "2023-02-18T02:30:43.955Z"
   },
   {
    "duration": 388,
    "start_time": "2023-02-18T02:32:30.215Z"
   },
   {
    "duration": 4,
    "start_time": "2023-02-18T02:34:00.796Z"
   },
   {
    "duration": 5,
    "start_time": "2023-02-18T02:34:10.204Z"
   },
   {
    "duration": 74,
    "start_time": "2023-02-18T02:34:23.828Z"
   },
   {
    "duration": 26,
    "start_time": "2023-02-18T02:34:33.744Z"
   },
   {
    "duration": 6,
    "start_time": "2023-02-18T02:34:45.377Z"
   },
   {
    "duration": 5,
    "start_time": "2023-02-18T02:34:56.532Z"
   },
   {
    "duration": 4,
    "start_time": "2023-02-18T02:35:02.996Z"
   },
   {
    "duration": 344,
    "start_time": "2023-02-18T02:35:15.368Z"
   },
   {
    "duration": 93,
    "start_time": "2023-02-18T02:35:28.536Z"
   },
   {
    "duration": 5,
    "start_time": "2023-02-18T02:35:50.864Z"
   },
   {
    "duration": 20,
    "start_time": "2023-02-18T02:38:00.529Z"
   },
   {
    "duration": 21,
    "start_time": "2023-02-18T02:41:20.712Z"
   },
   {
    "duration": 17,
    "start_time": "2023-02-18T02:41:38.601Z"
   },
   {
    "duration": 17,
    "start_time": "2023-02-18T02:41:48.640Z"
   },
   {
    "duration": 52,
    "start_time": "2023-02-18T02:42:18.772Z"
   },
   {
    "duration": 7,
    "start_time": "2023-02-18T02:44:37.452Z"
   },
   {
    "duration": 44,
    "start_time": "2023-02-18T02:44:40.262Z"
   },
   {
    "duration": 3,
    "start_time": "2023-02-18T02:45:40.134Z"
   },
   {
    "duration": 207,
    "start_time": "2023-02-18T02:45:40.140Z"
   },
   {
    "duration": 22,
    "start_time": "2023-02-18T02:45:40.349Z"
   },
   {
    "duration": 40,
    "start_time": "2023-02-18T02:45:40.393Z"
   },
   {
    "duration": 7,
    "start_time": "2023-02-18T02:45:40.436Z"
   },
   {
    "duration": 6,
    "start_time": "2023-02-18T02:45:40.444Z"
   },
   {
    "duration": 7,
    "start_time": "2023-02-18T02:45:40.451Z"
   },
   {
    "duration": 15,
    "start_time": "2023-02-18T02:45:40.460Z"
   },
   {
    "duration": 22,
    "start_time": "2023-02-18T02:45:40.476Z"
   },
   {
    "duration": 11,
    "start_time": "2023-02-18T02:45:40.499Z"
   },
   {
    "duration": 4,
    "start_time": "2023-02-18T02:45:40.512Z"
   },
   {
    "duration": 7,
    "start_time": "2023-02-18T02:45:40.518Z"
   },
   {
    "duration": 15,
    "start_time": "2023-02-18T02:45:40.526Z"
   },
   {
    "duration": 14,
    "start_time": "2023-02-18T02:45:40.543Z"
   },
   {
    "duration": 34,
    "start_time": "2023-02-18T02:45:40.559Z"
   },
   {
    "duration": 9,
    "start_time": "2023-02-18T02:45:40.595Z"
   },
   {
    "duration": 15,
    "start_time": "2023-02-18T02:45:40.606Z"
   },
   {
    "duration": 5,
    "start_time": "2023-02-18T02:45:40.622Z"
   },
   {
    "duration": 17,
    "start_time": "2023-02-18T02:45:40.628Z"
   },
   {
    "duration": 9,
    "start_time": "2023-02-18T02:45:40.647Z"
   },
   {
    "duration": 35,
    "start_time": "2023-02-18T02:45:40.657Z"
   },
   {
    "duration": 3,
    "start_time": "2023-02-18T02:45:40.694Z"
   },
   {
    "duration": 9,
    "start_time": "2023-02-18T02:45:40.699Z"
   },
   {
    "duration": 7,
    "start_time": "2023-02-18T02:45:40.710Z"
   },
   {
    "duration": 6,
    "start_time": "2023-02-18T02:45:40.718Z"
   },
   {
    "duration": 7,
    "start_time": "2023-02-18T02:45:40.726Z"
   },
   {
    "duration": 7,
    "start_time": "2023-02-18T02:45:40.735Z"
   },
   {
    "duration": 11,
    "start_time": "2023-02-18T02:45:40.744Z"
   },
   {
    "duration": 37,
    "start_time": "2023-02-18T02:45:40.756Z"
   },
   {
    "duration": 22,
    "start_time": "2023-02-18T02:45:40.794Z"
   },
   {
    "duration": 12,
    "start_time": "2023-02-18T02:45:40.818Z"
   },
   {
    "duration": 14,
    "start_time": "2023-02-18T02:45:40.831Z"
   },
   {
    "duration": 7,
    "start_time": "2023-02-18T02:45:40.846Z"
   },
   {
    "duration": 49,
    "start_time": "2023-02-18T02:45:40.854Z"
   },
   {
    "duration": 5,
    "start_time": "2023-02-18T02:45:40.904Z"
   },
   {
    "duration": 4,
    "start_time": "2023-02-18T02:45:40.911Z"
   },
   {
    "duration": 14,
    "start_time": "2023-02-18T02:45:40.917Z"
   },
   {
    "duration": 8,
    "start_time": "2023-02-18T02:45:40.933Z"
   },
   {
    "duration": 13,
    "start_time": "2023-02-18T02:45:40.942Z"
   },
   {
    "duration": 6,
    "start_time": "2023-02-18T02:45:40.957Z"
   },
   {
    "duration": 5,
    "start_time": "2023-02-18T02:45:40.992Z"
   },
   {
    "duration": 1712,
    "start_time": "2023-02-18T02:45:40.999Z"
   },
   {
    "duration": 130,
    "start_time": "2023-02-18T02:45:42.712Z"
   },
   {
    "duration": 381,
    "start_time": "2023-02-18T02:45:42.844Z"
   },
   {
    "duration": 7,
    "start_time": "2023-02-18T02:45:43.227Z"
   },
   {
    "duration": 14,
    "start_time": "2023-02-18T02:45:43.236Z"
   },
   {
    "duration": 24,
    "start_time": "2023-02-18T02:45:43.251Z"
   },
   {
    "duration": 16,
    "start_time": "2023-02-18T02:45:43.276Z"
   },
   {
    "duration": 9,
    "start_time": "2023-02-18T02:45:43.294Z"
   },
   {
    "duration": 3,
    "start_time": "2023-02-18T02:45:43.304Z"
   },
   {
    "duration": 13,
    "start_time": "2023-02-18T02:45:43.308Z"
   },
   {
    "duration": 25,
    "start_time": "2023-02-18T02:45:43.323Z"
   },
   {
    "duration": 8,
    "start_time": "2023-02-18T02:45:43.350Z"
   },
   {
    "duration": 7,
    "start_time": "2023-02-18T02:45:43.359Z"
   },
   {
    "duration": 26,
    "start_time": "2023-02-18T02:45:43.367Z"
   },
   {
    "duration": 16,
    "start_time": "2023-02-18T02:45:43.394Z"
   },
   {
    "duration": 4,
    "start_time": "2023-02-18T02:45:43.412Z"
   },
   {
    "duration": 10,
    "start_time": "2023-02-18T02:45:43.418Z"
   },
   {
    "duration": 6,
    "start_time": "2023-02-18T02:45:43.430Z"
   },
   {
    "duration": 4,
    "start_time": "2023-02-18T02:45:43.438Z"
   },
   {
    "duration": 6,
    "start_time": "2023-02-18T02:45:43.444Z"
   },
   {
    "duration": 18,
    "start_time": "2023-02-18T02:45:43.451Z"
   },
   {
    "duration": 150,
    "start_time": "2023-02-18T02:45:43.492Z"
   },
   {
    "duration": 4,
    "start_time": "2023-02-18T02:45:43.643Z"
   },
   {
    "duration": 151,
    "start_time": "2023-02-18T02:45:43.649Z"
   },
   {
    "duration": 11,
    "start_time": "2023-02-18T02:45:43.803Z"
   },
   {
    "duration": 5,
    "start_time": "2023-02-18T02:45:43.815Z"
   },
   {
    "duration": 161,
    "start_time": "2023-02-18T02:45:43.822Z"
   },
   {
    "duration": 143,
    "start_time": "2023-02-18T02:45:43.991Z"
   },
   {
    "duration": 165,
    "start_time": "2023-02-18T02:45:44.136Z"
   },
   {
    "duration": 766,
    "start_time": "2023-02-18T02:45:44.303Z"
   },
   {
    "duration": 5,
    "start_time": "2023-02-18T02:45:45.070Z"
   },
   {
    "duration": 25,
    "start_time": "2023-02-18T02:45:45.076Z"
   },
   {
    "duration": 647,
    "start_time": "2023-02-18T02:45:45.102Z"
   },
   {
    "duration": 418,
    "start_time": "2023-02-18T02:45:45.751Z"
   },
   {
    "duration": 3,
    "start_time": "2023-02-18T02:45:46.171Z"
   },
   {
    "duration": 20,
    "start_time": "2023-02-18T02:45:46.176Z"
   },
   {
    "duration": 26,
    "start_time": "2023-02-18T02:45:46.197Z"
   },
   {
    "duration": 7,
    "start_time": "2023-02-18T02:45:46.225Z"
   },
   {
    "duration": 9,
    "start_time": "2023-02-18T02:45:46.233Z"
   },
   {
    "duration": 6,
    "start_time": "2023-02-18T02:45:46.243Z"
   },
   {
    "duration": 266,
    "start_time": "2023-02-18T02:45:46.251Z"
   },
   {
    "duration": 101,
    "start_time": "2023-02-18T02:45:46.519Z"
   },
   {
    "duration": 5,
    "start_time": "2023-02-18T02:45:46.622Z"
   },
   {
    "duration": 3,
    "start_time": "2023-02-18T02:51:21.468Z"
   },
   {
    "duration": 320,
    "start_time": "2023-02-18T02:51:21.475Z"
   },
   {
    "duration": 29,
    "start_time": "2023-02-18T02:51:21.797Z"
   },
   {
    "duration": 40,
    "start_time": "2023-02-18T02:51:21.828Z"
   },
   {
    "duration": 6,
    "start_time": "2023-02-18T02:51:21.871Z"
   },
   {
    "duration": 7,
    "start_time": "2023-02-18T02:51:21.879Z"
   },
   {
    "duration": 8,
    "start_time": "2023-02-18T02:51:21.887Z"
   },
   {
    "duration": 18,
    "start_time": "2023-02-18T02:51:21.896Z"
   },
   {
    "duration": 10,
    "start_time": "2023-02-18T02:51:21.916Z"
   },
   {
    "duration": 10,
    "start_time": "2023-02-18T02:51:21.928Z"
   },
   {
    "duration": 4,
    "start_time": "2023-02-18T02:51:22.052Z"
   },
   {
    "duration": 12,
    "start_time": "2023-02-18T02:51:22.058Z"
   },
   {
    "duration": 20,
    "start_time": "2023-02-18T02:51:22.072Z"
   },
   {
    "duration": 15,
    "start_time": "2023-02-18T02:51:22.094Z"
   },
   {
    "duration": 5,
    "start_time": "2023-02-18T02:51:22.110Z"
   },
   {
    "duration": 14,
    "start_time": "2023-02-18T02:51:22.116Z"
   },
   {
    "duration": 12,
    "start_time": "2023-02-18T02:51:22.131Z"
   },
   {
    "duration": 4,
    "start_time": "2023-02-18T02:51:22.145Z"
   },
   {
    "duration": 51,
    "start_time": "2023-02-18T02:51:22.151Z"
   },
   {
    "duration": 11,
    "start_time": "2023-02-18T02:51:22.204Z"
   },
   {
    "duration": 5,
    "start_time": "2023-02-18T02:51:22.216Z"
   },
   {
    "duration": 6,
    "start_time": "2023-02-18T02:51:22.223Z"
   },
   {
    "duration": 9,
    "start_time": "2023-02-18T02:51:22.231Z"
   },
   {
    "duration": 9,
    "start_time": "2023-02-18T02:51:22.241Z"
   },
   {
    "duration": 5,
    "start_time": "2023-02-18T02:51:22.251Z"
   },
   {
    "duration": 36,
    "start_time": "2023-02-18T02:51:22.257Z"
   },
   {
    "duration": 3,
    "start_time": "2023-02-18T02:51:22.295Z"
   },
   {
    "duration": 20,
    "start_time": "2023-02-18T02:51:22.300Z"
   },
   {
    "duration": 18,
    "start_time": "2023-02-18T02:51:22.324Z"
   },
   {
    "duration": 23,
    "start_time": "2023-02-18T02:51:22.343Z"
   },
   {
    "duration": 36,
    "start_time": "2023-02-18T02:51:22.368Z"
   },
   {
    "duration": 16,
    "start_time": "2023-02-18T02:51:22.405Z"
   },
   {
    "duration": 9,
    "start_time": "2023-02-18T02:51:22.423Z"
   },
   {
    "duration": 30,
    "start_time": "2023-02-18T02:51:22.434Z"
   },
   {
    "duration": 8,
    "start_time": "2023-02-18T02:51:22.492Z"
   },
   {
    "duration": 5,
    "start_time": "2023-02-18T02:51:22.502Z"
   },
   {
    "duration": 10,
    "start_time": "2023-02-18T02:51:22.508Z"
   },
   {
    "duration": 12,
    "start_time": "2023-02-18T02:51:22.520Z"
   },
   {
    "duration": 21,
    "start_time": "2023-02-18T02:51:22.533Z"
   },
   {
    "duration": 42,
    "start_time": "2023-02-18T02:51:22.556Z"
   },
   {
    "duration": 6,
    "start_time": "2023-02-18T02:51:22.600Z"
   },
   {
    "duration": 1677,
    "start_time": "2023-02-18T02:51:22.608Z"
   },
   {
    "duration": 259,
    "start_time": "2023-02-18T02:51:24.286Z"
   },
   {
    "duration": 381,
    "start_time": "2023-02-18T02:51:24.547Z"
   },
   {
    "duration": 6,
    "start_time": "2023-02-18T02:51:24.929Z"
   },
   {
    "duration": 14,
    "start_time": "2023-02-18T02:51:24.937Z"
   },
   {
    "duration": 16,
    "start_time": "2023-02-18T02:51:24.953Z"
   },
   {
    "duration": 6,
    "start_time": "2023-02-18T02:51:24.993Z"
   },
   {
    "duration": 3,
    "start_time": "2023-02-18T02:51:25.002Z"
   },
   {
    "duration": 17,
    "start_time": "2023-02-18T02:51:25.007Z"
   },
   {
    "duration": 10,
    "start_time": "2023-02-18T02:51:25.026Z"
   },
   {
    "duration": 16,
    "start_time": "2023-02-18T02:51:25.038Z"
   },
   {
    "duration": 37,
    "start_time": "2023-02-18T02:51:25.056Z"
   },
   {
    "duration": 18,
    "start_time": "2023-02-18T02:51:25.094Z"
   },
   {
    "duration": 16,
    "start_time": "2023-02-18T02:51:25.114Z"
   },
   {
    "duration": 7,
    "start_time": "2023-02-18T02:51:25.132Z"
   },
   {
    "duration": 9,
    "start_time": "2023-02-18T02:51:25.140Z"
   },
   {
    "duration": 23,
    "start_time": "2023-02-18T02:51:25.151Z"
   },
   {
    "duration": 17,
    "start_time": "2023-02-18T02:51:25.176Z"
   },
   {
    "duration": 6,
    "start_time": "2023-02-18T02:51:25.195Z"
   },
   {
    "duration": 20,
    "start_time": "2023-02-18T02:51:25.203Z"
   },
   {
    "duration": 182,
    "start_time": "2023-02-18T02:51:25.225Z"
   },
   {
    "duration": 4,
    "start_time": "2023-02-18T02:51:25.409Z"
   },
   {
    "duration": 168,
    "start_time": "2023-02-18T02:51:25.415Z"
   },
   {
    "duration": 17,
    "start_time": "2023-02-18T02:51:25.584Z"
   },
   {
    "duration": 5,
    "start_time": "2023-02-18T02:51:25.603Z"
   },
   {
    "duration": 186,
    "start_time": "2023-02-18T02:51:25.609Z"
   },
   {
    "duration": 180,
    "start_time": "2023-02-18T02:51:25.797Z"
   },
   {
    "duration": 209,
    "start_time": "2023-02-18T02:51:25.979Z"
   },
   {
    "duration": 654,
    "start_time": "2023-02-18T02:51:26.190Z"
   },
   {
    "duration": 4,
    "start_time": "2023-02-18T02:51:26.846Z"
   },
   {
    "duration": 15,
    "start_time": "2023-02-18T02:51:26.852Z"
   },
   {
    "duration": 781,
    "start_time": "2023-02-18T02:51:26.869Z"
   },
   {
    "duration": 377,
    "start_time": "2023-02-18T02:51:27.651Z"
   },
   {
    "duration": 5,
    "start_time": "2023-02-18T02:51:28.029Z"
   },
   {
    "duration": 7,
    "start_time": "2023-02-18T02:51:28.035Z"
   },
   {
    "duration": 27,
    "start_time": "2023-02-18T02:51:28.043Z"
   },
   {
    "duration": 23,
    "start_time": "2023-02-18T02:51:28.072Z"
   },
   {
    "duration": 6,
    "start_time": "2023-02-18T02:51:28.096Z"
   },
   {
    "duration": 6,
    "start_time": "2023-02-18T02:51:28.103Z"
   },
   {
    "duration": 255,
    "start_time": "2023-02-18T02:51:28.110Z"
   },
   {
    "duration": 106,
    "start_time": "2023-02-18T02:51:28.367Z"
   },
   {
    "duration": 13,
    "start_time": "2023-02-18T02:51:28.479Z"
   },
   {
    "duration": 275,
    "start_time": "2023-02-18T03:01:09.150Z"
   },
   {
    "duration": 76,
    "start_time": "2023-02-18T03:01:38.327Z"
   },
   {
    "duration": 6,
    "start_time": "2023-02-18T03:02:52.002Z"
   },
   {
    "duration": 40,
    "start_time": "2023-02-18T03:10:07.856Z"
   },
   {
    "duration": 8,
    "start_time": "2023-02-18T03:10:38.183Z"
   },
   {
    "duration": 77,
    "start_time": "2023-02-18T03:10:53.268Z"
   },
   {
    "duration": 9,
    "start_time": "2023-02-18T03:11:01.996Z"
   },
   {
    "duration": 6,
    "start_time": "2023-02-18T03:13:37.918Z"
   },
   {
    "duration": 163,
    "start_time": "2023-02-18T03:14:31.736Z"
   },
   {
    "duration": 10,
    "start_time": "2023-02-18T03:15:17.492Z"
   },
   {
    "duration": 4,
    "start_time": "2023-02-18T03:15:40.632Z"
   },
   {
    "duration": 259,
    "start_time": "2023-02-18T03:18:49.460Z"
   },
   {
    "duration": 11,
    "start_time": "2023-02-18T03:23:11.777Z"
   },
   {
    "duration": 12,
    "start_time": "2023-02-18T03:23:16.844Z"
   },
   {
    "duration": 11,
    "start_time": "2023-02-18T03:23:25.282Z"
   },
   {
    "duration": 5,
    "start_time": "2023-02-18T03:25:25.114Z"
   },
   {
    "duration": 163,
    "start_time": "2023-02-18T03:25:40.273Z"
   },
   {
    "duration": 154,
    "start_time": "2023-02-18T03:26:02.253Z"
   },
   {
    "duration": 163,
    "start_time": "2023-02-18T03:26:24.837Z"
   },
   {
    "duration": 25,
    "start_time": "2023-02-18T03:33:02.790Z"
   },
   {
    "duration": 157,
    "start_time": "2023-02-18T03:35:49.386Z"
   },
   {
    "duration": 154,
    "start_time": "2023-02-18T03:36:00.869Z"
   },
   {
    "duration": 145,
    "start_time": "2023-02-18T03:36:17.801Z"
   },
   {
    "duration": 3,
    "start_time": "2023-02-18T03:40:16.462Z"
   },
   {
    "duration": 215,
    "start_time": "2023-02-18T03:40:16.467Z"
   },
   {
    "duration": 21,
    "start_time": "2023-02-18T03:40:16.683Z"
   },
   {
    "duration": 68,
    "start_time": "2023-02-18T03:40:16.705Z"
   },
   {
    "duration": 6,
    "start_time": "2023-02-18T03:40:16.775Z"
   },
   {
    "duration": 9,
    "start_time": "2023-02-18T03:40:16.783Z"
   },
   {
    "duration": 10,
    "start_time": "2023-02-18T03:40:16.793Z"
   },
   {
    "duration": 34,
    "start_time": "2023-02-18T03:40:16.804Z"
   },
   {
    "duration": 10,
    "start_time": "2023-02-18T03:40:16.839Z"
   },
   {
    "duration": 21,
    "start_time": "2023-02-18T03:40:16.850Z"
   },
   {
    "duration": 9,
    "start_time": "2023-02-18T03:40:16.873Z"
   },
   {
    "duration": 21,
    "start_time": "2023-02-18T03:40:16.884Z"
   },
   {
    "duration": 17,
    "start_time": "2023-02-18T03:40:16.907Z"
   },
   {
    "duration": 14,
    "start_time": "2023-02-18T03:40:16.927Z"
   },
   {
    "duration": 5,
    "start_time": "2023-02-18T03:40:16.943Z"
   },
   {
    "duration": 15,
    "start_time": "2023-02-18T03:40:16.950Z"
   },
   {
    "duration": 30,
    "start_time": "2023-02-18T03:40:16.967Z"
   },
   {
    "duration": 5,
    "start_time": "2023-02-18T03:40:16.999Z"
   },
   {
    "duration": 20,
    "start_time": "2023-02-18T03:40:17.006Z"
   },
   {
    "duration": 10,
    "start_time": "2023-02-18T03:40:17.027Z"
   },
   {
    "duration": 7,
    "start_time": "2023-02-18T03:40:17.039Z"
   },
   {
    "duration": 4,
    "start_time": "2023-02-18T03:40:17.092Z"
   },
   {
    "duration": 10,
    "start_time": "2023-02-18T03:40:17.097Z"
   },
   {
    "duration": 4,
    "start_time": "2023-02-18T03:40:17.109Z"
   },
   {
    "duration": 5,
    "start_time": "2023-02-18T03:40:17.115Z"
   },
   {
    "duration": 11,
    "start_time": "2023-02-18T03:40:17.122Z"
   },
   {
    "duration": 4,
    "start_time": "2023-02-18T03:40:17.135Z"
   },
   {
    "duration": 12,
    "start_time": "2023-02-18T03:40:17.140Z"
   },
   {
    "duration": 19,
    "start_time": "2023-02-18T03:40:17.192Z"
   },
   {
    "duration": 25,
    "start_time": "2023-02-18T03:40:17.212Z"
   },
   {
    "duration": 65,
    "start_time": "2023-02-18T03:40:17.239Z"
   },
   {
    "duration": 16,
    "start_time": "2023-02-18T03:40:17.305Z"
   },
   {
    "duration": 8,
    "start_time": "2023-02-18T03:40:17.323Z"
   },
   {
    "duration": 76,
    "start_time": "2023-02-18T03:40:17.332Z"
   },
   {
    "duration": 7,
    "start_time": "2023-02-18T03:40:17.410Z"
   },
   {
    "duration": 4,
    "start_time": "2023-02-18T03:40:17.421Z"
   },
   {
    "duration": 9,
    "start_time": "2023-02-18T03:40:17.427Z"
   },
   {
    "duration": 63,
    "start_time": "2023-02-18T03:40:17.438Z"
   },
   {
    "duration": 20,
    "start_time": "2023-02-18T03:40:17.503Z"
   },
   {
    "duration": 8,
    "start_time": "2023-02-18T03:40:17.524Z"
   },
   {
    "duration": 8,
    "start_time": "2023-02-18T03:40:17.534Z"
   },
   {
    "duration": 1789,
    "start_time": "2023-02-18T03:40:17.544Z"
   },
   {
    "duration": 134,
    "start_time": "2023-02-18T03:40:19.334Z"
   },
   {
    "duration": 398,
    "start_time": "2023-02-18T03:40:19.469Z"
   },
   {
    "duration": 6,
    "start_time": "2023-02-18T03:40:19.868Z"
   },
   {
    "duration": 26,
    "start_time": "2023-02-18T03:40:19.876Z"
   },
   {
    "duration": 20,
    "start_time": "2023-02-18T03:40:19.903Z"
   },
   {
    "duration": 8,
    "start_time": "2023-02-18T03:40:19.925Z"
   },
   {
    "duration": 3,
    "start_time": "2023-02-18T03:40:19.934Z"
   },
   {
    "duration": 11,
    "start_time": "2023-02-18T03:40:19.939Z"
   },
   {
    "duration": 10,
    "start_time": "2023-02-18T03:40:19.951Z"
   },
   {
    "duration": 30,
    "start_time": "2023-02-18T03:40:19.962Z"
   },
   {
    "duration": 154,
    "start_time": "2023-02-18T03:40:19.993Z"
   },
   {
    "duration": 21,
    "start_time": "2023-02-18T03:40:20.149Z"
   },
   {
    "duration": 20,
    "start_time": "2023-02-18T03:40:20.172Z"
   },
   {
    "duration": 6,
    "start_time": "2023-02-18T03:40:20.193Z"
   },
   {
    "duration": 9,
    "start_time": "2023-02-18T03:40:20.200Z"
   },
   {
    "duration": 7,
    "start_time": "2023-02-18T03:40:20.210Z"
   },
   {
    "duration": 6,
    "start_time": "2023-02-18T03:40:20.219Z"
   },
   {
    "duration": 13,
    "start_time": "2023-02-18T03:40:20.226Z"
   },
   {
    "duration": 163,
    "start_time": "2023-02-18T03:40:20.240Z"
   },
   {
    "duration": 4,
    "start_time": "2023-02-18T03:40:20.405Z"
   },
   {
    "duration": 162,
    "start_time": "2023-02-18T03:40:20.410Z"
   },
   {
    "duration": 165,
    "start_time": "2023-02-18T03:40:20.574Z"
   },
   {
    "duration": 5,
    "start_time": "2023-02-18T03:40:20.741Z"
   },
   {
    "duration": 175,
    "start_time": "2023-02-18T03:40:20.747Z"
   },
   {
    "duration": 168,
    "start_time": "2023-02-18T03:40:20.924Z"
   },
   {
    "duration": 173,
    "start_time": "2023-02-18T03:40:21.093Z"
   },
   {
    "duration": 667,
    "start_time": "2023-02-18T03:40:21.268Z"
   },
   {
    "duration": 4,
    "start_time": "2023-02-18T03:40:21.936Z"
   },
   {
    "duration": 15,
    "start_time": "2023-02-18T03:40:21.941Z"
   },
   {
    "duration": 679,
    "start_time": "2023-02-18T03:40:21.957Z"
   },
   {
    "duration": 368,
    "start_time": "2023-02-18T03:40:22.637Z"
   },
   {
    "duration": 4,
    "start_time": "2023-02-18T03:40:23.007Z"
   },
   {
    "duration": 11,
    "start_time": "2023-02-18T03:40:23.013Z"
   },
   {
    "duration": 21,
    "start_time": "2023-02-18T03:40:23.026Z"
   },
   {
    "duration": 14,
    "start_time": "2023-02-18T03:40:23.048Z"
   },
   {
    "duration": 8,
    "start_time": "2023-02-18T03:40:23.064Z"
   },
   {
    "duration": 19,
    "start_time": "2023-02-18T03:40:23.073Z"
   },
   {
    "duration": 262,
    "start_time": "2023-02-18T03:40:23.094Z"
   },
   {
    "duration": 98,
    "start_time": "2023-02-18T03:40:23.358Z"
   },
   {
    "duration": 5,
    "start_time": "2023-02-18T03:40:23.458Z"
   },
   {
    "duration": 8,
    "start_time": "2023-02-18T03:45:08.032Z"
   },
   {
    "duration": 1164,
    "start_time": "2023-02-18T12:05:07.241Z"
   },
   {
    "duration": 359,
    "start_time": "2023-02-18T12:05:08.406Z"
   },
   {
    "duration": 24,
    "start_time": "2023-02-18T12:05:08.767Z"
   },
   {
    "duration": 67,
    "start_time": "2023-02-18T12:05:08.793Z"
   },
   {
    "duration": 8,
    "start_time": "2023-02-18T12:05:08.862Z"
   },
   {
    "duration": 10,
    "start_time": "2023-02-18T12:05:08.871Z"
   },
   {
    "duration": 10,
    "start_time": "2023-02-18T12:05:08.882Z"
   },
   {
    "duration": 17,
    "start_time": "2023-02-18T12:05:08.893Z"
   },
   {
    "duration": 10,
    "start_time": "2023-02-18T12:05:08.912Z"
   },
   {
    "duration": 12,
    "start_time": "2023-02-18T12:05:08.925Z"
   },
   {
    "duration": 5,
    "start_time": "2023-02-18T12:05:08.938Z"
   },
   {
    "duration": 9,
    "start_time": "2023-02-18T12:05:08.944Z"
   },
   {
    "duration": 40,
    "start_time": "2023-02-18T12:05:08.955Z"
   },
   {
    "duration": 15,
    "start_time": "2023-02-18T12:05:08.997Z"
   },
   {
    "duration": 5,
    "start_time": "2023-02-18T12:05:09.013Z"
   },
   {
    "duration": 21,
    "start_time": "2023-02-18T12:05:09.020Z"
   },
   {
    "duration": 11,
    "start_time": "2023-02-18T12:05:09.042Z"
   },
   {
    "duration": 5,
    "start_time": "2023-02-18T12:05:09.054Z"
   },
   {
    "duration": 50,
    "start_time": "2023-02-18T12:05:09.060Z"
   },
   {
    "duration": 10,
    "start_time": "2023-02-18T12:05:09.111Z"
   },
   {
    "duration": 8,
    "start_time": "2023-02-18T12:05:09.123Z"
   },
   {
    "duration": 6,
    "start_time": "2023-02-18T12:05:09.133Z"
   },
   {
    "duration": 8,
    "start_time": "2023-02-18T12:05:09.140Z"
   },
   {
    "duration": 9,
    "start_time": "2023-02-18T12:05:09.150Z"
   },
   {
    "duration": 12,
    "start_time": "2023-02-18T12:05:09.161Z"
   },
   {
    "duration": 20,
    "start_time": "2023-02-18T12:05:09.176Z"
   },
   {
    "duration": 9,
    "start_time": "2023-02-18T12:05:09.198Z"
   },
   {
    "duration": 14,
    "start_time": "2023-02-18T12:05:09.214Z"
   },
   {
    "duration": 20,
    "start_time": "2023-02-18T12:05:09.229Z"
   },
   {
    "duration": 43,
    "start_time": "2023-02-18T12:05:09.251Z"
   },
   {
    "duration": 14,
    "start_time": "2023-02-18T12:05:09.296Z"
   },
   {
    "duration": 18,
    "start_time": "2023-02-18T12:05:09.312Z"
   },
   {
    "duration": 6,
    "start_time": "2023-02-18T12:05:09.332Z"
   },
   {
    "duration": 21,
    "start_time": "2023-02-18T12:05:09.340Z"
   },
   {
    "duration": 7,
    "start_time": "2023-02-18T12:05:09.392Z"
   },
   {
    "duration": 19,
    "start_time": "2023-02-18T12:05:09.400Z"
   },
   {
    "duration": 16,
    "start_time": "2023-02-18T12:05:09.421Z"
   },
   {
    "duration": 10,
    "start_time": "2023-02-18T12:05:09.439Z"
   },
   {
    "duration": 15,
    "start_time": "2023-02-18T12:05:09.451Z"
   },
   {
    "duration": 25,
    "start_time": "2023-02-18T12:05:09.467Z"
   },
   {
    "duration": 6,
    "start_time": "2023-02-18T12:05:09.494Z"
   },
   {
    "duration": 2007,
    "start_time": "2023-02-18T12:05:09.502Z"
   },
   {
    "duration": 164,
    "start_time": "2023-02-18T12:05:11.511Z"
   },
   {
    "duration": 421,
    "start_time": "2023-02-18T12:05:11.676Z"
   },
   {
    "duration": 6,
    "start_time": "2023-02-18T12:05:12.099Z"
   },
   {
    "duration": 15,
    "start_time": "2023-02-18T12:05:12.106Z"
   },
   {
    "duration": 16,
    "start_time": "2023-02-18T12:05:12.123Z"
   },
   {
    "duration": 9,
    "start_time": "2023-02-18T12:05:12.141Z"
   },
   {
    "duration": 4,
    "start_time": "2023-02-18T12:05:12.152Z"
   },
   {
    "duration": 41,
    "start_time": "2023-02-18T12:05:12.158Z"
   },
   {
    "duration": 10,
    "start_time": "2023-02-18T12:05:12.201Z"
   },
   {
    "duration": 7,
    "start_time": "2023-02-18T12:05:12.212Z"
   },
   {
    "duration": 8,
    "start_time": "2023-02-18T12:05:12.220Z"
   },
   {
    "duration": 26,
    "start_time": "2023-02-18T12:05:12.230Z"
   },
   {
    "duration": 16,
    "start_time": "2023-02-18T12:05:12.257Z"
   },
   {
    "duration": 7,
    "start_time": "2023-02-18T12:05:12.291Z"
   },
   {
    "duration": 15,
    "start_time": "2023-02-18T12:05:12.299Z"
   },
   {
    "duration": 13,
    "start_time": "2023-02-18T12:05:12.316Z"
   },
   {
    "duration": 6,
    "start_time": "2023-02-18T12:05:12.331Z"
   },
   {
    "duration": 7,
    "start_time": "2023-02-18T12:05:12.338Z"
   },
   {
    "duration": 173,
    "start_time": "2023-02-18T12:05:12.347Z"
   },
   {
    "duration": 4,
    "start_time": "2023-02-18T12:05:12.522Z"
   },
   {
    "duration": 168,
    "start_time": "2023-02-18T12:05:12.527Z"
   },
   {
    "duration": 155,
    "start_time": "2023-02-18T12:05:12.697Z"
   },
   {
    "duration": 7,
    "start_time": "2023-02-18T12:05:12.854Z"
   },
   {
    "duration": 179,
    "start_time": "2023-02-18T12:05:12.863Z"
   },
   {
    "duration": 302,
    "start_time": "2023-02-18T12:05:13.044Z"
   },
   {
    "duration": 166,
    "start_time": "2023-02-18T12:05:13.348Z"
   },
   {
    "duration": 682,
    "start_time": "2023-02-18T12:05:13.516Z"
   },
   {
    "duration": 4,
    "start_time": "2023-02-18T12:05:14.200Z"
   },
   {
    "duration": 18,
    "start_time": "2023-02-18T12:05:14.206Z"
   },
   {
    "duration": 667,
    "start_time": "2023-02-18T12:05:14.225Z"
   },
   {
    "duration": 294,
    "start_time": "2023-02-18T12:05:14.893Z"
   },
   {
    "duration": 6,
    "start_time": "2023-02-18T12:05:15.188Z"
   },
   {
    "duration": 7,
    "start_time": "2023-02-18T12:05:15.196Z"
   },
   {
    "duration": 20,
    "start_time": "2023-02-18T12:05:15.206Z"
   },
   {
    "duration": 10,
    "start_time": "2023-02-18T12:05:15.228Z"
   },
   {
    "duration": 54,
    "start_time": "2023-02-18T12:05:15.240Z"
   },
   {
    "duration": 28,
    "start_time": "2023-02-18T12:05:15.296Z"
   },
   {
    "duration": 270,
    "start_time": "2023-02-18T12:05:15.326Z"
   },
   {
    "duration": 208,
    "start_time": "2023-02-18T12:05:15.598Z"
   },
   {
    "duration": 5,
    "start_time": "2023-02-18T12:05:15.811Z"
   },
   {
    "duration": 1186,
    "start_time": "2023-02-18T12:16:39.918Z"
   },
   {
    "duration": 214,
    "start_time": "2023-02-18T12:16:41.106Z"
   },
   {
    "duration": 26,
    "start_time": "2023-02-18T12:16:41.322Z"
   },
   {
    "duration": 40,
    "start_time": "2023-02-18T12:16:41.351Z"
   },
   {
    "duration": 6,
    "start_time": "2023-02-18T12:16:41.393Z"
   },
   {
    "duration": 15,
    "start_time": "2023-02-18T12:16:41.401Z"
   },
   {
    "duration": 5,
    "start_time": "2023-02-18T12:16:41.418Z"
   },
   {
    "duration": 21,
    "start_time": "2023-02-18T12:16:41.424Z"
   },
   {
    "duration": 10,
    "start_time": "2023-02-18T12:16:41.447Z"
   },
   {
    "duration": 11,
    "start_time": "2023-02-18T12:16:41.459Z"
   },
   {
    "duration": 20,
    "start_time": "2023-02-18T12:16:41.472Z"
   },
   {
    "duration": 5,
    "start_time": "2023-02-18T12:16:41.493Z"
   },
   {
    "duration": 16,
    "start_time": "2023-02-18T12:16:41.499Z"
   },
   {
    "duration": 45,
    "start_time": "2023-02-18T12:16:41.517Z"
   },
   {
    "duration": 5,
    "start_time": "2023-02-18T12:16:41.564Z"
   },
   {
    "duration": 17,
    "start_time": "2023-02-18T12:16:41.571Z"
   },
   {
    "duration": 19,
    "start_time": "2023-02-18T12:16:41.590Z"
   },
   {
    "duration": 5,
    "start_time": "2023-02-18T12:16:41.611Z"
   },
   {
    "duration": 21,
    "start_time": "2023-02-18T12:16:41.618Z"
   },
   {
    "duration": 14,
    "start_time": "2023-02-18T12:16:41.640Z"
   },
   {
    "duration": 5,
    "start_time": "2023-02-18T12:16:41.656Z"
   },
   {
    "duration": 3,
    "start_time": "2023-02-18T12:16:41.662Z"
   },
   {
    "duration": 26,
    "start_time": "2023-02-18T12:16:41.667Z"
   },
   {
    "duration": 3,
    "start_time": "2023-02-18T12:16:41.694Z"
   },
   {
    "duration": 5,
    "start_time": "2023-02-18T12:16:41.699Z"
   },
   {
    "duration": 7,
    "start_time": "2023-02-18T12:16:41.705Z"
   },
   {
    "duration": 5,
    "start_time": "2023-02-18T12:16:41.713Z"
   },
   {
    "duration": 9,
    "start_time": "2023-02-18T12:16:41.722Z"
   },
   {
    "duration": 18,
    "start_time": "2023-02-18T12:16:41.733Z"
   },
   {
    "duration": 54,
    "start_time": "2023-02-18T12:16:41.753Z"
   },
   {
    "duration": 14,
    "start_time": "2023-02-18T12:16:41.808Z"
   },
   {
    "duration": 16,
    "start_time": "2023-02-18T12:16:41.823Z"
   },
   {
    "duration": 12,
    "start_time": "2023-02-18T12:16:41.840Z"
   },
   {
    "duration": 47,
    "start_time": "2023-02-18T12:16:41.853Z"
   },
   {
    "duration": 6,
    "start_time": "2023-02-18T12:16:41.901Z"
   },
   {
    "duration": 9,
    "start_time": "2023-02-18T12:16:41.909Z"
   },
   {
    "duration": 9,
    "start_time": "2023-02-18T12:16:41.919Z"
   },
   {
    "duration": 8,
    "start_time": "2023-02-18T12:16:41.930Z"
   },
   {
    "duration": 18,
    "start_time": "2023-02-18T12:16:41.939Z"
   },
   {
    "duration": 34,
    "start_time": "2023-02-18T12:16:41.958Z"
   },
   {
    "duration": 5,
    "start_time": "2023-02-18T12:16:41.993Z"
   },
   {
    "duration": 1844,
    "start_time": "2023-02-18T12:16:41.999Z"
   },
   {
    "duration": 137,
    "start_time": "2023-02-18T12:16:43.844Z"
   },
   {
    "duration": 383,
    "start_time": "2023-02-18T12:16:43.982Z"
   },
   {
    "duration": 5,
    "start_time": "2023-02-18T12:16:44.367Z"
   },
   {
    "duration": 25,
    "start_time": "2023-02-18T12:16:44.373Z"
   },
   {
    "duration": 15,
    "start_time": "2023-02-18T12:16:44.400Z"
   },
   {
    "duration": 7,
    "start_time": "2023-02-18T12:16:44.416Z"
   },
   {
    "duration": 3,
    "start_time": "2023-02-18T12:16:44.425Z"
   },
   {
    "duration": 10,
    "start_time": "2023-02-18T12:16:44.430Z"
   },
   {
    "duration": 10,
    "start_time": "2023-02-18T12:16:44.442Z"
   },
   {
    "duration": 6,
    "start_time": "2023-02-18T12:16:44.454Z"
   },
   {
    "duration": 32,
    "start_time": "2023-02-18T12:16:44.461Z"
   },
   {
    "duration": 16,
    "start_time": "2023-02-18T12:16:44.494Z"
   },
   {
    "duration": 29,
    "start_time": "2023-02-18T12:16:44.511Z"
   },
   {
    "duration": 7,
    "start_time": "2023-02-18T12:16:44.542Z"
   },
   {
    "duration": 9,
    "start_time": "2023-02-18T12:16:44.550Z"
   },
   {
    "duration": 8,
    "start_time": "2023-02-18T12:16:44.561Z"
   },
   {
    "duration": 5,
    "start_time": "2023-02-18T12:16:44.591Z"
   },
   {
    "duration": 4,
    "start_time": "2023-02-18T12:16:44.598Z"
   },
   {
    "duration": 154,
    "start_time": "2023-02-18T12:16:44.604Z"
   },
   {
    "duration": 3,
    "start_time": "2023-02-18T12:16:44.760Z"
   },
   {
    "duration": 169,
    "start_time": "2023-02-18T12:16:44.765Z"
   },
   {
    "duration": 156,
    "start_time": "2023-02-18T12:16:44.936Z"
   },
   {
    "duration": 5,
    "start_time": "2023-02-18T12:16:45.094Z"
   },
   {
    "duration": 185,
    "start_time": "2023-02-18T12:16:45.101Z"
   },
   {
    "duration": 334,
    "start_time": "2023-02-18T12:16:45.291Z"
   },
   {
    "duration": 183,
    "start_time": "2023-02-18T12:16:45.627Z"
   },
   {
    "duration": 753,
    "start_time": "2023-02-18T12:16:45.812Z"
   },
   {
    "duration": 4,
    "start_time": "2023-02-18T12:16:46.567Z"
   },
   {
    "duration": 25,
    "start_time": "2023-02-18T12:16:46.572Z"
   },
   {
    "duration": 648,
    "start_time": "2023-02-18T12:16:46.599Z"
   },
   {
    "duration": 271,
    "start_time": "2023-02-18T12:16:47.249Z"
   },
   {
    "duration": 4,
    "start_time": "2023-02-18T12:16:47.521Z"
   },
   {
    "duration": 9,
    "start_time": "2023-02-18T12:16:47.526Z"
   },
   {
    "duration": 20,
    "start_time": "2023-02-18T12:16:47.536Z"
   },
   {
    "duration": 9,
    "start_time": "2023-02-18T12:16:47.558Z"
   },
   {
    "duration": 6,
    "start_time": "2023-02-18T12:16:47.568Z"
   },
   {
    "duration": 5,
    "start_time": "2023-02-18T12:16:47.591Z"
   },
   {
    "duration": 252,
    "start_time": "2023-02-18T12:16:47.597Z"
   },
   {
    "duration": 185,
    "start_time": "2023-02-18T12:16:47.850Z"
   },
   {
    "duration": 5,
    "start_time": "2023-02-18T12:16:48.040Z"
   },
   {
    "duration": 1216,
    "start_time": "2023-02-18T12:17:20.317Z"
   },
   {
    "duration": 271,
    "start_time": "2023-02-18T12:17:21.535Z"
   },
   {
    "duration": 24,
    "start_time": "2023-02-18T12:17:21.808Z"
   },
   {
    "duration": 80,
    "start_time": "2023-02-18T12:17:21.834Z"
   },
   {
    "duration": 14,
    "start_time": "2023-02-18T12:17:21.915Z"
   },
   {
    "duration": 26,
    "start_time": "2023-02-18T12:17:21.930Z"
   },
   {
    "duration": 11,
    "start_time": "2023-02-18T12:17:21.957Z"
   },
   {
    "duration": 30,
    "start_time": "2023-02-18T12:17:21.969Z"
   },
   {
    "duration": 12,
    "start_time": "2023-02-18T12:17:22.001Z"
   },
   {
    "duration": 23,
    "start_time": "2023-02-18T12:17:22.016Z"
   },
   {
    "duration": 12,
    "start_time": "2023-02-18T12:17:22.041Z"
   },
   {
    "duration": 14,
    "start_time": "2023-02-18T12:17:22.054Z"
   },
   {
    "duration": 36,
    "start_time": "2023-02-18T12:17:22.070Z"
   },
   {
    "duration": 36,
    "start_time": "2023-02-18T12:17:22.107Z"
   },
   {
    "duration": 7,
    "start_time": "2023-02-18T12:17:22.144Z"
   },
   {
    "duration": 33,
    "start_time": "2023-02-18T12:17:22.153Z"
   },
   {
    "duration": 28,
    "start_time": "2023-02-18T12:17:22.187Z"
   },
   {
    "duration": 14,
    "start_time": "2023-02-18T12:17:22.216Z"
   },
   {
    "duration": 38,
    "start_time": "2023-02-18T12:17:22.232Z"
   },
   {
    "duration": 15,
    "start_time": "2023-02-18T12:17:22.271Z"
   },
   {
    "duration": 19,
    "start_time": "2023-02-18T12:17:22.287Z"
   },
   {
    "duration": 29,
    "start_time": "2023-02-18T12:17:22.308Z"
   },
   {
    "duration": 10,
    "start_time": "2023-02-18T12:17:22.339Z"
   },
   {
    "duration": 12,
    "start_time": "2023-02-18T12:17:22.350Z"
   },
   {
    "duration": 72,
    "start_time": "2023-02-18T12:17:22.364Z"
   },
   {
    "duration": 185,
    "start_time": "2023-02-18T12:17:22.438Z"
   },
   {
    "duration": 38,
    "start_time": "2023-02-18T12:17:22.624Z"
   },
   {
    "duration": 23,
    "start_time": "2023-02-18T12:17:22.666Z"
   },
   {
    "duration": 24,
    "start_time": "2023-02-18T12:17:22.690Z"
   },
   {
    "duration": 27,
    "start_time": "2023-02-18T12:17:22.715Z"
   },
   {
    "duration": 14,
    "start_time": "2023-02-18T12:17:22.744Z"
   },
   {
    "duration": 36,
    "start_time": "2023-02-18T12:17:22.760Z"
   },
   {
    "duration": 17,
    "start_time": "2023-02-18T12:17:22.798Z"
   },
   {
    "duration": 25,
    "start_time": "2023-02-18T12:17:22.816Z"
   },
   {
    "duration": 11,
    "start_time": "2023-02-18T12:17:22.843Z"
   },
   {
    "duration": 13,
    "start_time": "2023-02-18T12:17:22.855Z"
   },
   {
    "duration": 17,
    "start_time": "2023-02-18T12:17:22.869Z"
   },
   {
    "duration": 19,
    "start_time": "2023-02-18T12:17:22.891Z"
   },
   {
    "duration": 17,
    "start_time": "2023-02-18T12:17:22.912Z"
   },
   {
    "duration": 12,
    "start_time": "2023-02-18T12:17:22.931Z"
   },
   {
    "duration": 12,
    "start_time": "2023-02-18T12:17:22.945Z"
   },
   {
    "duration": 1917,
    "start_time": "2023-02-18T12:17:22.958Z"
   },
   {
    "duration": 147,
    "start_time": "2023-02-18T12:17:24.876Z"
   },
   {
    "duration": 409,
    "start_time": "2023-02-18T12:17:25.024Z"
   },
   {
    "duration": 6,
    "start_time": "2023-02-18T12:17:25.435Z"
   },
   {
    "duration": 90,
    "start_time": "2023-02-18T12:17:25.443Z"
   },
   {
    "duration": 29,
    "start_time": "2023-02-18T12:17:25.535Z"
   },
   {
    "duration": 216,
    "start_time": "2023-02-18T12:17:25.566Z"
   },
   {
    "duration": 3,
    "start_time": "2023-02-18T12:17:25.784Z"
   },
   {
    "duration": 11,
    "start_time": "2023-02-18T12:17:25.789Z"
   },
   {
    "duration": 11,
    "start_time": "2023-02-18T12:17:25.801Z"
   },
   {
    "duration": 7,
    "start_time": "2023-02-18T12:17:25.814Z"
   },
   {
    "duration": 8,
    "start_time": "2023-02-18T12:17:25.822Z"
   },
   {
    "duration": 18,
    "start_time": "2023-02-18T12:17:25.832Z"
   },
   {
    "duration": 17,
    "start_time": "2023-02-18T12:17:25.852Z"
   },
   {
    "duration": 27,
    "start_time": "2023-02-18T12:17:25.870Z"
   },
   {
    "duration": 5,
    "start_time": "2023-02-18T12:17:25.898Z"
   },
   {
    "duration": 8,
    "start_time": "2023-02-18T12:17:25.904Z"
   },
   {
    "duration": 6,
    "start_time": "2023-02-18T12:17:25.913Z"
   },
   {
    "duration": 8,
    "start_time": "2023-02-18T12:17:25.921Z"
   },
   {
    "duration": 210,
    "start_time": "2023-02-18T12:17:25.930Z"
   },
   {
    "duration": 4,
    "start_time": "2023-02-18T12:17:26.142Z"
   },
   {
    "duration": 177,
    "start_time": "2023-02-18T12:17:26.148Z"
   },
   {
    "duration": 156,
    "start_time": "2023-02-18T12:17:26.327Z"
   },
   {
    "duration": 11,
    "start_time": "2023-02-18T12:17:26.484Z"
   },
   {
    "duration": 165,
    "start_time": "2023-02-18T12:17:26.496Z"
   },
   {
    "duration": 300,
    "start_time": "2023-02-18T12:17:26.662Z"
   },
   {
    "duration": 169,
    "start_time": "2023-02-18T12:17:26.963Z"
   },
   {
    "duration": 645,
    "start_time": "2023-02-18T12:17:27.134Z"
   },
   {
    "duration": 12,
    "start_time": "2023-02-18T12:17:27.780Z"
   },
   {
    "duration": 15,
    "start_time": "2023-02-18T12:17:27.794Z"
   },
   {
    "duration": 667,
    "start_time": "2023-02-18T12:17:27.811Z"
   },
   {
    "duration": 272,
    "start_time": "2023-02-18T12:17:28.480Z"
   },
   {
    "duration": 5,
    "start_time": "2023-02-18T12:17:28.755Z"
   },
   {
    "duration": 6,
    "start_time": "2023-02-18T12:17:28.761Z"
   },
   {
    "duration": 30,
    "start_time": "2023-02-18T12:17:28.769Z"
   },
   {
    "duration": 8,
    "start_time": "2023-02-18T12:17:28.801Z"
   },
   {
    "duration": 7,
    "start_time": "2023-02-18T12:17:28.811Z"
   },
   {
    "duration": 14,
    "start_time": "2023-02-18T12:17:28.819Z"
   },
   {
    "duration": 257,
    "start_time": "2023-02-18T12:17:28.834Z"
   },
   {
    "duration": 200,
    "start_time": "2023-02-18T12:17:29.093Z"
   },
   {
    "duration": 5,
    "start_time": "2023-02-18T12:17:29.299Z"
   }
  ],
  "kernelspec": {
   "display_name": "Python 3 (ipykernel)",
   "language": "python",
   "name": "python3"
  },
  "language_info": {
   "codemirror_mode": {
    "name": "ipython",
    "version": 3
   },
   "file_extension": ".py",
   "mimetype": "text/x-python",
   "name": "python",
   "nbconvert_exporter": "python",
   "pygments_lexer": "ipython3",
   "version": "3.9.13"
  },
  "toc": {
   "base_numbering": 1,
   "nav_menu": {},
   "number_sections": true,
   "sideBar": true,
   "skip_h1_title": false,
   "title_cell": "Table of Contents",
   "title_sidebar": "Contents",
   "toc_cell": false,
   "toc_position": {
    "height": "calc(100% - 180px)",
    "left": "10px",
    "top": "150px",
    "width": "199px"
   },
   "toc_section_display": true,
   "toc_window_display": true
  }
 },
 "nbformat": 4,
 "nbformat_minor": 5
}
